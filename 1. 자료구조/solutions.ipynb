{
 "cells": [
  {
   "attachments": {},
   "cell_type": "markdown",
   "metadata": {},
   "source": [
    "# week2 자료구조(230117~230118)\n",
    "### https://www.acmicpc.net/workbook/view/8999"
   ]
  },
  {
   "cell_type": "code",
   "execution_count": 6,
   "metadata": {},
   "outputs": [
    {
     "name": "stdout",
     "output_type": "stream",
     "text": [
      "2\n",
      "2\n",
      "0\n",
      "2\n",
      "1\n",
      "-1\n",
      "0\n",
      "1\n",
      "-1\n",
      "0\n",
      "3\n"
     ]
    }
   ],
   "source": [
    "#스택 #10828\n",
    "from collections import deque\n",
    "import sys\n",
    "# input = sys.stdin.readline\n",
    "\n",
    "stack = deque()\n",
    "\n",
    "n = int(input())\n",
    "for _ in range(n):\n",
    "    command, *args = input().split()\n",
    "    if command == 'push':\n",
    "        stack.append(int(args[0]))\n",
    "    elif command == 'pop':\n",
    "        print(stack.pop() if stack else -1)\n",
    "    elif command == 'size':\n",
    "        print(len(stack))\n",
    "    elif command == 'empty':\n",
    "        print(0 if stack else 1)\n",
    "    elif command == 'top':\n",
    "        print(stack[-1] if stack else -1)\n",
    "    else:\n",
    "        print('wrong command')"
   ]
  },
  {
   "cell_type": "code",
   "execution_count": 9,
   "metadata": {},
   "outputs": [
    {
     "name": "stdout",
     "output_type": "stream",
     "text": [
      "NO\n",
      "NO\n",
      "NO\n"
     ]
    }
   ],
   "source": [
    "# 괄호 #9012\n",
    "from collections import deque\n",
    "# import sys\n",
    "# input = sys.stdin.readline\n",
    "\n",
    "n = int(input())\n",
    "for _ in range(n):\n",
    "    stack = deque()\n",
    "    letters = input()\n",
    "    for l in letters:\n",
    "        if l == '(':\n",
    "            stack.append(0)\n",
    "        else:\n",
    "            if stack:\n",
    "                stack.pop()\n",
    "            else:\n",
    "                print(\"NO\")\n",
    "                break\n",
    "    else:\n",
    "        if not stack:\n",
    "            print(\"YES\")\n",
    "        else:\n",
    "            print(\"NO\")                "
   ]
  },
  {
   "cell_type": "code",
   "execution_count": 10,
   "metadata": {},
   "outputs": [],
   "source": [
    "# 제로 #백준10773\n",
    "from collections import deque\n",
    "import sys\n",
    "# input = sys.stdin.readline\n",
    "\n",
    "stack = deque()\n",
    "\n",
    "n = int(input())\n",
    "for _ in range(n):\n",
    "    m = int(input())\n",
    "    stack.append(m) if m>0 else stack.pop()\n",
    "print(sum(stack))"
   ]
  },
  {
   "cell_type": "code",
   "execution_count": 6,
   "metadata": {},
   "outputs": [
    {
     "name": "stdout",
     "output_type": "stream",
     "text": [
      "6.20\n"
     ]
    }
   ],
   "source": [
    "#후위 표기식2 #백준1935\n",
    "from collections import deque\n",
    "import sys\n",
    "# input = sys.stdin.readline\n",
    "\n",
    "n = int(input()) # 피연산자 개수\n",
    "T = input() # 후위 표기식   \n",
    "numbers = [] # 피연산자 리스트\n",
    "\n",
    "for _ in range(n):\n",
    "    numbers.append(int(input())) # 피연산자 입력 받기\n",
    "\n",
    "stack = deque() # 스택\n",
    "for i in range(len(T)):\n",
    "    if T[i] not in '+-*/':\n",
    "        stack.append(numbers[ord(T[i])-ord(\"A\")])\n",
    "    else:\n",
    "        n1 = stack.pop()\n",
    "        n2 = stack.pop()\n",
    "        if T[i] == '+':\n",
    "            stack.append(n2+n1)\n",
    "        elif T[i] == '-':\n",
    "            stack.append(n2-n1)\n",
    "        elif T[i] == '*':\n",
    "            stack.append(n2*n1)\n",
    "        elif T[i] == '/':\n",
    "            stack.append(n2/n1)\n",
    "print('%.2f' %stack[-1])"
   ]
  },
  {
   "cell_type": "code",
   "execution_count": 16,
   "metadata": {},
   "outputs": [
    {
     "name": "stdout",
     "output_type": "stream",
     "text": [
      "yxz\n"
     ]
    }
   ],
   "source": [
    "#에디터 #1406 # 2개의 stack #연결 리스트\n",
    "from collections import deque\n",
    "import sys\n",
    "input = sys.stdin.readline\n",
    "\n",
    "from sys import stdin\n",
    "\n",
    "stk1 = list(stdin.readline().strip())\n",
    "\n",
    "l_stack = deque(stk1)\n",
    "r_stack = deque()\n",
    "\n",
    "# l_stack = deque(input())\n",
    "# r_stack = deque()\n",
    "\n",
    "n = int(input())\n",
    "for _ in range(n):\n",
    "    command, *args = input().split()\n",
    "    if command == 'P':\n",
    "        l_stack.append(args[0])\n",
    "    elif command == 'B':\n",
    "        if l_stack:\n",
    "            l_stack.pop()\n",
    "    elif command == 'L':\n",
    "        if l_stack:\n",
    "            r_stack.append(l_stack.pop())\n",
    "    elif command == 'D':\n",
    "        if r_stack:\n",
    "            l_stack.append(r_stack.pop())\n",
    "    else:\n",
    "        print(\"unvalid command\")\n",
    "print(''.join(l_stack)+''.join(r_stack)[::-1])    "
   ]
  },
  {
   "cell_type": "code",
   "execution_count": 6,
   "metadata": {},
   "outputs": [
    {
     "name": "stdout",
     "output_type": "stream",
     "text": [
      "NO\n"
     ]
    }
   ],
   "source": [
    "# 스택 수열 #백준1874\n",
    "from collections import deque\n",
    "import sys\n",
    "# input = sys.stdin.readline\n",
    "\n",
    "n = int(input()) # 수열 길이\n",
    "numbers = [int(input()) for _ in range(n)] # 수열\n",
    "\n",
    "l_stack = deque() # stack\n",
    "r_stack = deque(range(1, n+1)) # 1~n\n",
    "\n",
    "possible = True\n",
    "ans = []\n",
    "\n",
    "for num in numbers:\n",
    "    while True:\n",
    "        if l_stack and l_stack[-1] == num:\n",
    "            l_stack.pop() # l_stack top == num이면 pop\n",
    "            ans.append(\"-\")\n",
    "            break\n",
    "        else:\n",
    "            if r_stack:\n",
    "                l_stack.append(r_stack.popleft()) # 아니면 append\n",
    "                ans.append(\"+\")\n",
    "            else:\n",
    "                possible = False\n",
    "                break\n",
    "\n",
    "if possible:\n",
    "    for i in ans:\n",
    "        print(i)\n",
    "else:\n",
    "    print(\"NO\")\n"
   ]
  },
  {
   "cell_type": "code",
   "execution_count": 15,
   "metadata": {},
   "outputs": [
    {
     "name": "stdout",
     "output_type": "stream",
     "text": [
      "24\n"
     ]
    }
   ],
   "source": [
    "# 쇠막대기 #10799 #경우의 수, 상황을 잘 나누자\n",
    "from collections import deque\n",
    "# import sys\n",
    "# input = sys.stdin.readline\n",
    "\n",
    "T = input() # 쇠막대기 레이저 배치 문자열\n",
    "stack = deque() # 유효 쇠막대기 스택\n",
    "ans = 0\n",
    "\n",
    "for i, j in enumerate(T):\n",
    "    if j == \"(\":\n",
    "        stack.append(j)\n",
    "        if T[i+1] != \")\":\n",
    "            ans += 1 #쇠막대기 추가\n",
    "    else:\n",
    "        if T[i-1] == \"(\":\n",
    "            stack.pop()\n",
    "            ans += len(stack) #쇠막대기 자르기\n",
    "        else:\n",
    "            stack.pop()\n",
    "print(ans)\n"
   ]
  },
  {
   "cell_type": "code",
   "execution_count": 2,
   "metadata": {},
   "outputs": [
    {
     "name": "stdout",
     "output_type": "stream",
     "text": [
      "0 0 2 2 4\n"
     ]
    }
   ],
   "source": [
    "#탑 #2493\n",
    "from collections import deque\n",
    "# import sys\n",
    "# input = sys.stdin.readline\n",
    "\n",
    "n = int(input()) # 탑 수\n",
    "heights = deque(list(map(int, input().split()))) # 탑 높이 deque\n",
    "stack = deque() # 만날 탑 후보들 (높이, 위치) #내림차순\n",
    "ans = []\n",
    "\n",
    "for index, h in enumerate(heights):\n",
    "    while stack:\n",
    "        if stack[-1][0] > h:\n",
    "            break # 가려지지 않는 탑 발생\n",
    "        else:\n",
    "            stack.pop() # 가려지는 탑 제거\n",
    "    if not stack:\n",
    "        ans.append(0) # 만나는 탑이 없는 경우 0 저장\n",
    "    else:\n",
    "        ans.append(stack[-1][1]) # 만나는 탑 위치 저장\n",
    "    stack.append((h, index+1))        \n",
    "print(*ans)    "
   ]
  },
  {
   "cell_type": "code",
   "execution_count": 5,
   "metadata": {},
   "outputs": [
    {
     "name": "stdout",
     "output_type": "stream",
     "text": [
      "5 7 7 -1\n"
     ]
    }
   ],
   "source": [
    "#오큰수 #17298\n",
    "from collections import deque\n",
    "# import sys\n",
    "# input = sys.stdin.readline\n",
    "\n",
    "n = int(input())\n",
    "numbers = list(map(int, input().split()))\n",
    "stack = deque() # 오른쪽 숫자 후보들 (숫자, 위치) 오름차순\n",
    "ans = deque()\n",
    "\n",
    "for index, num in enumerate(reversed(numbers)):\n",
    "    loc = n-index # 위치\n",
    "    while stack:\n",
    "        if stack[-1][0] > num:\n",
    "            break\n",
    "        else:\n",
    "            stack.pop()\n",
    "    if not stack:\n",
    "        ans.appendleft(-1)\n",
    "    else:\n",
    "        ans.appendleft(stack[-1][0])\n",
    "    stack.append((num, loc))\n",
    "print(*ans)\n"
   ]
  },
  {
   "cell_type": "code",
   "execution_count": 17,
   "metadata": {},
   "outputs": [
    {
     "name": "stdout",
     "output_type": "stream",
     "text": [
      "deque([3])\n",
      "deque([3, 2])\n",
      "deque([3])\n",
      "3\n"
     ]
    }
   ],
   "source": [
    "#크게 만들기 #2812\n",
    "\n",
    "from collections import deque\n",
    "# import sys\n",
    "# input = sys.stdin.readline\n",
    "\n",
    "n, m = map(int, input().split())\n",
    "a = [int(i) for i in input()]\n",
    "\n",
    "stack = deque()\n",
    "unused = []\n",
    "\n",
    "for num in a:\n",
    "    while stack and len(unused) < m and stack[-1] < num:\n",
    "        unused.append(stack.pop())\n",
    "    stack.append(num)\n",
    "while len(unused) != m:\n",
    "    unused.append(stack.pop())\n",
    "print(''.join(map(str, stack)))"
   ]
  },
  {
   "cell_type": "code",
   "execution_count": 21,
   "metadata": {},
   "outputs": [],
   "source": [
    "#큐 2 # 18258\n",
    "from collections import deque\n",
    "import sys\n",
    "# input = sys.stdin.readline\n",
    "\n",
    "n = int(input())\n",
    "que = deque()\n",
    "for _ in range(n):\n",
    "    command, *args = input().split()\n",
    "    if command == 'push':\n",
    "        que.append(int(args[0]))\n",
    "    elif command == 'pop':\n",
    "        print(que.popleft()) if que else print(-1)\n",
    "    elif command == 'size':\n",
    "        print(len(que))\n",
    "    elif command == 'empty':\n",
    "        print(0) if que else print(1)\n",
    "    elif command == 'front':\n",
    "        print(que[0]) if que else print(-1)\n",
    "    elif command == 'back':\n",
    "        print(que[-1]) if que else print(-1)\n",
    "\n"
   ]
  },
  {
   "cell_type": "code",
   "execution_count": 22,
   "metadata": {},
   "outputs": [
    {
     "ename": "IndentationError",
     "evalue": "expected an indented block after 'for' statement on line 7 (2297663373.py, line 7)",
     "output_type": "error",
     "traceback": [
      "\u001b[1;36m  Cell \u001b[1;32mIn [22], line 7\u001b[1;36m\u001b[0m\n\u001b[1;33m    for _ in range(n):\u001b[0m\n\u001b[1;37m                      ^\u001b[0m\n\u001b[1;31mIndentationError\u001b[0m\u001b[1;31m:\u001b[0m expected an indented block after 'for' statement on line 7\n"
     ]
    }
   ],
   "source": [
    "#큐 #10845\n",
    "from collections import deque\n",
    "import sys\n",
    "input = sys.stdin.readline\n",
    "\n",
    "n = int(input())\n",
    "que = deque()\n",
    "for _ in range(n):\n",
    "    command, *args = input().split()\n",
    "    if command == 'push':\n",
    "        que.append(int(args[0]))\n",
    "    elif command == 'pop':\n",
    "        print(que.popleft()) if que else print(-1)\n",
    "    elif command == 'size':\n",
    "        print(len(que))\n",
    "    elif command == 'empty':\n",
    "        print(0) if que else print(1)\n",
    "    elif command == 'front':\n",
    "        print(que[0]) if que else print(-1)\n",
    "    elif command == 'back':\n",
    "        print(que[-1]) if que else print(-1)"
   ]
  },
  {
   "cell_type": "code",
   "execution_count": 24,
   "metadata": {},
   "outputs": [
    {
     "name": "stdout",
     "output_type": "stream",
     "text": [
      "4\n"
     ]
    }
   ],
   "source": [
    "#카드2 #2164\n",
    "from collections import deque\n",
    "\n",
    "n = int(input())\n",
    "cards = deque(range(1, n+1))\n",
    "while len(cards) > 1:\n",
    "    cards.popleft()\n",
    "    cards.append(cards.popleft())\n",
    "print(cards[0])"
   ]
  },
  {
   "cell_type": "code",
   "execution_count": null,
   "metadata": {},
   "outputs": [],
   "source": [
    "#덱 #10866\n",
    "from collections import deque\n",
    "import sys\n",
    "input = sys.stdin.readline\n",
    "\n",
    "n = int(input())\n",
    "deq = deque()\n",
    "\n",
    "for _ in range(n):\n",
    "    command, *args = input().split()\n",
    "    if command == 'push_front':\n",
    "        deq.appendleft(int(args[0]))\n",
    "    elif command == 'push_back':\n",
    "        deq.append(int(args[0]))\n",
    "    elif command == 'pop_front':\n",
    "        print(deq.popleft()) if deq else print(-1)\n",
    "    elif command == 'pop_back':\n",
    "        print(deq.pop()) if deq else print(-1)\n",
    "    elif command == 'size':\n",
    "        print(len(deq))\n",
    "    elif command == 'empty':\n",
    "        print(1) if not deq else print(0)\n",
    "    elif command == 'front':\n",
    "        print(deq[0]) if deq else print(-1)\n",
    "    elif command == 'back':\n",
    "        print(deq[-1]) if deq else print(-1)"
   ]
  },
  {
   "cell_type": "code",
   "execution_count": 35,
   "metadata": {},
   "outputs": [
    {
     "name": "stdout",
     "output_type": "stream",
     "text": [
      "0\n"
     ]
    }
   ],
   "source": [
    "#회전하는큐 #1021\n",
    "from collections import deque\n",
    "import sys\n",
    "input = sys.stdin.readline\n",
    "\n",
    "n, m = map(int, input().split()) # 원소 수, 뽑을 갯수\n",
    "a = list(map(int, input().split())) # 뽑을 숫자 리스트\n",
    "\n",
    "deq = deque(range(1, n+1))\n",
    "ans = 0\n",
    "for i in a:\n",
    "    loc = deq.index(i) # 뽑을 숫자 위치\n",
    "    if loc < len(deq)//2+1: # 중앙 기준 좌측\n",
    "        for _ in range(loc):\n",
    "            deq.append(deq.popleft()) # 왼쪽으로 회전\n",
    "            ans += 1\n",
    "        deq.popleft()\n",
    "    else:\n",
    "        for _ in range(len(deq)-loc):\n",
    "            deq.appendleft(deq.pop()) # 오른쪽으로 회전\n",
    "            ans += 1\n",
    "        deq.popleft()\n",
    "print(ans)\n",
    "\n"
   ]
  },
  {
   "cell_type": "code",
   "execution_count": 43,
   "metadata": {},
   "outputs": [
    {
     "name": "stdout",
     "output_type": "stream",
     "text": [
      "5\n"
     ]
    }
   ],
   "source": [
    "# 프린터 큐 #1966\n",
    "from collections import deque\n",
    "import sys\n",
    "# input = sys.stdin.readline\n",
    "\n",
    "t = int(input())\n",
    "for _ in range(t):\n",
    "    n, m = map(int, input().split())\n",
    "    dq = deque(range(n))\n",
    "    s = deque(map(int, input().split()))\n",
    "    ans = 0\n",
    "    while True:\n",
    "        loc = s.index(max(s)) # 제일 중요한 문서의 위치\n",
    "        for i in range(loc):\n",
    "            dq.append(dq.popleft()) # 제일 중요한 문서 맨 앞으로\n",
    "            s.append(s.popleft()) # 중요도도 같이 회전\n",
    "        ans+=1 # 제일 중요한 문서 처리\n",
    "        s.popleft()\n",
    "        if dq.popleft() == m:\n",
    "            print(ans) # 찾는 대상이면 몇번째인지 출력\n",
    "            break"
   ]
  },
  {
   "cell_type": "code",
   "execution_count": 45,
   "metadata": {},
   "outputs": [
    {
     "name": "stdout",
     "output_type": "stream",
     "text": [
      "<3, 6, 2, 7, 5, 1, 4>\n"
     ]
    }
   ],
   "source": [
    "# 요세푸스 문제0 #11866\n",
    "from collections import deque\n",
    "import sys\n",
    "# input = sys.stdin.readline\n",
    "\n",
    "n, m = map(int, input().split())\n",
    "dq = deque(range(1, n+1))\n",
    "ans = []\n",
    "for _ in range(n):\n",
    "    for _ in range(m-1):\n",
    "        dq.append(dq.popleft())\n",
    "    ans.append(str(dq.popleft()))\n",
    "print('<{}>'.format(', '.join(ans)))\n"
   ]
  },
  {
   "cell_type": "code",
   "execution_count": 53,
   "metadata": {},
   "outputs": [
    {
     "name": "stdout",
     "output_type": "stream",
     "text": [
      "0\n",
      "1\n",
      "2\n",
      "12345678\n",
      "0\n"
     ]
    }
   ],
   "source": [
    "# 최소 힙 #1926\n",
    "import heapq\n",
    "# import sys\n",
    "# input = sys.stdin.readline\n",
    "\n",
    "heap = []\n",
    "heapq.heapify(heap)\n",
    "\n",
    "n = int(input())\n",
    "for _ in range(n):\n",
    "    x = int(input())\n",
    "    if x == 0:\n",
    "        print(heapq.heappop(heap)) if heap else print(0) #배열에서 가장 작은 값 출력하고 제거\n",
    "    else:\n",
    "        heapq.heappush(heap, x)\n"
   ]
  },
  {
   "cell_type": "code",
   "execution_count": 55,
   "metadata": {},
   "outputs": [
    {
     "name": "stdout",
     "output_type": "stream",
     "text": [
      "(1, -1)\n",
      "(1, 1)\n",
      "0\n",
      "(1, -1)\n",
      "(1, -1)\n",
      "(1, 1)\n",
      "(1, 1)\n",
      "(2, -2)\n",
      "(2, 2)\n",
      "0\n"
     ]
    }
   ],
   "source": [
    "# 절대값 힙 #11286\n",
    "import heapq\n",
    "# import sys\n",
    "# input = sys.stdin.readline\n",
    "\n",
    "heap = []\n",
    "\n",
    "n = int(input())\n",
    "for _ in range(n):\n",
    "    x = int(input())\n",
    "    if x == 0:\n",
    "        print(heapq.heappop(heap)[1]) if heap else print(0) # 0이라면 절댓값이 제일 작은 값을 출력하고 제거\n",
    "    else:\n",
    "        heapq.heappush(heap, (abs(x), x)) # 배열에 (중요도, x) 값을 추가\n"
   ]
  },
  {
   "cell_type": "code",
   "execution_count": 82,
   "metadata": {},
   "outputs": [],
   "source": [
    "#AC #5430\n",
    "from collections import deque\n",
    "import sys\n",
    "# input = sys.stdin.readline\n",
    "\n",
    "t = int(input())\n",
    "for _ in range(t):\n",
    "    commands = list(input())\n",
    "    n = int(input())\n",
    "    # T = input()\n",
    "    # a = deque([i for i in T[1::2]])\n",
    "    a = deque(sys.stdin.readline().rstrip()[1:-1].split(\",\"))\n",
    "    if n == 0:\n",
    "        a = deque()\n",
    "    has_error = False\n",
    "    reverse = False\n",
    "\n",
    "    for command in commands:\n",
    "        if command == 'R':\n",
    "            reverse = not reverse # 뒤집기\n",
    "        else:\n",
    "            if a:\n",
    "                a.popleft() if not reverse else a.pop() # 수 버리기\n",
    "            else:\n",
    "                has_error = True # 비면 에러 발생\n",
    "                break\n",
    "    print('[{}]'.format(','.join(a))) if not has_error else print('error')\n"
   ]
  },
  {
   "attachments": {},
   "cell_type": "markdown",
   "metadata": {},
   "source": [
    "# 암기할 코드 테스트"
   ]
  },
  {
   "attachments": {},
   "cell_type": "markdown",
   "metadata": {},
   "source": [
    "## 테스트"
   ]
  },
  {
   "attachments": {},
   "cell_type": "markdown",
   "metadata": {},
   "source": [
    "### 230216 테스트\n",
    "힙 연산 까먹고 있었음, 힙 관련 명령어 암기할 것\n",
    "\n",
    "f string 사용 방법 제대로 숙지할 것\n",
    "\n",
    "오큰수 문제 푸는데 30분 소요됨, 불필요한 정보를 정의하는 것부터 생각 시작하기"
   ]
  },
  {
   "cell_type": "code",
   "execution_count": null,
   "metadata": {},
   "outputs": [],
   "source": [
    "# 스택, 큐 만들기\n",
    "from collections import deque\n",
    "\n",
    "stack =deque()\n",
    "# 스택 값 넣기\n",
    "stack.append(1)\n",
    "# 스택 값 빼기\n",
    "if stack:\n",
    "    item = stack.pop()\n",
    "# 스택 비어있는 지 확인\n",
    "else:\n",
    "    print(\"is empty\")\n",
    "\n",
    "queue =deque()\n",
    "# 스택 값 넣기\n",
    "queue.append(1)\n",
    "# 스택 값 빼기\n",
    "if queue:\n",
    "    item = queue.popleft()\n",
    "# 스택 비어있는 지 확인\n",
    "else:\n",
    "    print(\"is empty\")\n"
   ]
  },
  {
   "cell_type": "code",
   "execution_count": 2,
   "metadata": {},
   "outputs": [
    {
     "name": "stdout",
     "output_type": "stream",
     "text": [
      "0\n",
      "(-4, 4)\n"
     ]
    }
   ],
   "source": [
    "# 최소 힙 만들기\n",
    "import heapq as hq\n",
    "\n",
    "a = list(range(5))\n",
    "hq.heapify(a)\n",
    "hq.heappush(a, 3)\n",
    "if a:\n",
    "    item = hq.heappop(a)\n",
    "    print(item)\n",
    "else:\n",
    "    print(\"is empty\")\n",
    "\n",
    "# 최대 힙 만들기\n",
    "a = list(range(5))\n",
    "a = [(-i, i) for i in a]\n",
    "hq.heapify(a)\n",
    "hq.heappush(a, (-3, 3))\n",
    "if a:\n",
    "    item = hq.heappop(a)\n",
    "    print(item)\n",
    "else:\n",
    "    print(\"is empty\")\n"
   ]
  },
  {
   "cell_type": "code",
   "execution_count": 7,
   "metadata": {},
   "outputs": [
    {
     "name": "stdout",
     "output_type": "stream",
     "text": [
      "2.00\n",
      "2.00\n",
      "2.00\n"
     ]
    }
   ],
   "source": [
    "# 소수점 두 자리 숫자를 출력하는 3가지 방법\n",
    "a = 2\n",
    "print(\"%.2f\" %a)\n",
    "print(\"{:.2f}\".format(a))\n",
    "print(f\"{a:.2f}\")"
   ]
  },
  {
   "cell_type": "code",
   "execution_count": 23,
   "metadata": {},
   "outputs": [
    {
     "name": "stdout",
     "output_type": "stream",
     "text": [
      "-1 8 8 -1\n"
     ]
    }
   ],
   "source": [
    "#오큰수\n",
    "from collections import deque\n",
    "import sys\n",
    "# input = sys.stdin.readline\n",
    "# 거꾸로 내림차순 스택을 만들기\n",
    "\n",
    "\n",
    "n = int(input())\n",
    "a = list(map(int, input().split()))\n",
    "\n",
    "# 뒤에서 거꾸로\n",
    "ans = [-1]*n\n",
    "stack = deque()\n",
    "for index in range(n-1, -1, -1):\n",
    "    # 스택이 있으면 가장 가까운 큰 값 찾기\n",
    "    while stack:\n",
    "        n = stack.pop()\n",
    "        if n > a[index]:\n",
    "            ans[index] = n\n",
    "            stack.append(n)\n",
    "            break\n",
    "    stack.append(a[index])\n",
    "    \n",
    "print(*ans)"
   ]
  },
  {
   "attachments": {},
   "cell_type": "markdown",
   "metadata": {},
   "source": [
    "## 정답"
   ]
  },
  {
   "cell_type": "code",
   "execution_count": 1,
   "metadata": {},
   "outputs": [],
   "source": [
    "# 스택, 큐 만들기\n",
    "# 값을 빼기 전에 비어있는 지 확인하는 것이 중요함\n",
    "from collections import deque\n",
    "\n",
    "stack =deque()\n",
    "# 스택 값 넣기\n",
    "stack.append(1)\n",
    "# 스택 값 빼기\n",
    "if stack:\n",
    "    item = stack.pop()\n",
    "# 스택 비어있는 지 확인\n",
    "else:\n",
    "    print(\"is empty\")\n",
    "\n",
    "queue =deque()\n",
    "# 스택 값 넣기\n",
    "queue.append(1)\n",
    "# 스택 값 빼기\n",
    "if queue:\n",
    "    item = queue.popleft()\n",
    "# 스택 비어있는 지 확인\n",
    "else:\n",
    "    print(\"is empty\")"
   ]
  },
  {
   "cell_type": "code",
   "execution_count": null,
   "metadata": {},
   "outputs": [],
   "source": [
    "# 힙 만들기\n",
    "import heapq\n",
    "\n",
    "a = []\n",
    "heapq.heapify(a)\n",
    "heapq.heappush(a, input())\n",
    "heapq.heappop(a)\n",
    "if not a:\n",
    "    print(\"empty\")\n",
    "\n",
    "# 최대 힙\n",
    "# (중요도, 값) 중요도 부호를 반대로 바꾸기, 단 기존 중요도는 양수여야함\n"
   ]
  },
  {
   "cell_type": "code",
   "execution_count": 3,
   "metadata": {},
   "outputs": [
    {
     "name": "stdout",
     "output_type": "stream",
     "text": [
      "2.00\n",
      "2.00\n",
      "2.00\n"
     ]
    }
   ],
   "source": [
    "# 소수점 두 자리 출력하기\n",
    "a = 2\n",
    "\n",
    "print(\"%.2f\" %a) # % 사용\n",
    "print(\"{:.2f}\".format(a)) # {} format 사용\n",
    "print(f\"{a:.2f}\") # f string 사용"
   ]
  },
  {
   "cell_type": "code",
   "execution_count": 4,
   "metadata": {},
   "outputs": [
    {
     "name": "stdout",
     "output_type": "stream",
     "text": [
      "000000000000123.30\n"
     ]
    }
   ],
   "source": [
    "# 18자리로 표현, 남는 자리 0, 소수점 2자리까지 출력\n",
    "a = 123.3\n",
    "print(f'{a:018.2f}')"
   ]
  },
  {
   "attachments": {},
   "cell_type": "markdown",
   "metadata": {},
   "source": [
    "## 과거 풀이"
   ]
  },
  {
   "cell_type": "code",
   "execution_count": null,
   "metadata": {},
   "outputs": [],
   "source": [
    "# 스택\n",
    "import sys\n",
    "\n",
    "def process(stack, command):\n",
    "    command_type, *element = command.split()\n",
    "    if command_type == 'push':\n",
    "        stack.append(int(element[0]))\n",
    "    elif command_type == 'pop':\n",
    "        if len(stack) > 0:\n",
    "            popped = stack.pop()\n",
    "            print(popped)\n",
    "        else:\n",
    "            print(-1)\n",
    "    elif command_type == 'size':\n",
    "        print(len(stack))\n",
    "    elif command_type == 'empty':\n",
    "        print(int(len(stack) == 0))\n",
    "    elif command_type == 'top':\n",
    "        if len(stack) > 0:\n",
    "            print(stack[-1])\n",
    "        else:\n",
    "            print(-1)\n",
    "    return stack\n",
    "\n",
    "stack = []\n",
    "n = int(sys.stdin.readline())\n",
    "for _ in range(n):\n",
    "    command = sys.stdin.readline()\n",
    "    stack = process(stack, command)"
   ]
  },
  {
   "cell_type": "code",
   "execution_count": 8,
   "metadata": {},
   "outputs": [
    {
     "name": "stdout",
     "output_type": "stream",
     "text": [
      "NO\n",
      "NO\n",
      "NO\n"
     ]
    }
   ],
   "source": [
    "# 괄호\n",
    "import sys\n",
    "\n",
    "# n = int(sys.stdin.readline())\n",
    "# data = [sys.stdin.readline().strip() for _ in range(n)]\n",
    "\n",
    "n = int(input())\n",
    "data = [input().strip() for _ in range(n)]\n",
    "\n",
    "\n",
    "for d in data:\n",
    "    open = 0\n",
    "    for l in d:\n",
    "        if l == '(':\n",
    "            open += 1\n",
    "        elif l == ')':\n",
    "            open -= 1\n",
    "        if open < 0:\n",
    "            print('NO')\n",
    "            break\n",
    "    if open == 0:\n",
    "        print('YES')\n",
    "    elif open > 0:\n",
    "        print('NO')"
   ]
  },
  {
   "cell_type": "code",
   "execution_count": 1,
   "metadata": {},
   "outputs": [
    {
     "name": "stdout",
     "output_type": "stream",
     "text": [
      "3\n"
     ]
    }
   ],
   "source": [
    "# 제로\n",
    "from sys import stdin\n",
    "input = stdin.readline\n",
    "\n",
    "stack = []\n",
    "k = int(input())\n",
    "for _ in range(k):\n",
    "    n = int(input())\n",
    "    if n > 0:\n",
    "        stack.append(n)\n",
    "    else:\n",
    "        stack.pop()\n",
    "\n",
    "print(sum(stack))"
   ]
  },
  {
   "cell_type": "code",
   "execution_count": 20,
   "metadata": {},
   "outputs": [
    {
     "name": "stdout",
     "output_type": "stream",
     "text": [
      "stack append\n",
      "[1]\n",
      "stack append\n",
      "[1, 2]\n",
      "stack append\n",
      "[1, 2, 3]\n",
      "사칙연산 *\n",
      "[1, 6]\n",
      "사칙연산 +\n",
      "[7]\n",
      "stack append\n",
      "[7, 4]\n",
      "stack append\n",
      "[7, 4, 5]\n",
      "사칙연산 /\n",
      "[7, 0.8]\n",
      "사칙연산 -\n",
      "[6.2]\n",
      "6.20\n"
     ]
    }
   ],
   "source": [
    "# 후위 표기식2\n",
    "# 리뷰: stdin을 쓰면 error가 난다 왜 일까?\n",
    "\n",
    "from sys import stdin\n",
    "input = stdin.readline\n",
    "\n",
    "stack = []\n",
    "n = int(input())\n",
    "a = input()\n",
    "nums = {65+i: int(input()) for i in range(n)}\n",
    "\n",
    "for l in a:\n",
    "    if  'A' <= l <= 'Z':\n",
    "        stack.append(nums[ord(l)])\n",
    "    else:\n",
    "        b = stack.pop()\n",
    "        a = stack.pop()    \n",
    "        if l == '*':\n",
    "            stack.append(a*b)\n",
    "        elif l == '/':\n",
    "            stack.append(a/b)\n",
    "        elif l == '-':\n",
    "            stack.append(a-b)\n",
    "        elif l == '+':\n",
    "            stack.append(a+b)\n",
    "            \n",
    "print(f'{stack[0]:.2f}')\n",
    "            \n",
    "\n",
    "\n"
   ]
  },
  {
   "cell_type": "code",
   "execution_count": 31,
   "metadata": {},
   "outputs": [
    {
     "name": "stdout",
     "output_type": "stream",
     "text": [
      "abcdyx\n"
     ]
    }
   ],
   "source": [
    "# 에디터\n",
    "import sys\n",
    "\n",
    "left_letters = list(sys.stdin.readline().strip())\n",
    "right_letters = []\n",
    "n = int(sys.stdin.readline().strip())\n",
    "\n",
    "for _ in range(n):\n",
    "    command = list(map(str, sys.stdin.readline().strip().split()))\n",
    "    if command[0] == 'L':\n",
    "        if left_letters:\n",
    "            right_letters.append(left_letters.pop())\n",
    "    elif command[0] == 'D':\n",
    "        if right_letters:\n",
    "            left_letters.append(right_letters.pop())\n",
    "    elif command[0] == 'B':\n",
    "        if left_letters:\n",
    "            left_letters.pop()\n",
    "    elif command[0] == 'P':\n",
    "        left_letters.append(command[1])\n",
    "right_letters.reverse()\n",
    "print(''.join(left_letters+right_letters))"
   ]
  },
  {
   "cell_type": "code",
   "execution_count": 45,
   "metadata": {},
   "outputs": [
    {
     "name": "stdout",
     "output_type": "stream",
     "text": [
      "18 6\n"
     ]
    }
   ],
   "source": [
    "# 쇠막대기\n",
    "# 리뷰: 상당히 오래 걸림\n",
    "text = input()\n",
    "\n",
    "bar = []\n",
    "n = 0\n",
    "b = 0\n",
    "for i, j in enumerate(text):\n",
    "    if j == '(':\n",
    "        bar.append(0)\n",
    "        b += 1\n",
    "    else:\n",
    "        if text[i-1] == '(':\n",
    "            bar.pop()\n",
    "            b -= 1\n",
    "            n += len(bar)\n",
    "        else:\n",
    "            bar.pop()\n",
    "print(n+b)"
   ]
  },
  {
   "cell_type": "code",
   "execution_count": 55,
   "metadata": {},
   "outputs": [
    {
     "name": "stdout",
     "output_type": "stream",
     "text": [
      "[[0, 6]]\n",
      "[]\n",
      "[[1, 9]]\n",
      "[[1, 9], [2, 5]]\n",
      "[[1, 9]]\n",
      "[[1, 9], [3, 7]]\n",
      "[[1, 9], [3, 7], [4, 4]]\n",
      "[0, 0, 2, 2, 4]\n"
     ]
    }
   ],
   "source": [
    "# 탑\n",
    "n = int(input())\n",
    "stack = []\n",
    "answer = []\n",
    "tops = list(map(int, input().split()))\n",
    "for i, top in enumerate(tops):\n",
    "    while True:\n",
    "        if stack:\n",
    "            loc, height = stack.pop()\n",
    "            if height > top:\n",
    "                answer.append(loc+1)\n",
    "                stack.append([loc, height])\n",
    "                stack.append([i, top])\n",
    "                break\n",
    "        else:\n",
    "            answer.append(0)\n",
    "            stack.append([i, top])\n",
    "            break\n",
    "print(*answer)\n",
    "    "
   ]
  },
  {
   "cell_type": "code",
   "execution_count": 62,
   "metadata": {},
   "outputs": [
    {
     "name": "stdout",
     "output_type": "stream",
     "text": [
      "-1 8 8 -1\n"
     ]
    }
   ],
   "source": [
    "# 오큰수\n",
    "n = int(input())\n",
    "stack = []\n",
    "answer = []\n",
    "tops = list(map(int, input().split()))\n",
    "tops.reverse()\n",
    "for i, top in enumerate(tops):\n",
    "    while True:\n",
    "        if stack:\n",
    "            height = stack.pop()\n",
    "            if height > top:\n",
    "                answer.append(height)\n",
    "                stack.append(height)\n",
    "                stack.append(top)\n",
    "                break\n",
    "        else:\n",
    "            answer.append(-1)\n",
    "            stack.append(top)\n",
    "            break\n",
    "answer.reverse()\n",
    "print(*answer)"
   ]
  },
  {
   "cell_type": "code",
   "execution_count": 91,
   "metadata": {},
   "outputs": [
    {
     "name": "stdout",
     "output_type": "stream",
     "text": [
      "775841\n"
     ]
    }
   ],
   "source": [
    "# 크게 만들기\n",
    "# 큰 자리수의 숫자를 크게 만들어줘야함\n",
    "# 리뷰: 어떻게 빠르게 풀 수 잇을 것인가\n",
    "\n",
    "N, K = map(int, input().split())\n",
    "num = list(input())\n",
    "k, stack = K, []\n",
    "\n",
    "for i in range(N):\n",
    "    while k > 0 and stack and stack[-1] < num[i]:\n",
    "        stack.pop()\n",
    "        k -= 1\n",
    "    stack.append(num[i])\n",
    "\n",
    "print(''.join(stack[:N-K]))"
   ]
  },
  {
   "cell_type": "code",
   "execution_count": 94,
   "metadata": {},
   "outputs": [
    {
     "name": "stdout",
     "output_type": "stream",
     "text": [
      "1\n",
      "2\n",
      "2\n",
      "0\n",
      "1\n",
      "2\n",
      "-1\n",
      "0\n",
      "1\n",
      "0\n",
      "3\n",
      "3\n"
     ]
    }
   ],
   "source": [
    "# 큐 2\n",
    "from collections import deque\n",
    "import sys\n",
    "\n",
    "deq =deque([])\n",
    "N = int(sys.stdin.readline())\n",
    "for _ in range(N):\n",
    "    command = sys.stdin.readline().split()\n",
    "    if command[0] == 'push':\n",
    "        deq.append(int(command[1]))\n",
    "    elif command[0] == 'pop':\n",
    "        if deq:\n",
    "            print(deq.popleft())\n",
    "        else:\n",
    "            print(-1)\n",
    "    elif command[0] == 'size':\n",
    "        print(len(deq))\n",
    "    elif command[0] == 'empty':\n",
    "        print(int(not bool(deq)))\n",
    "    elif command[0] == 'front':\n",
    "        if deq:\n",
    "            print(deq[0])\n",
    "        else:\n",
    "            print(-1)\n",
    "    elif command[0] == 'back':\n",
    "        if deq:\n",
    "            print(deq[-1])\n",
    "        else:\n",
    "            print(-1)\n"
   ]
  },
  {
   "cell_type": "code",
   "execution_count": null,
   "metadata": {},
   "outputs": [],
   "source": [
    "# 큐\n",
    "# 큐2와 중복인 듯\n",
    "from collections import deque\n",
    "import sys\n",
    "\n",
    "deq =deque([])\n",
    "N = int(sys.stdin.readline())\n",
    "for _ in range(N):\n",
    "    command = sys.stdin.readline().split()\n",
    "    if command[0] == 'push':\n",
    "        deq.append(int(command[1]))\n",
    "    elif command[0] == 'pop':\n",
    "        if deq:\n",
    "            print(deq.popleft())\n",
    "        else:\n",
    "            print(-1)\n",
    "    elif command[0] == 'size':\n",
    "        print(len(deq))\n",
    "    elif command[0] == 'empty':\n",
    "        print(int(not bool(deq)))\n",
    "    elif command[0] == 'front':\n",
    "        if deq:\n",
    "            print(deq[0])\n",
    "        else:\n",
    "            print(-1)\n",
    "    elif command[0] == 'back':\n",
    "        if deq:\n",
    "            print(deq[-1])\n",
    "        else:\n",
    "            print(-1)"
   ]
  },
  {
   "cell_type": "code",
   "execution_count": 96,
   "metadata": {},
   "outputs": [
    {
     "name": "stdout",
     "output_type": "stream",
     "text": [
      "4\n"
     ]
    }
   ],
   "source": [
    "# 카드2\n",
    "# 리뷰 반씩 줄이지 않으면 시간 초과 뜸\n",
    "import sys\n",
    "from collections import deque\n",
    "\n",
    "N = int(input())\n",
    "\n",
    "def solutions(nums):\n",
    "    if len(nums) == 1:\n",
    "        return nums[0]\n",
    "    else:\n",
    "        one_more = 1 if len(nums)%2 == 1 else 0\n",
    "        nums = nums[1::2]\n",
    "        nums =deque(nums)\n",
    "        nums.rotate(len(nums)-one_more)\n",
    "        nums = list(nums)\n",
    "    return solutions(nums)\n",
    "\n",
    "numbers = [i+1 for i in range(N)]\n",
    "print(solutions(numbers))\n"
   ]
  },
  {
   "cell_type": "code",
   "execution_count": 109,
   "metadata": {},
   "outputs": [
    {
     "name": "stdout",
     "output_type": "stream",
     "text": [
      "1\n",
      "[2, 4, 6]\n",
      "[4, 6, 2]\n"
     ]
    }
   ],
   "source": [
    "# 덱\n",
    "from collections import deque\n",
    "import sys\n",
    "\n",
    "deq =deque([])\n",
    "N = int(sys.stdin.readline())\n",
    "for _ in range(N):\n",
    "    command = sys.stdin.readline().split()\n",
    "    if command[0] == 'push_front':\n",
    "        deq.appendleft(int(command[1]))\n",
    "    elif command[0] == 'push_back':\n",
    "        deq.append(int(command[1]))\n",
    "    elif command[0] == 'pop_front':\n",
    "        if deq:\n",
    "            print(deq.popleft())\n",
    "        else:\n",
    "            print(-1)\n",
    "    elif command[0] == 'pop_back':\n",
    "        if deq:\n",
    "            print(deq.pop())\n",
    "        else:\n",
    "            print(-1)\n",
    "    elif command[0] == 'size':\n",
    "        print(len(deq))\n",
    "    elif command[0] == 'empty':\n",
    "        print(int(not bool(deq)))\n",
    "    elif command[0] == 'front':\n",
    "        if deq:\n",
    "            print(deq[0])\n",
    "        else:\n",
    "            print(-1)\n",
    "    elif command[0] == 'back':\n",
    "        if deq:\n",
    "            print(deq[-1])\n",
    "        else:\n",
    "            print(-1)"
   ]
  },
  {
   "cell_type": "code",
   "execution_count": 122,
   "metadata": {},
   "outputs": [],
   "source": [
    "# 회전하는 큐\n"
   ]
  },
  {
   "cell_type": "code",
   "execution_count": 123,
   "metadata": {},
   "outputs": [],
   "source": [
    "# 프린터 큐"
   ]
  },
  {
   "cell_type": "code",
   "execution_count": null,
   "metadata": {},
   "outputs": [],
   "source": [
    "# "
   ]
  }
 ],
 "metadata": {
  "kernelspec": {
   "display_name": "Python 3",
   "language": "python",
   "name": "python3"
  },
  "language_info": {
   "codemirror_mode": {
    "name": "ipython",
    "version": 3
   },
   "file_extension": ".py",
   "mimetype": "text/x-python",
   "name": "python",
   "nbconvert_exporter": "python",
   "pygments_lexer": "ipython3",
   "version": "3.10.2"
  },
  "orig_nbformat": 4,
  "vscode": {
   "interpreter": {
    "hash": "199ee1b0f306c2646240c05e05059b82838874f1323ed3dd38276fbb341b6235"
   }
  }
 },
 "nbformat": 4,
 "nbformat_minor": 2
}

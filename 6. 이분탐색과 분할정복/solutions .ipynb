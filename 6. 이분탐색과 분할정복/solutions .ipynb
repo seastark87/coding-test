{
 "cells": [
  {
   "attachments": {},
   "cell_type": "markdown",
   "metadata": {},
   "source": [
    "# week6 이분탐색과 분할정복(230223~)"
   ]
  },
  {
   "attachments": {},
   "cell_type": "markdown",
   "metadata": {},
   "source": [
    "## 분할정복"
   ]
  },
  {
   "cell_type": "code",
   "execution_count": 10,
   "metadata": {},
   "outputs": [
    {
     "name": "stdout",
     "output_type": "stream",
     "text": [
      "9 7\n"
     ]
    }
   ],
   "source": [
    "#색종이 만들기 #2630 #25분 소요\n",
    "import sys\n",
    "sys.setrecursionlimit(10000000)\n",
    "# input = sys.stdin.readline\n",
    "\n",
    "def solution(n, colors):\n",
    "    # base case\n",
    "    same_color = True\n",
    "    c = colors[0][0]\n",
    "    for row in colors:\n",
    "        for value in row:\n",
    "            if value != c:\n",
    "                same_color = False\n",
    "    if same_color:\n",
    "        if c == 0:\n",
    "            return 1, 0\n",
    "        else:\n",
    "            return 0, 1\n",
    "    # recursion call\n",
    "    white_num = 0\n",
    "    blue_num = 0\n",
    "    # left top\n",
    "    lr_colors = tuple([row[:n//2]  for row in colors[:n//2]])\n",
    "    a, b = solution(n//2, lr_colors)\n",
    "    white_num += a\n",
    "    blue_num += b\n",
    "    # right top\n",
    "    rt_colors = tuple([row[n//2:]  for row in colors[:n//2]])\n",
    "    a, b = solution(n//2, rt_colors)\n",
    "    white_num += a\n",
    "    blue_num += b\n",
    "    # left bottom\n",
    "    lb_colors = tuple([row[:n//2]  for row in colors[n//2:]])\n",
    "    a, b = solution(n//2, lb_colors)\n",
    "    white_num += a\n",
    "    blue_num += b\n",
    "    # right bottom\n",
    "    rb_colors = tuple([row[n//2:]  for row in colors[n//2:]])\n",
    "    a, b = solution(n//2, rb_colors)\n",
    "    white_num += a\n",
    "    blue_num += b\n",
    "    return white_num, blue_num\n",
    "\n",
    "n = int(input())\n",
    "colors = tuple([tuple(map(int, input().split()))for _ in range(n)])\n",
    "print(*solution(n, colors))\n"
   ]
  },
  {
   "cell_type": "code",
   "execution_count": 4,
   "metadata": {},
   "outputs": [
    {
     "name": "stdout",
     "output_type": "stream",
     "text": [
      "                       *                       \n",
      "                      * *                      \n",
      "                     *****                     \n",
      "                    *     *                    \n",
      "                   * *   * *                   \n",
      "                  ***** *****                  \n",
      "                 *           *                 \n",
      "                * *         * *                \n",
      "               *****       *****               \n",
      "              *     *     *     *              \n",
      "             * *   * *   * *   * *             \n",
      "            ***** ***** ***** *****            \n",
      "           *                       *           \n",
      "          * *                     * *          \n",
      "         *****                   *****         \n",
      "        *     *                 *     *        \n",
      "       * *   * *               * *   * *       \n",
      "      ***** *****             ***** *****      \n",
      "     *           *           *           *     \n",
      "    * *         * *         * *         * *    \n",
      "   *****       *****       *****       *****   \n",
      "  *     *     *     *     *     *     *     *  \n",
      " * *   * *   * *   * *   * *   * *   * *   * * \n",
      "***** ***** ***** ***** ***** ***** ***** *****\n"
     ]
    }
   ],
   "source": [
    "#별 찍기 - 11 #2448 #30분 소요\n",
    "def print_star(n):\n",
    "    # k 찾기\n",
    "    a = 3\n",
    "    k = 1\n",
    "    while a!=n:\n",
    "        a *= 2\n",
    "        k += 1\n",
    "    # 별의 가로 길이\n",
    "    horizontal_len = 5\n",
    "    for i in range(1, k):\n",
    "        horizontal_len = 2 * horizontal_len + 1\n",
    "    # 별 그림 그리기\n",
    "    stars = ['  *  ',\n",
    "             ' * * ',\n",
    "             '*****',]\n",
    "    for i in range(1, k):\n",
    "        padding = ' '*(3*(2**(i-1)))\n",
    "        for j in range(len(padding)):\n",
    "            stars.append(stars[j]+' '+stars[j])\n",
    "            stars[j] = padding + stars[j] + padding\n",
    "            \n",
    "    # 별 그림 출력하기\n",
    "    for row in stars:\n",
    "        print(row)\n",
    "    return stars\n",
    "\n",
    "n = int(input())\n",
    "print_star(n)"
   ]
  },
  {
   "cell_type": "code",
   "execution_count": 5,
   "metadata": {},
   "outputs": [
    {
     "name": "stdout",
     "output_type": "stream",
     "text": [
      "10\n",
      "12\n",
      "11\n"
     ]
    }
   ],
   "source": [
    "#종이의 개수 #1780\n",
    "import sys\n",
    "sys.setrecursionlimit(int(1e7))\n",
    "# input = sys.stdin.readline\n",
    "\n",
    "def solution(n, paper):\n",
    "    # check terminal condition\n",
    "    k = paper[0][0]\n",
    "    same_number = True\n",
    "    for row in paper:\n",
    "        if not same_number:\n",
    "            break\n",
    "        for value in row:\n",
    "            if value != k:\n",
    "                same_number = False                \n",
    "                break\n",
    "    # base case\n",
    "    if same_number:\n",
    "        if k == -1:\n",
    "            return 1, 0, 0\n",
    "        elif k == 0:\n",
    "            return 0, 1, 0\n",
    "        else:\n",
    "            return 0, 0, 1\n",
    "    # recursion call\n",
    "    answer = [0, 0, 0]\n",
    "    new_n = n//3\n",
    "    # row 1~3, column 1~3\n",
    "    for i in range(3):\n",
    "        for j in range(3):\n",
    "            new_paper = [row[new_n*(i):new_n*(i+1)] for row in paper[new_n*(j):new_n*(j+1)]]\n",
    "            a, b, c = solution(new_n, new_paper)\n",
    "            answer[0] += a\n",
    "            answer[1] += b\n",
    "            answer[2] += c\n",
    "    return answer[0], answer[1], answer[2]\n",
    "\n",
    "n = int(input())\n",
    "paper = [list(map(int, input().split())) for _ in range(n)]\n",
    "answer = solution(n, paper)\n",
    "for i in answer:\n",
    "    print(i)\n"
   ]
  },
  {
   "cell_type": "code",
   "execution_count": 6,
   "metadata": {},
   "outputs": [
    {
     "name": "stdout",
     "output_type": "stream",
     "text": [
      "((110(0101))(0010)1(0001))\n"
     ]
    }
   ],
   "source": [
    "#쿼드트리 #1992 #17분 소요\n",
    "import sys\n",
    "sys.setrecursionlimit(int(1e8))\n",
    "# input = sys.stdin.readline\n",
    "\n",
    "\n",
    "def is_same_color(x, y, size):\n",
    "    color = image[x][y]\n",
    "    for i in range(x, x + size):\n",
    "        for j in range(y, y + size):\n",
    "            if image[i][j] != color:\n",
    "                return False\n",
    "    return True\n",
    "\n",
    "def recur(x, y, n):\n",
    "    if is_same_color(x, y, n):\n",
    "        return image[x][y]\n",
    "    else:\n",
    "        answer = '('\n",
    "        answer = answer + recur(x, y, n//2)\n",
    "        answer = answer + recur(x, y+n//2, n//2)\n",
    "        answer = answer + recur(x+n//2, y, n//2)\n",
    "        answer = answer + recur(x+n//2, y+n//2, n//2)\n",
    "        answer = answer + ')'\n",
    "    return answer\n",
    "\n",
    "n = int(input())\n",
    "image = []\n",
    "for i in range(n):\n",
    "    image.append(input())\n",
    "answer = recur(0, 0, n)\n",
    "print(answer)\n"
   ]
  },
  {
   "attachments": {},
   "cell_type": "markdown",
   "metadata": {},
   "source": [
    "## 이분 탐색"
   ]
  },
  {
   "cell_type": "code",
   "execution_count": 4,
   "metadata": {},
   "outputs": [
    {
     "name": "stdout",
     "output_type": "stream",
     "text": [
      "100\n"
     ]
    }
   ],
   "source": [
    "#예산 #2512\n",
    "import sys\n",
    "# input = sys.stdin.readine\n",
    "\n",
    "def solve(n, demands, budget):\n",
    "    low = budget//n\n",
    "    high = max(max(demands), low)\n",
    "    mid = (low + high)//2\n",
    "    while low!=high:\n",
    "        # 가능 여부 체크\n",
    "        supply_sum = 0\n",
    "        for demand in demands:\n",
    "            supply_sum += min(demand, mid)\n",
    "        is_available = (supply_sum <= budget)\n",
    "        if is_available:\n",
    "            low = mid+1\n",
    "            mid = (low + high)//2\n",
    "        else:\n",
    "            high = mid\n",
    "            mid = (low + high)//2\n",
    "    return min(max(demands), mid)\n",
    "\n",
    "n = int(input())\n",
    "demands = list(map(int, input().split()))\n",
    "budget = int(input())\n",
    "print(solve(n, demands, budget))\n"
   ]
  },
  {
   "cell_type": "code",
   "execution_count": 12,
   "metadata": {},
   "outputs": [
    {
     "name": "stdout",
     "output_type": "stream",
     "text": [
      "3\n"
     ]
    }
   ],
   "source": [
    "# 공유기 설치 # 2110\n",
    "# 공유기 간 최단 거리를 최대화\n",
    "\n",
    "# 전부 다 설치한다고 가정, 그러나 공유기가 부족할 수 있음\n",
    "# 부족한 경우, 가장 가까운 위치에 해당하는 공유기를 제거 함, 가장 가까운 위치를 찾는 연산 필요\n",
    "# 제거할 때, 둘 중 어떤 것을 제거할 지 결정 기준 필요, 기준 생각 안 남\n",
    "import heapq\n",
    "\n",
    "n, c = map(int, input().split())\n",
    "e = n - c\n",
    "h_locations = sorted([int(input()) for i in range(n)])\n",
    "\n",
    "low = 0\n",
    "high = max(h_locations)\n",
    "while low <= high:\n",
    "    mid = (low + high) // 2\n",
    "    # print(low, mid, high)\n",
    "    # mid 가능 여부 조사\n",
    "    # heapq 풀이\n",
    "    q = []\n",
    "    for i in range(1, len(h_locations)-1):\n",
    "        d = h_locations[i]-h_locations[i-1]\n",
    "        heapq.heappush(q, (d, i-1, i))\n",
    "    k = 0\n",
    "    while q:\n",
    "        d, loc1, loc2 = heapq.heappop(q)\n",
    "        if d < mid:\n",
    "            # loc1 제거\n",
    "\n",
    "    \n",
    "    if is_available:\n",
    "        low = mid + 1\n",
    "    else:\n",
    "        high = mid - 1\n",
    "print(mid)\n"
   ]
  },
  {
   "cell_type": "code",
   "execution_count": 13,
   "metadata": {},
   "outputs": [],
   "source": [
    "for i in range(4, 3):\n",
    "    print(i)"
   ]
  },
  {
   "cell_type": "code",
   "execution_count": 18,
   "metadata": {},
   "outputs": [
    {
     "name": "stdout",
     "output_type": "stream",
     "text": [
      "-99 98\n"
     ]
    }
   ],
   "source": [
    "#두 용액 #2470\n",
    "\n",
    "def solve(n, l):\n",
    "    # 완전 탐색\n",
    "    d = abs(l[1]-l[0])\n",
    "    loc1 = 0\n",
    "    loc2 = 1 \n",
    "    for i in range(n):\n",
    "        for j in range(n):\n",
    "            if i == j:\n",
    "                continue\n",
    "            n_d = abs(l[i]+l[j])\n",
    "            if n_d < d:\n",
    "                d = n_d\n",
    "                loc1 = i\n",
    "                loc2 = j\n",
    "    answer = sorted([l[loc1], l[loc2]])\n",
    "    return answer[0], answer[1]\n",
    "\n",
    "n = int(input())\n",
    "l = list(map(int, input().split()))\n",
    "print(*solve(n, l))"
   ]
  },
  {
   "attachments": {},
   "cell_type": "markdown",
   "metadata": {},
   "source": [
    "# 암기할 코드 테스트"
   ]
  },
  {
   "attachments": {},
   "cell_type": "markdown",
   "metadata": {},
   "source": [
    "## 시험"
   ]
  },
  {
   "cell_type": "code",
   "execution_count": null,
   "metadata": {},
   "outputs": [],
   "source": []
  },
  {
   "attachments": {},
   "cell_type": "markdown",
   "metadata": {},
   "source": [
    "## 정답"
   ]
  },
  {
   "cell_type": "code",
   "execution_count": null,
   "metadata": {},
   "outputs": [],
   "source": []
  }
 ],
 "metadata": {
  "kernelspec": {
   "display_name": "Python 3",
   "language": "python",
   "name": "python3"
  },
  "language_info": {
   "codemirror_mode": {
    "name": "ipython",
    "version": 3
   },
   "file_extension": ".py",
   "mimetype": "text/x-python",
   "name": "python",
   "nbconvert_exporter": "python",
   "pygments_lexer": "ipython3",
   "version": "3.10.2"
  },
  "orig_nbformat": 4,
  "vscode": {
   "interpreter": {
    "hash": "199ee1b0f306c2646240c05e05059b82838874f1323ed3dd38276fbb341b6235"
   }
  }
 },
 "nbformat": 4,
 "nbformat_minor": 2
}

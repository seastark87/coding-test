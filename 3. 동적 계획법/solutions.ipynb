{
 "cells": [
  {
   "attachments": {},
   "cell_type": "markdown",
   "metadata": {},
   "source": [
    "# week4 다이나믹 프로그래밍(230123~230125)\n",
    "### https://www.acmicpc.net/workbook/view/9001"
   ]
  },
  {
   "cell_type": "code",
   "execution_count": 9,
   "metadata": {},
   "outputs": [
    {
     "name": "stdout",
     "output_type": "stream",
     "text": [
      "0 1\n",
      "1 1\n",
      "1 2\n"
     ]
    }
   ],
   "source": [
    "# 피보나치 함수 #1003\n",
    "import sys\n",
    "# input = sys.stdin.readline\n",
    "\n",
    "def fibo(n, memo):\n",
    "    if memo[n]:\n",
    "        return memo[n]\n",
    "    else:\n",
    "        # base case\n",
    "        if n == 0:\n",
    "            memo[n] = (1, 0)\n",
    "            return 1, 0\n",
    "        elif n == 1:\n",
    "            memo[n] = (0, 1)\n",
    "            return 0, 1\n",
    "        # recursive call\n",
    "        zero_cnt1, one_cnt1 = fibo(n-1, memo)\n",
    "        zero_cnt2, one_cnt2 = fibo(n-2, memo)\n",
    "        memo[n] = (zero_cnt1 + zero_cnt2, one_cnt1 + one_cnt2)\n",
    "    return zero_cnt1 + zero_cnt2, one_cnt1 + one_cnt2\n",
    "\n",
    "n = int(input())\n",
    "for _ in range(n):\n",
    "    m = int(input())\n",
    "    memo = [0]*(m+1)\n",
    "    print(*fibo(m, memo))\n"
   ]
  },
  {
   "cell_type": "code",
   "execution_count": 12,
   "metadata": {},
   "outputs": [
    {
     "name": "stdout",
     "output_type": "stream",
     "text": [
      "3\n",
      "16\n"
     ]
    }
   ],
   "source": [
    "# 파도반 수열 #9461\n",
    "# 1 1 1 2 2 3 4\n",
    "# 4 = 3 + 1\n",
    "# 5 = 4\n",
    "# 6 = 5 + 3\n",
    "# 7 = 6 + 2\n",
    "# 8 = 7 + 1\n",
    "# 9 = 8 + 4\n",
    "# 10 = 9 + 5\n",
    "# 11 = 10 + 6\n",
    "import sys\n",
    "# input = sys.stdin.readline\n",
    "\n",
    "a = [0, 1, 1, 1, 2, 2, 3, 4, 5, 7, 9]\n",
    "\n",
    "def fadovan(n):\n",
    "    if len(a) >= n+1:\n",
    "        return a[n]\n",
    "    else:\n",
    "        while len(a) < n+1:\n",
    "            a.append(a[-1]+a[-5])\n",
    "        return a[n]\n",
    "\n",
    "n = int(input())\n",
    "for _ in range(n):\n",
    "    m = int(input())\n",
    "    print(fadovan(m))\n"
   ]
  },
  {
   "cell_type": "code",
   "execution_count": 14,
   "metadata": {},
   "outputs": [
    {
     "name": "stdout",
     "output_type": "stream",
     "text": [
      "55\n"
     ]
    }
   ],
   "source": [
    "# 2xn 타일링 #11726\n",
    "# f(n) = f(n-1) + f(n-2)\n",
    "import sys\n",
    "input = sys.stdin.readline\n",
    "\n",
    "a = [1, 1]\n",
    "def get_case_num(n):\n",
    "    for i in range(len(a), n+1):\n",
    "        a.append(a[-1]+a[-2])\n",
    "    return a[n]\n",
    "\n",
    "n = int(input())\n",
    "print(get_case_num(n)%10007)"
   ]
  },
  {
   "cell_type": "code",
   "execution_count": 16,
   "metadata": {},
   "outputs": [
    {
     "name": "stdout",
     "output_type": "stream",
     "text": [
      "3\n"
     ]
    }
   ],
   "source": [
    "# 2xn 타일링 2\n",
    "# f(n) = f(n-1) + 2*f(n-2)\n",
    "import sys\n",
    "# input = sys.stdin.readline\n",
    "\n",
    "def get_case_num(n):\n",
    "    a = [1] * (n+1)\n",
    "    for i in range(2, n+1):\n",
    "        a[i] = a[i-1] + 2*a[i-2]\n",
    "    return a[n]\n",
    "\n",
    "n = int(input())\n",
    "print(get_case_num(n)%10007)"
   ]
  },
  {
   "cell_type": "code",
   "execution_count": 1,
   "metadata": {},
   "outputs": [
    {
     "name": "stdout",
     "output_type": "stream",
     "text": [
      "7\n",
      "44\n",
      "274\n"
     ]
    }
   ],
   "source": [
    "#1,2,3 더하기 #9095\n",
    "#f(n) = f(n-1) + f(n-2) + f(n-3)\n",
    "import sys\n",
    "# input = sys.stdin.readline\n",
    "\n",
    "a = [1, 1, 2]\n",
    "def get_case_num(n):\n",
    "    for i in range(len(a), n+1):\n",
    "        a.append(a[i-1] + a[i-2] + a[i-3])\n",
    "    return a[n]\n",
    "\n",
    "n = int(input())\n",
    "for _ in range(n):\n",
    "    m = int(input())\n",
    "    print(get_case_num(m))"
   ]
  },
  {
   "cell_type": "code",
   "execution_count": 7,
   "metadata": {},
   "outputs": [
    {
     "name": "stdout",
     "output_type": "stream",
     "text": [
      "[0, 0, 1, 1, 2, 3, 2, 3, 3, 2, 3]\n",
      "3\n"
     ]
    }
   ],
   "source": [
    "# 1로 만들기 #1463\n",
    "import sys\n",
    "# input = sys.stdin.readline\n",
    "\n",
    "def get_oper_num(n):\n",
    "    a = [0, 0, 1, 1]+[None]*(n-3)\n",
    "    for i in range(4, n+1):\n",
    "        a[i] = min(a[i-1]+1, (i%3)+a[i//3]+1, (i%2)+a[i//2]+1)\n",
    "    return a[n]\n",
    "\n",
    "n = int(input())\n",
    "print(get_oper_num(n))"
   ]
  },
  {
   "cell_type": "code",
   "execution_count": 8,
   "metadata": {},
   "outputs": [
    {
     "name": "stdout",
     "output_type": "stream",
     "text": [
      "2\n"
     ]
    }
   ],
   "source": [
    "#이친수 # 2193\n",
    "# 0으로 시작하지 않음\n",
    "# 1이 연속으로 나타나지 않음\n",
    "# n자리 이친수의 개수를 구하기\n",
    "# f(n) = f(n-1) + f(n-2)\n",
    "import sys\n",
    "# input = sys.stdin.readline\n",
    "\n",
    "def get_num(n):\n",
    "    a = [0, 1, 1] + [None] *(n-2)\n",
    "    for i in range(3, n+1):\n",
    "        a[i] = a[i-1] + a[i-2]\n",
    "    return a[n]\n",
    "\n",
    "n = int(input())\n",
    "print(get_num(n))"
   ]
  },
  {
   "cell_type": "code",
   "execution_count": 10,
   "metadata": {},
   "outputs": [],
   "source": [
    "# 가장 긴 증가하는 부분 수열 #11053\n",
    "import sys\n",
    "# input = sys.stdin.readline\n",
    "\n",
    "n = int(input())\n",
    "a = list(map(int, input().split()))\n",
    "\n",
    "b = [None]*(n)\n",
    "b[0] = 1\n",
    "\n",
    "for i in range(1, n):\n",
    "    cand = [1] # 수열을 새로 시작하는 경우\n",
    "    for j in range(0, i): # 이전까지의 최솟값들에\n",
    "        if a[j] < a[i]: # 증가수열 만족하면\n",
    "            cand.append(b[j]+1) # 후보군에 1 더한 값을 추가\n",
    "    b[i] = max(cand)\n",
    "\n",
    "print(max(b))"
   ]
  },
  {
   "cell_type": "code",
   "execution_count": 22,
   "metadata": {},
   "outputs": [
    {
     "name": "stdout",
     "output_type": "stream",
     "text": [
      "3\n"
     ]
    }
   ],
   "source": [
    "# 가장 긴 감소하는 부분 수열 # 11722\n",
    "import sys\n",
    "# input = sys.stdin.readline\n",
    "\n",
    "n = int(input())\n",
    "a = list(map(int, input().split()))\n",
    "b = [1] * (n)\n",
    "\n",
    "for i in range(1, n):\n",
    "    for j in range(0, i):\n",
    "        if a[j] > a[i] and b[j] >= b[i]:\n",
    "            b[i] = b[j] + 1\n",
    "\n",
    "print(max(b))"
   ]
  },
  {
   "cell_type": "code",
   "execution_count": 23,
   "metadata": {},
   "outputs": [
    {
     "name": "stdout",
     "output_type": "stream",
     "text": [
      "113\n"
     ]
    }
   ],
   "source": [
    "#가장 큰 증가 부분 수열 #11055\n",
    "import sys\n",
    "# input = sys.stdin.readline\n",
    "\n",
    "n = int(input())\n",
    "a = list(map(int, input().split())) # 수열\n",
    "dp = a.copy() # n번째 수를 포함한 합이 가장 큰 증가 부분 수열의 합\n",
    "\n",
    "for i in range(1, n): # 차례대로\n",
    "    for j in range(i): # 이전까지의 최대 중\n",
    "        if a[j] < a[i] and dp[j]+a[i] > dp[i]: # 증가수열 만족, 기존 값보다 더 큰 합 만족\n",
    "            dp[i] = dp[j]+a[i] # 업데이트\n",
    "\n",
    "print(max(dp))"
   ]
  },
  {
   "cell_type": "code",
   "execution_count": 26,
   "metadata": {},
   "outputs": [
    {
     "name": "stdout",
     "output_type": "stream",
     "text": [
      "-1\n"
     ]
    }
   ],
   "source": [
    "#연속 합 #1912\n",
    "import sys\n",
    "# input = sys.stdin.readline\n",
    "\n",
    "n = int(input())\n",
    "a = list(map(int, input().split()))\n",
    "dp = a.copy() # n번째 수까지 포함한 연속된 수의 합 중 최대값\n",
    "\n",
    "for i in range(1, n):\n",
    "    if dp[i-1] > 0: # 이전까지 연속된 수의 최대값이 양수이면\n",
    "        dp[i] += dp[i-1] # 계속 연속된 수를 이용\n",
    "print(max(dp))"
   ]
  },
  {
   "cell_type": "code",
   "execution_count": 29,
   "metadata": {},
   "outputs": [
    {
     "name": "stdout",
     "output_type": "stream",
     "text": [
      "32\n"
     ]
    }
   ],
   "source": [
    "# 쉬운 계단 수 # 10844\n",
    "# n = 1일 때 1 2 3 4 5 6 7 8 9\n",
    "# n = 2일 때 10 12 21 23 ...\n",
    "import sys\n",
    "# input = sys.stdin.readline\n",
    "\n",
    "n = int(input())\n",
    "dp = [[0 for _ in range(10)] for _ in range(n)] # n자리 계단수 중 i로 끝나는 갯수\n",
    "dp[0] = [0] + [1]*9\n",
    "\n",
    "for i in range(1, n):\n",
    "    # 양 끝\n",
    "    dp[i][0] = dp[i-1][1]\n",
    "    dp[i][9] = dp[i-1][8]\n",
    "    # 중간들\n",
    "    for j in range(1, 9):\n",
    "        dp[i][j] = dp[i-1][j-1]+dp[i-1][j+1]\n",
    "print(sum(dp[n-1])%1000000000)"
   ]
  },
  {
   "cell_type": "code",
   "execution_count": 36,
   "metadata": {},
   "outputs": [
    {
     "name": "stdout",
     "output_type": "stream",
     "text": [
      "220\n"
     ]
    }
   ],
   "source": [
    "#오르막 수 #11057\n",
    "import sys\n",
    "# input = sys.stdin.readline\n",
    "\n",
    "n = int(input())\n",
    "dp = [[0 for _ in range(10)] for _ in range(n)]\n",
    "dp[0] = [1 for _ in range(10)]\n",
    "for i in range(1, n): # i자리 수에 대해\n",
    "    for j in range(10): # j로 끝나는 오르막 수에 대해\n",
    "        for k in range(0, j+1): # j보다 작은 숫자로 끝나던 i-1자리 수에 대해\n",
    "            dp[i][j] += dp[i-1][k] # 업데이트\n",
    "print(sum(dp[n-1])%10007)"
   ]
  },
  {
   "cell_type": "code",
   "execution_count": 39,
   "metadata": {},
   "outputs": [
    {
     "name": "stdout",
     "output_type": "stream",
     "text": [
      "75\n"
     ]
    }
   ],
   "source": [
    "#계단 오르기 #2579\n",
    "# 연속 세 계단 밟기 불가능\n",
    "# 한칸 또는 두칸씩 이동 가능\n",
    "import sys\n",
    "# input = sys.stdin.readline\n",
    "\n",
    "n = int(input())\n",
    "scores = [int(input()) for _ in range(n)]\n",
    "dp = scores.copy() # n번째 계단까지에서 n번째 계단을 밟는 경우의 수 중 점수 최댓값\n",
    "if n > 1:\n",
    "    dp[1] = sum(scores[:2])\n",
    "if n > 2:\n",
    "    dp[2] = max(scores[:2]) + scores[2]\n",
    "for i in range(3, n):\n",
    "    dp[i] = max(dp[i-2] + scores[i], dp[i-3] + scores[i] + scores[i-1])\n",
    "\n",
    "print(dp[n-1])\n"
   ]
  },
  {
   "cell_type": "code",
   "execution_count": 18,
   "metadata": {},
   "outputs": [
    {
     "name": "stdout",
     "output_type": "stream",
     "text": [
      "30\n"
     ]
    }
   ],
   "source": [
    "#정수 삼각형 #1932\n",
    "from copy import deepcopy\n",
    "import sys\n",
    "# input = sys.stdin.readline\n",
    "\n",
    "n = int(input())\n",
    "a = []\n",
    "for _ in range(n):\n",
    "    a.append(list(map(int, input().split())))\n",
    "dp = deepcopy(a) #밑에서부터 올라오는 합의 최댓값\n",
    "\n",
    "for i in range(n-2, -1, -1):\n",
    "    for index, value in enumerate(dp[i]):\n",
    "        dp[i][index] += max(dp[i+1][index], dp[i+1][index+1]) # 아래 두 개의 가지 중 더 큰 값을 더하기\n",
    "print(dp[0][0])"
   ]
  },
  {
   "cell_type": "code",
   "execution_count": 20,
   "metadata": {},
   "outputs": [
    {
     "name": "stdout",
     "output_type": "stream",
     "text": [
      "200\n"
     ]
    }
   ],
   "source": [
    "#스티커 #9465\n",
    "from copy import deepcopy\n",
    "import sys\n",
    "# input = sys.stdin.readline\n",
    "\n",
    "n = int(input())\n",
    "for _ in range(n):\n",
    "    m = int(input())\n",
    "    a = [list(map(int, input().split())) for _ in range(2)]\n",
    "    dp = deepcopy(a)\n",
    "    dp[0][1] += dp[1][0]\n",
    "    dp[1][1] += dp[0][0]\n",
    "    for i in range(2, m):\n",
    "        dp[0][i] += max(dp[1][i-1], dp[0][i-2], dp[1][i-2])\n",
    "        dp[1][i] += max(dp[0][i-1], dp[0][i-2], dp[1][i-2])\n",
    "    print(max(dp[0][-1], dp[1][-1]))\n"
   ]
  },
  {
   "cell_type": "code",
   "execution_count": 29,
   "metadata": {},
   "outputs": [
    {
     "name": "stdout",
     "output_type": "stream",
     "text": [
      "3 25 28\n",
      "4 31 33\n",
      "5 29 32\n",
      "33\n"
     ]
    }
   ],
   "source": [
    "#포도주 시식 # 2156\n",
    "import sys\n",
    "# input = sys.stdin.readline\n",
    "\n",
    "n = int(input())\n",
    "a = [int(input()) for _ in range(n)]\n",
    "dp = a.copy() # n번째까지의 subproblem, n번째 와인을 마시는 경우의 최대 포도주 량\n",
    "dp[0] = a[0]\n",
    "if n>=2:\n",
    "    dp[1] = a[0] + a[1]\n",
    "if n>=3:\n",
    "    dp[2] = max(dp[1], dp[0]+a[2], a[1]+a[2])\n",
    "for i in range(3, n):\n",
    "    dp[i] = max(dp[i-1], dp[i-2] + a[i], dp[i-3] + a[i] + a[i-1])\n",
    "print(max(dp))"
   ]
  },
  {
   "cell_type": "code",
   "execution_count": 31,
   "metadata": {},
   "outputs": [
    {
     "name": "stdout",
     "output_type": "stream",
     "text": [
      "50\n"
     ]
    }
   ],
   "source": [
    "# 카드 구매하기 #11052\n",
    "import sys\n",
    "# input = sys.stdin.readline\n",
    "\n",
    "n = int(input())\n",
    "p = [0]+ list(map(int, input().split()))\n",
    "dp = [0 for _ in range(n+1)]\n",
    "dp = p.copy()\n",
    "for i in range(2, n+1):\n",
    "    for j in range(i):\n",
    "        if dp[i] < dp[j]+p[i-j]:\n",
    "            dp[i] = dp[j]+p[i-j]\n",
    "print(dp[n])"
   ]
  },
  {
   "cell_type": "code",
   "execution_count": 36,
   "metadata": {},
   "outputs": [
    {
     "name": "stdout",
     "output_type": "stream",
     "text": [
      "55\n"
     ]
    }
   ],
   "source": [
    "# 퇴사2 #15486\n",
    "import sys\n",
    "# input = sys.stdin.readline\n",
    "\n",
    "n = int(input())\n",
    "t = [0 for _ in range(n)]\n",
    "p = [0 for _ in range(n)]\n",
    "for i in range(n):\n",
    "    t[i], p[i] = map(int, input().split())\n",
    "\n",
    "dp = [0 for _ in range(n)]+[0]\n",
    "# 가능한 태스크인지 체크\n",
    "# 받을 경우 벌 수 있는 값, 받지 않는 경우 벌 수 있는 값 계산하기\n",
    "for i in range(n-1, -1, -1):\n",
    "    # t[i] # 상담 소요 일 수\n",
    "    # n-i # 최대 가능 일 수, 마지막 날은 1일\n",
    "    dp[i] = dp[i+1] # 작업을 받지 않는 경우\n",
    "    if t[i] <= n-i: # 상담이 물리적으로 가능한 경우\n",
    "        dp[i] = max(dp[i], p[i]+dp[i+t[i]]) # 상담 맡은 경우와 안 맡은 경우 중 최대 수익 선택\n",
    "print(max(dp))    "
   ]
  },
  {
   "cell_type": "code",
   "execution_count": 38,
   "metadata": {},
   "outputs": [
    {
     "name": "stdout",
     "output_type": "stream",
     "text": [
      "27\n"
     ]
    }
   ],
   "source": [
    "#크리보드 #11085\n",
    "import sys\n",
    "# input = sys.stdin.readline\n",
    "\n",
    "# A를 출력하는 것으로 끝나는 경우 1개의 작업 소요\n",
    "# 전체 선택, 복사, 붙여넣기 하는 경우 3개의 작업 소요 2n으로 만듬\n",
    "# 전체 선택, 복사, 붙여넣기, 붙여넣기로 끝나는 경우 4개의 작업 소요 3n\n",
    "# 전체 선택, 복사, 붙여넣기, 붙여넣기, 붙여넣기로 끝나는 경우 5개의 작업 소요 4n\n",
    "# 전체 선택, 복사, 붙여넣기, 붙여넣기, 붙여넣기, 붙여넣기로 끝나는 경우 6개의 작업 소요 5n\n",
    "\n",
    "# 전체 선택, 복사, 붙여넣기, 전체 선택, 복사, 붙여넣기로 끝나는 경우 6개의 작업 소요 4n\n",
    "# 전체 선택, 복사, 붙여넣기, 붙여넣기, 붙여넣기, 붙여넣기, 붙여넣기로 끝나는 경우 7개의 작업 소요 6n\n",
    "# 전체 선택, 복사, 붙여넣기, 전체 선택, 복사, 붙여넣기, 붙여넣기로 끝나는 경우 6개의 작업 소요 6n # 더 효율적\n",
    "\n",
    "n = int(input())\n",
    "\n",
    "a = [0 for _ in range(101)]\n",
    "a[1] = 1\n",
    "a[2] = 2\n",
    "a[3] = 3\n",
    "a[4] = 4\n",
    "a[5] = 5\n",
    "a[6] = 6\n",
    "for i in range(7, n+1):\n",
    "    a[i] = max(a[i-1] + 1, a[i-3]*2, a[i-4]*3, a[i-5]*4, a[i-6]*5)\n",
    "print(a[n])"
   ]
  },
  {
   "cell_type": "code",
   "execution_count": 10,
   "metadata": {},
   "outputs": [
    {
     "name": "stdout",
     "output_type": "stream",
     "text": [
      "14\n"
     ]
    }
   ],
   "source": [
    "# 평범한 배낭 #12865\n",
    "# 물건을 넣은 경우, 안 넣은 경우 중 더 큰 값\n",
    "# 물건 집합과 무게에 대한 함수가 있어야 함\n",
    "# 재귀로 풀면 2**n의 호출 필요\n",
    "\n",
    "# 물건 개수 축, 허용 무게 축\n",
    "# 1개 2개 ... n개\n",
    "# 0 (가치합, 남은 무게)\n",
    "# 1\n",
    "# 2\n",
    "# 3\n",
    "# 4\n",
    "import sys\n",
    "input = sys.stdin.readline\n",
    "\n",
    "n, k = map(int, input().split())\n",
    "w = [0 for _ in range(n)]\n",
    "v = [0 for _ in range(n)]\n",
    "for i in range(n):\n",
    "    w[i], v[i] = map(int, input().split())\n",
    "\n",
    "dp = [[0 for i in range(k+1)] for _ in range(n+1)]\n",
    "# 첫 열 업데이트\n",
    "for i in range(1, k+1):\n",
    "    for j in range(n):\n",
    "        if w[j] <= i:\n",
    "            dp[1][i] = max(v[j], dp[1][i])\n",
    "# 점화식 수행\n",
    "for i in range(1, n+1):\n",
    "    for j in range(1, k+1):\n",
    "        # 더 가치가 높으면 업데이트\n",
    "        if w[i-1] <= j: # i 물건을 넣는 경우    \n",
    "            dp[i][j] = dp[i-1][j-w[i-1]] + v[i-1]\n",
    "        # 안 넣는 경우\n",
    "        dp[i][j] = max(dp[i-1][j], dp[i][j])\n",
    "\n",
    "print(dp[-1][-1])"
   ]
  },
  {
   "cell_type": "code",
   "execution_count": 8,
   "metadata": {},
   "outputs": [
    {
     "data": {
      "text/plain": [
       "[[0, 1, 1, 1, 1, 1],\n",
       " [1, 1, 1, 2, 2, 2],\n",
       " [1, 2, 2, 2, 3, 3],\n",
       " [1, 2, 2, 2, 3, 3],\n",
       " [1, 2, 2, 2, 3, 4],\n",
       " [1, 2, 3, 3, 3, 4]]"
      ]
     },
     "execution_count": 8,
     "metadata": {},
     "output_type": "execute_result"
    }
   ],
   "source": [
    "#LCS #9251\n",
    "# 문자 일치 시 대각 +1\n",
    "# 왼쪽, 위쪽\n",
    "#   C A P C A K\n",
    "# A 0 1 1 1 1 1\n",
    "# C 1 1 1 2 2 2\n",
    "# A 1 2 2 2 3 3\n",
    "# Y 1 2 2 2 3 3\n",
    "# K 1 2 2 2 3 4\n",
    "# P 1 2 3 3 3 4\n",
    "import sys\n",
    "# input = sys.stdin.readline\n",
    "\n",
    "s1 = input()\n",
    "s2 = input()\n",
    "\n",
    "dp = [[0 for _ in range(len(s2))] for _ in range(len(s1))]\n",
    "\n",
    "for index, letter in enumerate(s2):\n",
    "    if letter == s1[0]:\n",
    "        for i in range(index, len(s2)):\n",
    "            dp[0][i] = 1\n",
    "        break\n",
    "for index, letter in enumerate(s1):\n",
    "    if letter == s2[0]:\n",
    "        for i in range(index, len(s1)):\n",
    "            dp[i][0] = 1\n",
    "        break\n",
    "for i in range(1, len(s1)):\n",
    "    for j in range(1, len(s2)):\n",
    "        if s1[i] == s2[j]:\n",
    "            dp[i][j] = dp[i-1][j-1]+1\n",
    "        else:\n",
    "            dp[i][j] = max(dp[i-1][j], dp[i][j-1])\n",
    "\n",
    "print(dp[-1][-1])\n"
   ]
  },
  {
   "cell_type": "code",
   "execution_count": 6,
   "metadata": {},
   "outputs": [
    {
     "name": "stdout",
     "output_type": "stream",
     "text": [
      "84\n"
     ]
    }
   ],
   "source": [
    "# 합분해 #2225\n",
    "# f(n, k) = f(n, k-1) + f(n-1, k-1)  + f(n-2, k-1) + ... + f(0, k-1)\n",
    "#   0 1 2 3 4 ... n\n",
    "# 0 1 0 0 0 0     0\n",
    "# 1 1 1 1 1 1     1\n",
    "# 2 1 2 3 4 5     n \n",
    "# 3 \n",
    "# ... \n",
    "# k \n",
    "n, m = map(int, input().split())\n",
    "dp = [[1] + [0] * (n)]\n",
    "for i in range(m):\n",
    "    dp.append([sum(dp[i][:j+1]) for j in range(n+1)])\n",
    "print(dp[m][n]%1000000000)"
   ]
  },
  {
   "attachments": {},
   "cell_type": "markdown",
   "metadata": {},
   "source": [
    "# 복습할 코딩 테스트"
   ]
  },
  {
   "cell_type": "code",
   "execution_count": 2,
   "metadata": {},
   "outputs": [
    {
     "name": "stdout",
     "output_type": "stream",
     "text": [
      "14\n"
     ]
    }
   ],
   "source": [
    "# 평범한 배낭\n",
    "import sys\n",
    "# input = sys.stdin.readline\n",
    "\n",
    "N, K = map(int, input().split()) # 물품 수, 가용 무게\n",
    "weights = [0 for _ in range(N+1)] # 물품 무게\n",
    "values = [0 for _ in range(N+1)] # 물품 가치\n",
    "for i in range(N):\n",
    "    W, V = map(int, input().split())\n",
    "    weights[i+1] = W\n",
    "    values[i+1] = V\n",
    "\n",
    "dp = [[0 for _ in range(K+1)] for _ in range(N+1)]\n",
    "for thing in range(1, N+1):\n",
    "    for weight in range(1, K+1):\n",
    "        if weights[thing] <= weight:\n",
    "            dp[thing][weight] = max(values[thing]+dp[thing-1][weight-weights[thing]], dp[thing-1][weight])\n",
    "        else:\n",
    "            dp[thing][weight] = dp[thing-1][weight]\n",
    "print(dp[-1][-1])"
   ]
  },
  {
   "attachments": {},
   "cell_type": "markdown",
   "metadata": {},
   "source": [
    "# 과거 풀이"
   ]
  },
  {
   "cell_type": "code",
   "execution_count": 12,
   "metadata": {},
   "outputs": [],
   "source": [
    "# 1003번 피보나치 수열\n",
    "\n",
    "import sys\n",
    "\n",
    "fibo_zero = [1, 0, 1]\n",
    "fibo_one = [0, 1, 1]\n",
    "\n",
    "def fibo(N):\n",
    "    length = len(fibo_zero)\n",
    "    for i in range(length, N+1):\n",
    "        fibo_zero.append(fibo_zero[i-1]+fibo_zero[i-2])\n",
    "        fibo_one.append(fibo_one[i-1]+fibo_one[i-2])\n",
    "    print(fibo_zero[N], fibo_one[N])\n",
    "        \n",
    "n = int(sys.stdin.readline())\n",
    "for _ in range(n):\n",
    "    m = int(sys.stdin.readline())\n",
    "    fibo(m)"
   ]
  },
  {
   "cell_type": "code",
   "execution_count": 4,
   "metadata": {},
   "outputs": [
    {
     "name": "stdout",
     "output_type": "stream",
     "text": [
      "3\n",
      "16\n"
     ]
    }
   ],
   "source": [
    "# 9461번 파도반 수열\n",
    "import sys\n",
    "\n",
    "numbers = [0, 1, 1, 1]\n",
    "\n",
    "def fado(N):\n",
    "    length = len(numbers)\n",
    "    for i in range(length, N+1):\n",
    "        numbers.append(numbers[i-2]+numbers[i-3])\n",
    "    print(numbers[N])\n",
    "\n",
    "n = int(input())\n",
    "for _ in range(n):\n",
    "    m = int(input())\n",
    "    fado(m)"
   ]
  },
  {
   "cell_type": "code",
   "execution_count": 3,
   "metadata": {},
   "outputs": [
    {
     "name": "stdout",
     "output_type": "stream",
     "text": [
      "55\n"
     ]
    }
   ],
   "source": [
    "# 11726번 2xn 타일링\n",
    "N = int(input())\n",
    "numbers = [0, 1, 2]\n",
    "for i in range(3, N+1):\n",
    "    numbers.append(numbers[-1]+numbers[-2])\n",
    "print(numbers[N]%10007)"
   ]
  },
  {
   "cell_type": "code",
   "execution_count": 4,
   "metadata": {},
   "outputs": [
    {
     "name": "stdout",
     "output_type": "stream",
     "text": [
      "171\n"
     ]
    }
   ],
   "source": [
    "# 11727번 타일링 2\n",
    "N = int(input())\n",
    "numbers = [0, 1, 3]\n",
    "for i in range(3, N+1):\n",
    "    numbers.append(numbers[-1]+2*numbers[-2])\n",
    "print(numbers[N]%10007)"
   ]
  },
  {
   "cell_type": "code",
   "execution_count": 10,
   "metadata": {},
   "outputs": [
    {
     "name": "stdout",
     "output_type": "stream",
     "text": [
      "7\n",
      "44\n",
      "274\n"
     ]
    }
   ],
   "source": [
    "# 9095번 1, 2, 3 더하기\n",
    "import sys\n",
    "\n",
    "n = int(sys.stdin.readline())\n",
    "cases = []\n",
    "for _ in range(n):\n",
    "    cases.append(int(sys.stdin.readline()))\n",
    "N = max(cases)\n",
    "\n",
    "numbers = [0, 1, 2, 4, 7]\n",
    "for i in range(5, N+1):\n",
    "    numbers.append(numbers[-1]+numbers[-2]+numbers[-3])\n",
    "\n",
    "for i in cases:\n",
    "    print(numbers[i]%10007)"
   ]
  },
  {
   "cell_type": "code",
   "execution_count": 15,
   "metadata": {},
   "outputs": [
    {
     "name": "stdout",
     "output_type": "stream",
     "text": [
      "1\n"
     ]
    }
   ],
   "source": [
    "# 1463번 1로 만들기\n",
    "N = int(input())\n",
    "numbers = [0, 0, 1, 1]\n",
    "for i in range(4, N+1):\n",
    "    cand = [numbers[i-1]+1, numbers[i//2]+1+i%2, numbers[i//3]+1+i%3]\n",
    "    numbers.append(min(cand))\n",
    "print(numbers[N]%10007)\n"
   ]
  },
  {
   "cell_type": "code",
   "execution_count": 17,
   "metadata": {},
   "outputs": [
    {
     "name": "stdout",
     "output_type": "stream",
     "text": [
      "55\n"
     ]
    }
   ],
   "source": [
    "# 2193번 이친수\n",
    "N = int(input())\n",
    "numbers = [0, 1, 1, 2]\n",
    "for i in range(4, N+1):\n",
    "    numbers.append(numbers[i-1]+numbers[i-2])\n",
    "print(numbers[N])"
   ]
  },
  {
   "cell_type": "code",
   "execution_count": 7,
   "metadata": {},
   "outputs": [
    {
     "name": "stdout",
     "output_type": "stream",
     "text": [
      "4\n"
     ]
    }
   ],
   "source": [
    "# 11053번 가장 긴 증가하는 부분 수열\n",
    "# 리뷰하기\n",
    "\n",
    "n = int(input())\n",
    "a = list(map(int, input().split()))\n",
    "dp = [0 for _ in range(n)]\n",
    "\n",
    "for i in range(n):\n",
    "    for j in range(i):\n",
    "        if a[i] > a[j] and dp[i] < dp[j]:\n",
    "            dp[i] = dp[j]\n",
    "    dp[i] += 1\n",
    "print(max(dp))"
   ]
  },
  {
   "cell_type": "code",
   "execution_count": 11,
   "metadata": {},
   "outputs": [
    {
     "name": "stdout",
     "output_type": "stream",
     "text": [
      "3\n"
     ]
    }
   ],
   "source": [
    "# 11722번 가장 긴 감소하는 부분 수열\n",
    "n = int(input())\n",
    "a = list(map(int, input().split()))\n",
    "dp = [0 for _ in range(n)]\n",
    "\n",
    "for i in range(n):\n",
    "    for j in range(i):\n",
    "        if a[i] < a[j] and dp[i] < dp[j]:\n",
    "            dp[i] = dp[j]\n",
    "    dp[i] += 1\n",
    "print(max(dp))"
   ]
  },
  {
   "cell_type": "code",
   "execution_count": 14,
   "metadata": {},
   "outputs": [
    {
     "name": "stdout",
     "output_type": "stream",
     "text": [
      "113\n"
     ]
    }
   ],
   "source": [
    "# 11055번 가장 큰 증가 부분 수열\n",
    "n = int(input())\n",
    "a = list(map(int, input().split()))\n",
    "dp = [0 for _ in range(n)]\n",
    "\n",
    "for i in range(n):\n",
    "    for j in range(i):\n",
    "        if a[i] > a[j] and dp[i] < dp[j]:\n",
    "            dp[i] = dp[j]\n",
    "    dp[i] += a[i]\n",
    "\n",
    "print(max(dp))"
   ]
  },
  {
   "cell_type": "code",
   "execution_count": 15,
   "metadata": {},
   "outputs": [],
   "source": [
    "# 11055번 연속합\n",
    "n = int(input())\n",
    "a = list(map(int, input().split()))\n",
    "dp = [0 for _ in range(n)]\n",
    "dp[0] = a[0]\n",
    "\n",
    "for i in range(1, n):\n",
    "    dp[i] = max(dp[i-1]+a[i], a[i])\n",
    "print(max(dp))"
   ]
  },
  {
   "cell_type": "code",
   "execution_count": 40,
   "metadata": {},
   "outputs": [
    {
     "name": "stdout",
     "output_type": "stream",
     "text": [
      "61\n"
     ]
    }
   ],
   "source": [
    "# 10844번 쉬운 계단 수\n",
    "n = int(input())\n",
    "dp = [[0]*10 for _ in range(n+1)]\n",
    "for i in range(1, 10):\n",
    "    dp[1][i] = 1\n",
    "\n",
    "for i in range(2, n+1):\n",
    "    for j in range(1):\n",
    "        dp[i][j] = dp[i-1][j+1]\n",
    "    for j in range(1, 9):\n",
    "        dp[i][j] = dp[i-1][j-1] + dp[i-1][j+1]\n",
    "    for j in range(9, 10):\n",
    "        dp[i][j] = dp[i-1][j-1]\n",
    "    \n",
    "print(sum(dp[n])%1000000000)"
   ]
  },
  {
   "cell_type": "code",
   "execution_count": 50,
   "metadata": {},
   "outputs": [
    {
     "name": "stdout",
     "output_type": "stream",
     "text": [
      "220\n"
     ]
    }
   ],
   "source": [
    "# 11057번 오르막 수\n",
    "n = int(input())\n",
    "dp = [[0]*10 for _ in range(n+1)]\n",
    "for i in range(0, 10):\n",
    "    dp[1][i] = 1\n",
    "\n",
    "for i in range(2, n+1):\n",
    "    for j in range(0, 10):\n",
    "        dp[i][j]= sum(dp[i-1][:j+1])\n",
    "print(sum(dp[n])%10007)"
   ]
  },
  {
   "cell_type": "code",
   "execution_count": 57,
   "metadata": {},
   "outputs": [
    {
     "ename": "ValueError",
     "evalue": "invalid literal for int() with base 10: ''",
     "output_type": "error",
     "traceback": [
      "\u001b[1;31m---------------------------------------------------------------------------\u001b[0m",
      "\u001b[1;31mValueError\u001b[0m                                Traceback (most recent call last)",
      "\u001b[1;32m<ipython-input-57-891a9249ead6>\u001b[0m in \u001b[0;36m<module>\u001b[1;34m\u001b[0m\n\u001b[0;32m      1\u001b[0m \u001b[1;31m# 2579번 계단 오르기\u001b[0m\u001b[1;33m\u001b[0m\u001b[1;33m\u001b[0m\u001b[1;33m\u001b[0m\u001b[0m\n\u001b[1;32m----> 2\u001b[1;33m \u001b[0mn\u001b[0m \u001b[1;33m=\u001b[0m \u001b[0mint\u001b[0m\u001b[1;33m(\u001b[0m\u001b[0minput\u001b[0m\u001b[1;33m(\u001b[0m\u001b[1;33m)\u001b[0m\u001b[1;33m)\u001b[0m\u001b[1;33m\u001b[0m\u001b[1;33m\u001b[0m\u001b[0m\n\u001b[0m\u001b[0;32m      3\u001b[0m \u001b[0ma\u001b[0m \u001b[1;33m=\u001b[0m \u001b[1;33m[\u001b[0m\u001b[0mint\u001b[0m\u001b[1;33m(\u001b[0m\u001b[0minput\u001b[0m\u001b[1;33m(\u001b[0m\u001b[1;33m)\u001b[0m\u001b[1;33m)\u001b[0m \u001b[1;32mfor\u001b[0m \u001b[0m_\u001b[0m \u001b[1;32min\u001b[0m \u001b[0mrange\u001b[0m\u001b[1;33m(\u001b[0m\u001b[0mn\u001b[0m\u001b[1;33m)\u001b[0m\u001b[1;33m]\u001b[0m\u001b[1;33m\u001b[0m\u001b[1;33m\u001b[0m\u001b[0m\n\u001b[0;32m      4\u001b[0m \u001b[0mdp\u001b[0m \u001b[1;33m=\u001b[0m \u001b[1;33m[\u001b[0m\u001b[1;36m0\u001b[0m \u001b[1;32mfor\u001b[0m \u001b[0m_\u001b[0m \u001b[1;32min\u001b[0m \u001b[0mrange\u001b[0m\u001b[1;33m(\u001b[0m\u001b[0mn\u001b[0m\u001b[1;33m)\u001b[0m\u001b[1;33m]\u001b[0m\u001b[1;33m\u001b[0m\u001b[1;33m\u001b[0m\u001b[0m\n\u001b[0;32m      5\u001b[0m \u001b[0mdp\u001b[0m\u001b[1;33m[\u001b[0m\u001b[1;36m0\u001b[0m\u001b[1;33m]\u001b[0m \u001b[1;33m=\u001b[0m \u001b[0ma\u001b[0m\u001b[1;33m[\u001b[0m\u001b[1;36m0\u001b[0m\u001b[1;33m]\u001b[0m\u001b[1;33m\u001b[0m\u001b[1;33m\u001b[0m\u001b[0m\n",
      "\u001b[1;31mValueError\u001b[0m: invalid literal for int() with base 10: ''"
     ]
    }
   ],
   "source": [
    "# 2579번 계단 오르기\n",
    "import sys\n",
    "n = int(input())\n",
    "s = [0 for i in range(301)]\n",
    "dp = [0 for i in range(301)]\n",
    "for i in range(n):\n",
    "    s[i] = int(input())\n",
    "dp[0] = s[0]\n",
    "dp[1] = s[0] + s[1]\n",
    "dp[2] = max(s[1] + s[2], s[0] + s[2])\n",
    "for i in range(3, n):\n",
    "    dp[i] = max(dp[i - 3] + s[i - 1] + s[i], dp[i - 2] + s[i])\n",
    "print(dp[n - 1])"
   ]
  },
  {
   "cell_type": "code",
   "execution_count": 91,
   "metadata": {},
   "outputs": [
    {
     "name": "stdout",
     "output_type": "stream",
     "text": [
      "30\n"
     ]
    }
   ],
   "source": [
    "# 1932번 정수 삼각형\n",
    "from copy import copy\n",
    "\n",
    "n = int(input())\n",
    "a = [list(map(int, input().split())) for i in range(n)]\n",
    "\n",
    "dp = [copy(a[i]) for i in range(n)]\n",
    "for i in range(1, n):\n",
    "    for j in range(len(dp[n-1-i])):\n",
    "        dp[n-1-i][j] = max(dp[n-i][j], dp[n-i][j+1])+a[n-1-i][j]\n",
    "        \n",
    "print(dp[0][0])\n"
   ]
  },
  {
   "cell_type": "code",
   "execution_count": 5,
   "metadata": {},
   "outputs": [
    {
     "name": "stdout",
     "output_type": "stream",
     "text": [
      "260\n"
     ]
    }
   ],
   "source": [
    "# 9465번 스티커\n",
    "# runtimeerror index error 물어보기\n",
    "\n",
    "n = int(input())\n",
    "for _ in range(n):\n",
    "    m = int(input())\n",
    "    \n",
    "    # a = list(map(int, input().split()))\n",
    "    # b = list(map(int, input().split()))\n",
    "    a = [0 for _ in range(m)]\n",
    "    b = [0 for _ in range(m)]\n",
    "    for i, j in enumerate(list(map(int, input().split()))):\n",
    "        a[i] = j\n",
    "    for i, j in enumerate(list(map(int, input().split()))):\n",
    "        b[i] = j\n",
    "    \n",
    "    dp = [[0, 0] for _ in range(m)]\n",
    "    dp[0][0] = a[0]\n",
    "    dp[0][1] = b[0]\n",
    "    \n",
    "    if m >= 2:\n",
    "        dp[1][0] = dp[0][1] + a[1]\n",
    "        dp[1][1] = dp[0][0] + b[1]\n",
    "    \n",
    "    for i in range(2, m):\n",
    "        dp[i][0] = max(dp[i-1][1], max(dp[i-2])) + a[i]\n",
    "        dp[i][1] = max(dp[i-1][0], max(dp[i-2])) + b[i]\n",
    "    print(max(dp[-1]))\n"
   ]
  },
  {
   "cell_type": "code",
   "execution_count": 8,
   "metadata": {},
   "outputs": [
    {
     "name": "stdout",
     "output_type": "stream",
     "text": [
      "33\n"
     ]
    }
   ],
   "source": [
    "# 2156번 포도주 시식\n",
    "n = int(input())\n",
    "a = [0 for _ in range(n)]\n",
    "for i in range(n):\n",
    "    a[i] = int(input())\n",
    "dp = [0 for _ in range(n)]\n",
    "dp[0] = a[0]\n",
    "if n >= 2:\n",
    "    dp[1] = a[0]+a[1]\n",
    "if n >= 3:\n",
    "    dp[2] = max(a[0]+a[1], a[0]+a[2], a[1]+a[2])\n",
    "for i in range(3, n):\n",
    "    dp[i] = max(dp[i-1], dp[i-2] + a[i], dp[i-3] + a[i-1] + a[i])\n",
    "print(max(dp))"
   ]
  },
  {
   "cell_type": "code",
   "execution_count": 22,
   "metadata": {},
   "outputs": [
    {
     "name": "stdout",
     "output_type": "stream",
     "text": [
      "50\n"
     ]
    }
   ],
   "source": [
    "# 11052번 카드 구매하기\n",
    "# 리뷰하기 DP 문제 알아보는 방법\n",
    "from copy import copy\n",
    "\n",
    "n = int(input())\n",
    "a = [0] + list(map(int, input().split()))\n",
    "\n",
    "dp = [0 for _ in range(n+1)]\n",
    "dp = copy(a)\n",
    "for i in range(2, n+1):\n",
    "    for j in range(i):\n",
    "        if  dp[j]+dp[i-j] > dp[i]:\n",
    "            dp[i] = dp[j]+dp[i-j]\n",
    "print(dp[-1])"
   ]
  },
  {
   "cell_type": "code",
   "execution_count": 42,
   "metadata": {},
   "outputs": [
    {
     "name": "stdout",
     "output_type": "stream",
     "text": [
      "[0, 1]\n",
      "[1, 3]\n",
      "[3, 6]\n",
      "[6, 10]\n",
      "[10, 15]\n",
      "[15, 21]\n",
      "[21, 28]\n",
      "[28, 36]\n",
      "[36, 45]\n",
      "[45, 55]\n",
      "55\n"
     ]
    }
   ],
   "source": [
    "# 15486번 퇴사2\n",
    "# 리뷰하기\n",
    "\n",
    "import sys\n",
    "input = sys.stdin.readline\n",
    "\n",
    "n = int(input())\n",
    "t = [0]\n",
    "p = [0]\n",
    "for _ in range(n):\n",
    "    a, b = map(int, input().split())\n",
    "    t.append(a)\n",
    "    p.append(b)\n",
    "    \n",
    "a = {i+1:[] for i in range(n+max(t))}\n",
    "for i in range(1, n+1):\n",
    "    a[i+t[i]-1].append([t[i], p[i]])\n",
    "\n",
    "dp = [0 for _ in range(n+1)]\n",
    "for i in range(1, n+1):\n",
    "    b = [dp[i-1]]\n",
    "    for j in a[i]:\n",
    "        time = j[0]\n",
    "        b.append(j[1]+dp[i-time])\n",
    "    dp[i] = max(b)\n",
    "print(max(dp))"
   ]
  },
  {
   "cell_type": "code",
   "execution_count": 68,
   "metadata": {},
   "outputs": [
    {
     "name": "stdout",
     "output_type": "stream",
     "text": [
      "[0, 1, 2, 3, 4, 5, 6, 7, 8, 9, 10, 11, 12, 13, 14, 15]\n",
      "[0, 1, 2, 3, 4, 5, 6, 8, 10, 12, 14, 16, 18, 20, 22, 24]\n",
      "[0, 1, 2, 3, 4, 5, 6, 9, 12, 15, 18, 21, 24, 27, 30, 33]\n",
      "[0, 1, 2, 3, 4, 5, 6, 9, 12, 16, 20, 24, 28, 32, 36, 40]\n",
      "[0, 1, 2, 3, 4, 5, 6, 9, 12, 16, 20, 25, 30, 35, 40, 45]\n",
      "[0, 1, 2, 3, 4, 5, 6, 9, 12, 16, 20, 25, 30, 36, 42, 48]\n",
      "[0, 1, 2, 3, 4, 5, 6, 9, 12, 16, 20, 27, 36, 45, 54, 63]\n",
      "[0, 1, 2, 3, 4, 5, 6, 9, 12, 16, 20, 27, 36, 48, 60, 72]\n",
      "[0, 1, 2, 3, 4, 5, 6, 9, 12, 16, 20, 27, 36, 48, 64, 80]\n",
      "[0, 1, 2, 3, 4, 5, 6, 9, 12, 16, 20, 27, 36, 48, 64, 80]\n",
      "[0, 1, 2, 3, 4, 5, 6, 9, 12, 16, 20, 27, 36, 48, 64, 81]\n",
      "[0, 1, 2, 3, 4, 5, 6, 9, 12, 16, 20, 27, 36, 48, 64, 81]\n",
      "[0, 1, 2, 3, 4, 5, 6, 9, 12, 16, 20, 27, 36, 48, 64, 81]\n",
      "[0, 1, 2, 3, 4, 5, 6, 9, 12, 16, 20, 27, 36, 48, 64, 81]\n",
      "[0, 1, 2, 3, 4, 5, 6, 9, 12, 16, 20, 27, 36, 48, 64, 81]\n",
      "81\n"
     ]
    }
   ],
   "source": [
    "# 11058번 크리보드\n",
    "# 리뷰하기\n",
    "n = int(input())\n",
    "dp = [0 for _ in range(n+1)]\n",
    "dp[1] = 1\n",
    "for i in range(1, n+1):\n",
    "    for j in range(i+1, n+1):\n",
    "        if dp[i]+(j-i) > dp[j]:\n",
    "            dp[j] = dp[i]+(j-i)\n",
    "    for j in range(i+3, n+1):\n",
    "        if dp[i]*(j-i-3+2) > dp[j]:\n",
    "            dp[j] = dp[i]*(j-i-3+2)\n",
    "    print(dp)\n",
    "print(max(dp))\n"
   ]
  },
  {
   "cell_type": "code",
   "execution_count": 1,
   "metadata": {},
   "outputs": [],
   "source": [
    "# 12865번 평범한 베낭\n",
    "n, k = map(int, input().split())\n",
    "w = []\n",
    "v = []\n",
    "for i in range(n):\n",
    "    a, b = map(int, input().split())\n",
    "    w.append(a)\n",
    "    v.append(b)"
   ]
  },
  {
   "cell_type": "code",
   "execution_count": 104,
   "metadata": {},
   "outputs": [],
   "source": [
    "# 9251번 LCS\n",
    "S1 = input()\n",
    "S2 = input()\n",
    "\n",
    "len1 = len(S1)\n",
    "len2 = len(S2)\n",
    "matrix = [[0] * (len2 + 1) for _ in range(len1 + 1)]\n",
    "\n",
    "for i in range(1, len1 + 1):\n",
    "    for j in range(1, len2 + 1):\n",
    "        if S1[i - 1] == S2[j - 1]:\n",
    "            matrix[i][j] = matrix[i - 1][j - 1] + 1\n",
    "        else:\n",
    "            matrix[i][j] = max(matrix[i - 1][j], matrix[i][j - 1])\n",
    "\n",
    "print(matrix[-1][-1])"
   ]
  },
  {
   "cell_type": "code",
   "execution_count": 103,
   "metadata": {},
   "outputs": [
    {
     "name": "stdout",
     "output_type": "stream",
     "text": [
      "21\n"
     ]
    }
   ],
   "source": [
    "# 2225번 합분해\n",
    "n, k = map(int, input().split())\n",
    "a = [[None for _ in range(k+1)] for _ in range(n+1)]\n",
    "\n",
    "def function(n, k):\n",
    "    if a[n][k] != None:\n",
    "        return a[n][k]\n",
    "    else:\n",
    "        if k == 1:\n",
    "            a[n][k] = 1\n",
    "            return 1\n",
    "        else:\n",
    "            s = 0\n",
    "            for i in range(0, n+1):\n",
    "                s += function(n-i, k-1)\n",
    "            a[n][k] = s\n",
    "            return s\n",
    "print(function(n, k)%1000000000)\n"
   ]
  },
  {
   "cell_type": "code",
   "execution_count": 116,
   "metadata": {},
   "outputs": [],
   "source": [
    "stack = [1]\n",
    "a = {1, 2, 3}\n",
    "b = {1, 'e'}"
   ]
  },
  {
   "cell_type": "code",
   "execution_count": 117,
   "metadata": {},
   "outputs": [
    {
     "ename": "TypeError",
     "evalue": "unsupported operand type(s) for +=: 'set' and 'tuple'",
     "output_type": "error",
     "traceback": [
      "\u001b[1;31m---------------------------------------------------------------------------\u001b[0m",
      "\u001b[1;31mTypeError\u001b[0m                                 Traceback (most recent call last)",
      "\u001b[1;32m<ipython-input-117-f38c8733e8f9>\u001b[0m in \u001b[0;36m<module>\u001b[1;34m\u001b[0m\n\u001b[1;32m----> 1\u001b[1;33m \u001b[0ma\u001b[0m \u001b[1;33m+=\u001b[0m \u001b[1;33m(\u001b[0m\u001b[1;36m1\u001b[0m\u001b[1;33m,\u001b[0m \u001b[1;36m2\u001b[0m\u001b[1;33m,\u001b[0m \u001b[1;36m3\u001b[0m\u001b[1;33m)\u001b[0m\u001b[1;33m\u001b[0m\u001b[1;33m\u001b[0m\u001b[0m\n\u001b[0m\u001b[0;32m      2\u001b[0m \u001b[0ma\u001b[0m\u001b[1;33m\u001b[0m\u001b[1;33m\u001b[0m\u001b[0m\n",
      "\u001b[1;31mTypeError\u001b[0m: unsupported operand type(s) for +=: 'set' and 'tuple'"
     ]
    }
   ],
   "source": [
    "a += (1, 2, 3)\n",
    "a"
   ]
  },
  {
   "cell_type": "code",
   "execution_count": 113,
   "metadata": {},
   "outputs": [],
   "source": [
    "a = int(1)\n",
    "b = 3.5"
   ]
  },
  {
   "cell_type": "code",
   "execution_count": 114,
   "metadata": {},
   "outputs": [
    {
     "data": {
      "text/plain": [
       "4.5"
      ]
     },
     "execution_count": 114,
     "metadata": {},
     "output_type": "execute_result"
    }
   ],
   "source": [
    "a += b\n",
    "a"
   ]
  },
  {
   "cell_type": "code",
   "execution_count": 97,
   "metadata": {},
   "outputs": [
    {
     "data": {
      "text/plain": [
       "[1, 1, 2, 3, 1, 2, 3, 1, 2, 3, 1, 2, 3, 1, 2, 3, 1, 2, 3, 1, 2, 3]"
      ]
     },
     "execution_count": 97,
     "metadata": {},
     "output_type": "execute_result"
    }
   ],
   "source": [
    "stack"
   ]
  },
  {
   "cell_type": "code",
   "execution_count": 86,
   "metadata": {},
   "outputs": [
    {
     "ename": "TypeError",
     "evalue": "can only concatenate list (not \"set\") to list",
     "output_type": "error",
     "traceback": [
      "\u001b[1;31m---------------------------------------------------------------------------\u001b[0m",
      "\u001b[1;31mTypeError\u001b[0m                                 Traceback (most recent call last)",
      "\u001b[1;32m<ipython-input-86-4733e062d710>\u001b[0m in \u001b[0;36m<module>\u001b[1;34m\u001b[0m\n\u001b[1;32m----> 1\u001b[1;33m \u001b[0mstack\u001b[0m \u001b[1;33m+\u001b[0m \u001b[0ma\u001b[0m\u001b[1;33m\u001b[0m\u001b[1;33m\u001b[0m\u001b[0m\n\u001b[0m",
      "\u001b[1;31mTypeError\u001b[0m: can only concatenate list (not \"set\") to list"
     ]
    }
   ],
   "source": [
    "stack + a"
   ]
  }
 ],
 "metadata": {
  "kernelspec": {
   "display_name": "Python 3",
   "language": "python",
   "name": "python3"
  },
  "language_info": {
   "codemirror_mode": {
    "name": "ipython",
    "version": 3
   },
   "file_extension": ".py",
   "mimetype": "text/x-python",
   "name": "python",
   "nbconvert_exporter": "python",
   "pygments_lexer": "ipython3",
   "version": "3.10.2 (tags/v3.10.2:a58ebcc, Jan 17 2022, 14:12:15) [MSC v.1929 64 bit (AMD64)]"
  },
  "orig_nbformat": 4,
  "vscode": {
   "interpreter": {
    "hash": "199ee1b0f306c2646240c05e05059b82838874f1323ed3dd38276fbb341b6235"
   }
  }
 },
 "nbformat": 4,
 "nbformat_minor": 2
}

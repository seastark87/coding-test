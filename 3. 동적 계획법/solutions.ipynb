{
 "cells": [
  {
   "cell_type": "code",
   "execution_count": 12,
   "metadata": {},
   "outputs": [],
   "source": [
    "# 1003번 피보나치 수열\n",
    "\n",
    "import sys\n",
    "\n",
    "fibo_zero = [1, 0, 1]\n",
    "fibo_one = [0, 1, 1]\n",
    "\n",
    "def fibo(N):\n",
    "    length = len(fibo_zero)\n",
    "    for i in range(length, N+1):\n",
    "        fibo_zero.append(fibo_zero[i-1]+fibo_zero[i-2])\n",
    "        fibo_one.append(fibo_one[i-1]+fibo_one[i-2])\n",
    "    print(fibo_zero[N], fibo_one[N])\n",
    "        \n",
    "n = int(sys.stdin.readline())\n",
    "for _ in range(n):\n",
    "    m = int(sys.stdin.readline())\n",
    "    fibo(m)"
   ]
  },
  {
   "cell_type": "code",
   "execution_count": 4,
   "metadata": {},
   "outputs": [
    {
     "name": "stdout",
     "output_type": "stream",
     "text": [
      "3\n",
      "16\n"
     ]
    }
   ],
   "source": [
    "# 9461번 파도반 수열\n",
    "import sys\n",
    "\n",
    "numbers = [0, 1, 1, 1]\n",
    "\n",
    "def fado(N):\n",
    "    length = len(numbers)\n",
    "    for i in range(length, N+1):\n",
    "        numbers.append(numbers[i-2]+numbers[i-3])\n",
    "    print(numbers[N])\n",
    "\n",
    "n = int(input())\n",
    "for _ in range(n):\n",
    "    m = int(input())\n",
    "    fado(m)"
   ]
  },
  {
   "cell_type": "code",
   "execution_count": 3,
   "metadata": {},
   "outputs": [
    {
     "name": "stdout",
     "output_type": "stream",
     "text": [
      "55\n"
     ]
    }
   ],
   "source": [
    "# 11726번 2xn 타일링\n",
    "N = int(input())\n",
    "numbers = [0, 1, 2]\n",
    "for i in range(3, N+1):\n",
    "    numbers.append(numbers[-1]+numbers[-2])\n",
    "print(numbers[N]%10007)"
   ]
  },
  {
   "cell_type": "code",
   "execution_count": 4,
   "metadata": {},
   "outputs": [
    {
     "name": "stdout",
     "output_type": "stream",
     "text": [
      "171\n"
     ]
    }
   ],
   "source": [
    "# 11727번 타일링 2\n",
    "N = int(input())\n",
    "numbers = [0, 1, 3]\n",
    "for i in range(3, N+1):\n",
    "    numbers.append(numbers[-1]+2*numbers[-2])\n",
    "print(numbers[N]%10007)"
   ]
  },
  {
   "cell_type": "code",
   "execution_count": 10,
   "metadata": {},
   "outputs": [
    {
     "name": "stdout",
     "output_type": "stream",
     "text": [
      "7\n",
      "44\n",
      "274\n"
     ]
    }
   ],
   "source": [
    "# 9095번 1, 2, 3 더하기\n",
    "import sys\n",
    "\n",
    "n = int(sys.stdin.readline())\n",
    "cases = []\n",
    "for _ in range(n):\n",
    "    cases.append(int(sys.stdin.readline()))\n",
    "N = max(cases)\n",
    "\n",
    "numbers = [0, 1, 2, 4, 7]\n",
    "for i in range(5, N+1):\n",
    "    numbers.append(numbers[-1]+numbers[-2]+numbers[-3])\n",
    "\n",
    "for i in cases:\n",
    "    print(numbers[i]%10007)"
   ]
  },
  {
   "cell_type": "code",
   "execution_count": 15,
   "metadata": {},
   "outputs": [
    {
     "name": "stdout",
     "output_type": "stream",
     "text": [
      "1\n"
     ]
    }
   ],
   "source": [
    "# 1463번 1로 만들기\n",
    "N = int(input())\n",
    "numbers = [0, 0, 1, 1]\n",
    "for i in range(4, N+1):\n",
    "    cand = [numbers[i-1]+1, numbers[i//2]+1+i%2, numbers[i//3]+1+i%3]\n",
    "    numbers.append(min(cand))\n",
    "print(numbers[N]%10007)\n"
   ]
  },
  {
   "cell_type": "code",
   "execution_count": 17,
   "metadata": {},
   "outputs": [
    {
     "name": "stdout",
     "output_type": "stream",
     "text": [
      "55\n"
     ]
    }
   ],
   "source": [
    "# 2193번 이친수\n",
    "N = int(input())\n",
    "numbers = [0, 1, 1, 2]\n",
    "for i in range(4, N+1):\n",
    "    numbers.append(numbers[i-1]+numbers[i-2])\n",
    "print(numbers[N])"
   ]
  },
  {
   "cell_type": "code",
   "execution_count": 7,
   "metadata": {},
   "outputs": [
    {
     "name": "stdout",
     "output_type": "stream",
     "text": [
      "4\n"
     ]
    }
   ],
   "source": [
    "# 11053번 가장 긴 증가하는 부분 수열\n",
    "# 리뷰하기\n",
    "\n",
    "n = int(input())\n",
    "a = list(map(int, input().split()))\n",
    "dp = [0 for _ in range(n)]\n",
    "\n",
    "for i in range(n):\n",
    "    for j in range(i):\n",
    "        if a[i] > a[j] and dp[i] < dp[j]:\n",
    "            dp[i] = dp[j]\n",
    "    dp[i] += 1\n",
    "print(max(dp))"
   ]
  },
  {
   "cell_type": "code",
   "execution_count": 11,
   "metadata": {},
   "outputs": [
    {
     "name": "stdout",
     "output_type": "stream",
     "text": [
      "3\n"
     ]
    }
   ],
   "source": [
    "# 11722번 가장 긴 감소하는 부분 수열\n",
    "n = int(input())\n",
    "a = list(map(int, input().split()))\n",
    "dp = [0 for _ in range(n)]\n",
    "\n",
    "for i in range(n):\n",
    "    for j in range(i):\n",
    "        if a[i] < a[j] and dp[i] < dp[j]:\n",
    "            dp[i] = dp[j]\n",
    "    dp[i] += 1\n",
    "print(max(dp))"
   ]
  },
  {
   "cell_type": "code",
   "execution_count": 14,
   "metadata": {},
   "outputs": [
    {
     "name": "stdout",
     "output_type": "stream",
     "text": [
      "113\n"
     ]
    }
   ],
   "source": [
    "# 11055번 가장 큰 증가 부분 수열\n",
    "n = int(input())\n",
    "a = list(map(int, input().split()))\n",
    "dp = [0 for _ in range(n)]\n",
    "\n",
    "for i in range(n):\n",
    "    for j in range(i):\n",
    "        if a[i] > a[j] and dp[i] < dp[j]:\n",
    "            dp[i] = dp[j]\n",
    "    dp[i] += a[i]\n",
    "\n",
    "print(max(dp))"
   ]
  },
  {
   "cell_type": "code",
   "execution_count": 15,
   "metadata": {},
   "outputs": [],
   "source": [
    "# 11055번 연속합\n",
    "n = int(input())\n",
    "a = list(map(int, input().split()))\n",
    "dp = [0 for _ in range(n)]\n",
    "dp[0] = a[0]\n",
    "\n",
    "for i in range(1, n):\n",
    "    dp[i] = max(dp[i-1]+a[i], a[i])\n",
    "print(max(dp))"
   ]
  },
  {
   "cell_type": "code",
   "execution_count": 40,
   "metadata": {},
   "outputs": [
    {
     "name": "stdout",
     "output_type": "stream",
     "text": [
      "61\n"
     ]
    }
   ],
   "source": [
    "# 10844번 쉬운 계단 수\n",
    "n = int(input())\n",
    "dp = [[0]*10 for _ in range(n+1)]\n",
    "for i in range(1, 10):\n",
    "    dp[1][i] = 1\n",
    "\n",
    "for i in range(2, n+1):\n",
    "    for j in range(1):\n",
    "        dp[i][j] = dp[i-1][j+1]\n",
    "    for j in range(1, 9):\n",
    "        dp[i][j] = dp[i-1][j-1] + dp[i-1][j+1]\n",
    "    for j in range(9, 10):\n",
    "        dp[i][j] = dp[i-1][j-1]\n",
    "    \n",
    "print(sum(dp[n])%1000000000)"
   ]
  },
  {
   "cell_type": "code",
   "execution_count": 50,
   "metadata": {},
   "outputs": [
    {
     "name": "stdout",
     "output_type": "stream",
     "text": [
      "220\n"
     ]
    }
   ],
   "source": [
    "# 11057번 오르막 수\n",
    "n = int(input())\n",
    "dp = [[0]*10 for _ in range(n+1)]\n",
    "for i in range(0, 10):\n",
    "    dp[1][i] = 1\n",
    "\n",
    "for i in range(2, n+1):\n",
    "    for j in range(0, 10):\n",
    "        dp[i][j]= sum(dp[i-1][:j+1])\n",
    "print(sum(dp[n])%10007)"
   ]
  },
  {
   "cell_type": "code",
   "execution_count": 57,
   "metadata": {},
   "outputs": [
    {
     "ename": "ValueError",
     "evalue": "invalid literal for int() with base 10: ''",
     "output_type": "error",
     "traceback": [
      "\u001b[1;31m---------------------------------------------------------------------------\u001b[0m",
      "\u001b[1;31mValueError\u001b[0m                                Traceback (most recent call last)",
      "\u001b[1;32m<ipython-input-57-891a9249ead6>\u001b[0m in \u001b[0;36m<module>\u001b[1;34m\u001b[0m\n\u001b[0;32m      1\u001b[0m \u001b[1;31m# 2579번 계단 오르기\u001b[0m\u001b[1;33m\u001b[0m\u001b[1;33m\u001b[0m\u001b[1;33m\u001b[0m\u001b[0m\n\u001b[1;32m----> 2\u001b[1;33m \u001b[0mn\u001b[0m \u001b[1;33m=\u001b[0m \u001b[0mint\u001b[0m\u001b[1;33m(\u001b[0m\u001b[0minput\u001b[0m\u001b[1;33m(\u001b[0m\u001b[1;33m)\u001b[0m\u001b[1;33m)\u001b[0m\u001b[1;33m\u001b[0m\u001b[1;33m\u001b[0m\u001b[0m\n\u001b[0m\u001b[0;32m      3\u001b[0m \u001b[0ma\u001b[0m \u001b[1;33m=\u001b[0m \u001b[1;33m[\u001b[0m\u001b[0mint\u001b[0m\u001b[1;33m(\u001b[0m\u001b[0minput\u001b[0m\u001b[1;33m(\u001b[0m\u001b[1;33m)\u001b[0m\u001b[1;33m)\u001b[0m \u001b[1;32mfor\u001b[0m \u001b[0m_\u001b[0m \u001b[1;32min\u001b[0m \u001b[0mrange\u001b[0m\u001b[1;33m(\u001b[0m\u001b[0mn\u001b[0m\u001b[1;33m)\u001b[0m\u001b[1;33m]\u001b[0m\u001b[1;33m\u001b[0m\u001b[1;33m\u001b[0m\u001b[0m\n\u001b[0;32m      4\u001b[0m \u001b[0mdp\u001b[0m \u001b[1;33m=\u001b[0m \u001b[1;33m[\u001b[0m\u001b[1;36m0\u001b[0m \u001b[1;32mfor\u001b[0m \u001b[0m_\u001b[0m \u001b[1;32min\u001b[0m \u001b[0mrange\u001b[0m\u001b[1;33m(\u001b[0m\u001b[0mn\u001b[0m\u001b[1;33m)\u001b[0m\u001b[1;33m]\u001b[0m\u001b[1;33m\u001b[0m\u001b[1;33m\u001b[0m\u001b[0m\n\u001b[0;32m      5\u001b[0m \u001b[0mdp\u001b[0m\u001b[1;33m[\u001b[0m\u001b[1;36m0\u001b[0m\u001b[1;33m]\u001b[0m \u001b[1;33m=\u001b[0m \u001b[0ma\u001b[0m\u001b[1;33m[\u001b[0m\u001b[1;36m0\u001b[0m\u001b[1;33m]\u001b[0m\u001b[1;33m\u001b[0m\u001b[1;33m\u001b[0m\u001b[0m\n",
      "\u001b[1;31mValueError\u001b[0m: invalid literal for int() with base 10: ''"
     ]
    }
   ],
   "source": [
    "# 2579번 계단 오르기\n",
    "import sys\n",
    "n = int(input())\n",
    "s = [0 for i in range(301)]\n",
    "dp = [0 for i in range(301)]\n",
    "for i in range(n):\n",
    "    s[i] = int(input())\n",
    "dp[0] = s[0]\n",
    "dp[1] = s[0] + s[1]\n",
    "dp[2] = max(s[1] + s[2], s[0] + s[2])\n",
    "for i in range(3, n):\n",
    "    dp[i] = max(dp[i - 3] + s[i - 1] + s[i], dp[i - 2] + s[i])\n",
    "print(dp[n - 1])"
   ]
  },
  {
   "cell_type": "code",
   "execution_count": 91,
   "metadata": {},
   "outputs": [
    {
     "name": "stdout",
     "output_type": "stream",
     "text": [
      "30\n"
     ]
    }
   ],
   "source": [
    "# 1932번 정수 삼각형\n",
    "from copy import copy\n",
    "\n",
    "n = int(input())\n",
    "a = [list(map(int, input().split())) for i in range(n)]\n",
    "\n",
    "dp = [copy(a[i]) for i in range(n)]\n",
    "for i in range(1, n):\n",
    "    for j in range(len(dp[n-1-i])):\n",
    "        dp[n-1-i][j] = max(dp[n-i][j], dp[n-i][j+1])+a[n-1-i][j]\n",
    "        \n",
    "print(dp[0][0])\n"
   ]
  },
  {
   "cell_type": "code",
   "execution_count": 5,
   "metadata": {},
   "outputs": [
    {
     "name": "stdout",
     "output_type": "stream",
     "text": [
      "260\n"
     ]
    }
   ],
   "source": [
    "# 9465번 스티커\n",
    "# runtimeerror index error 물어보기\n",
    "\n",
    "n = int(input())\n",
    "for _ in range(n):\n",
    "    m = int(input())\n",
    "    \n",
    "    # a = list(map(int, input().split()))\n",
    "    # b = list(map(int, input().split()))\n",
    "    a = [0 for _ in range(m)]\n",
    "    b = [0 for _ in range(m)]\n",
    "    for i, j in enumerate(list(map(int, input().split()))):\n",
    "        a[i] = j\n",
    "    for i, j in enumerate(list(map(int, input().split()))):\n",
    "        b[i] = j\n",
    "    \n",
    "    dp = [[0, 0] for _ in range(m)]\n",
    "    dp[0][0] = a[0]\n",
    "    dp[0][1] = b[0]\n",
    "    \n",
    "    if m >= 2:\n",
    "        dp[1][0] = dp[0][1] + a[1]\n",
    "        dp[1][1] = dp[0][0] + b[1]\n",
    "    \n",
    "    for i in range(2, m):\n",
    "        dp[i][0] = max(dp[i-1][1], max(dp[i-2])) + a[i]\n",
    "        dp[i][1] = max(dp[i-1][0], max(dp[i-2])) + b[i]\n",
    "    print(max(dp[-1]))\n"
   ]
  },
  {
   "cell_type": "code",
   "execution_count": 8,
   "metadata": {},
   "outputs": [
    {
     "name": "stdout",
     "output_type": "stream",
     "text": [
      "33\n"
     ]
    }
   ],
   "source": [
    "# 2156번 포도주 시식\n",
    "n = int(input())\n",
    "a = [0 for _ in range(n)]\n",
    "for i in range(n):\n",
    "    a[i] = int(input())\n",
    "dp = [0 for _ in range(n)]\n",
    "dp[0] = a[0]\n",
    "if n >= 2:\n",
    "    dp[1] = a[0]+a[1]\n",
    "if n >= 3:\n",
    "    dp[2] = max(a[0]+a[1], a[0]+a[2], a[1]+a[2])\n",
    "for i in range(3, n):\n",
    "    dp[i] = max(dp[i-1], dp[i-2] + a[i], dp[i-3] + a[i-1] + a[i])\n",
    "print(max(dp))"
   ]
  },
  {
   "cell_type": "code",
   "execution_count": 22,
   "metadata": {},
   "outputs": [
    {
     "name": "stdout",
     "output_type": "stream",
     "text": [
      "50\n"
     ]
    }
   ],
   "source": [
    "# 11052번 카드 구매하기\n",
    "# 리뷰하기 DP 문제 알아보는 방법\n",
    "from copy import copy\n",
    "\n",
    "n = int(input())\n",
    "a = [0] + list(map(int, input().split()))\n",
    "\n",
    "dp = [0 for _ in range(n+1)]\n",
    "dp = copy(a)\n",
    "for i in range(2, n+1):\n",
    "    for j in range(i):\n",
    "        if  dp[j]+dp[i-j] > dp[i]:\n",
    "            dp[i] = dp[j]+dp[i-j]\n",
    "print(dp[-1])"
   ]
  },
  {
   "cell_type": "code",
   "execution_count": 42,
   "metadata": {},
   "outputs": [
    {
     "name": "stdout",
     "output_type": "stream",
     "text": [
      "[0, 1]\n",
      "[1, 3]\n",
      "[3, 6]\n",
      "[6, 10]\n",
      "[10, 15]\n",
      "[15, 21]\n",
      "[21, 28]\n",
      "[28, 36]\n",
      "[36, 45]\n",
      "[45, 55]\n",
      "55\n"
     ]
    }
   ],
   "source": [
    "# 15486번 퇴사2\n",
    "# 리뷰하기\n",
    "\n",
    "import sys\n",
    "input = sys.stdin.readline\n",
    "\n",
    "n = int(input())\n",
    "t = [0]\n",
    "p = [0]\n",
    "for _ in range(n):\n",
    "    a, b = map(int, input().split())\n",
    "    t.append(a)\n",
    "    p.append(b)\n",
    "    \n",
    "a = {i+1:[] for i in range(n+max(t))}\n",
    "for i in range(1, n+1):\n",
    "    a[i+t[i]-1].append([t[i], p[i]])\n",
    "\n",
    "dp = [0 for _ in range(n+1)]\n",
    "for i in range(1, n+1):\n",
    "    b = [dp[i-1]]\n",
    "    for j in a[i]:\n",
    "        time = j[0]\n",
    "        b.append(j[1]+dp[i-time])\n",
    "    dp[i] = max(b)\n",
    "print(max(dp))"
   ]
  },
  {
   "cell_type": "code",
   "execution_count": 68,
   "metadata": {},
   "outputs": [
    {
     "name": "stdout",
     "output_type": "stream",
     "text": [
      "[0, 1, 2, 3, 4, 5, 6, 7, 8, 9, 10, 11, 12, 13, 14, 15]\n",
      "[0, 1, 2, 3, 4, 5, 6, 8, 10, 12, 14, 16, 18, 20, 22, 24]\n",
      "[0, 1, 2, 3, 4, 5, 6, 9, 12, 15, 18, 21, 24, 27, 30, 33]\n",
      "[0, 1, 2, 3, 4, 5, 6, 9, 12, 16, 20, 24, 28, 32, 36, 40]\n",
      "[0, 1, 2, 3, 4, 5, 6, 9, 12, 16, 20, 25, 30, 35, 40, 45]\n",
      "[0, 1, 2, 3, 4, 5, 6, 9, 12, 16, 20, 25, 30, 36, 42, 48]\n",
      "[0, 1, 2, 3, 4, 5, 6, 9, 12, 16, 20, 27, 36, 45, 54, 63]\n",
      "[0, 1, 2, 3, 4, 5, 6, 9, 12, 16, 20, 27, 36, 48, 60, 72]\n",
      "[0, 1, 2, 3, 4, 5, 6, 9, 12, 16, 20, 27, 36, 48, 64, 80]\n",
      "[0, 1, 2, 3, 4, 5, 6, 9, 12, 16, 20, 27, 36, 48, 64, 80]\n",
      "[0, 1, 2, 3, 4, 5, 6, 9, 12, 16, 20, 27, 36, 48, 64, 81]\n",
      "[0, 1, 2, 3, 4, 5, 6, 9, 12, 16, 20, 27, 36, 48, 64, 81]\n",
      "[0, 1, 2, 3, 4, 5, 6, 9, 12, 16, 20, 27, 36, 48, 64, 81]\n",
      "[0, 1, 2, 3, 4, 5, 6, 9, 12, 16, 20, 27, 36, 48, 64, 81]\n",
      "[0, 1, 2, 3, 4, 5, 6, 9, 12, 16, 20, 27, 36, 48, 64, 81]\n",
      "81\n"
     ]
    }
   ],
   "source": [
    "# 11058번 크리보드\n",
    "# 리뷰하기\n",
    "n = int(input())\n",
    "dp = [0 for _ in range(n+1)]\n",
    "dp[1] = 1\n",
    "for i in range(1, n+1):\n",
    "    for j in range(i+1, n+1):\n",
    "        if dp[i]+(j-i) > dp[j]:\n",
    "            dp[j] = dp[i]+(j-i)\n",
    "    for j in range(i+3, n+1):\n",
    "        if dp[i]*(j-i-3+2) > dp[j]:\n",
    "            dp[j] = dp[i]*(j-i-3+2)\n",
    "    print(dp)\n",
    "print(max(dp))\n"
   ]
  },
  {
   "cell_type": "code",
   "execution_count": 1,
   "metadata": {},
   "outputs": [],
   "source": [
    "# 12865번 평범한 베낭\n",
    "n, k = map(int, input().split())\n",
    "w = []\n",
    "v = []\n",
    "for i in range(n):\n",
    "    a, b = map(int, input().split())\n",
    "    w.append(a)\n",
    "    v.append(b)"
   ]
  },
  {
   "cell_type": "code",
   "execution_count": 104,
   "metadata": {},
   "outputs": [],
   "source": [
    "# 9251번 LCS\n",
    "S1 = input()\n",
    "S2 = input()\n",
    "\n",
    "len1 = len(S1)\n",
    "len2 = len(S2)\n",
    "matrix = [[0] * (len2 + 1) for _ in range(len1 + 1)]\n",
    "\n",
    "for i in range(1, len1 + 1):\n",
    "    for j in range(1, len2 + 1):\n",
    "        if S1[i - 1] == S2[j - 1]:\n",
    "            matrix[i][j] = matrix[i - 1][j - 1] + 1\n",
    "        else:\n",
    "            matrix[i][j] = max(matrix[i - 1][j], matrix[i][j - 1])\n",
    "\n",
    "print(matrix[-1][-1])"
   ]
  },
  {
   "cell_type": "code",
   "execution_count": 103,
   "metadata": {},
   "outputs": [
    {
     "name": "stdout",
     "output_type": "stream",
     "text": [
      "21\n"
     ]
    }
   ],
   "source": [
    "# 2225번 합분해\n",
    "n, k = map(int, input().split())\n",
    "a = [[None for _ in range(k+1)] for _ in range(n+1)]\n",
    "\n",
    "def function(n, k):\n",
    "    if a[n][k] != None:\n",
    "        return a[n][k]\n",
    "    else:\n",
    "        if k == 1:\n",
    "            a[n][k] = 1\n",
    "            return 1\n",
    "        else:\n",
    "            s = 0\n",
    "            for i in range(0, n+1):\n",
    "                s += function(n-i, k-1)\n",
    "            a[n][k] = s\n",
    "            return s\n",
    "print(function(n, k)%1000000000)\n"
   ]
  },
  {
   "cell_type": "code",
   "execution_count": 116,
   "metadata": {},
   "outputs": [],
   "source": [
    "stack = [1]\n",
    "a = {1, 2, 3}\n",
    "b = {1, 'e'}"
   ]
  },
  {
   "cell_type": "code",
   "execution_count": 117,
   "metadata": {},
   "outputs": [
    {
     "ename": "TypeError",
     "evalue": "unsupported operand type(s) for +=: 'set' and 'tuple'",
     "output_type": "error",
     "traceback": [
      "\u001b[1;31m---------------------------------------------------------------------------\u001b[0m",
      "\u001b[1;31mTypeError\u001b[0m                                 Traceback (most recent call last)",
      "\u001b[1;32m<ipython-input-117-f38c8733e8f9>\u001b[0m in \u001b[0;36m<module>\u001b[1;34m\u001b[0m\n\u001b[1;32m----> 1\u001b[1;33m \u001b[0ma\u001b[0m \u001b[1;33m+=\u001b[0m \u001b[1;33m(\u001b[0m\u001b[1;36m1\u001b[0m\u001b[1;33m,\u001b[0m \u001b[1;36m2\u001b[0m\u001b[1;33m,\u001b[0m \u001b[1;36m3\u001b[0m\u001b[1;33m)\u001b[0m\u001b[1;33m\u001b[0m\u001b[1;33m\u001b[0m\u001b[0m\n\u001b[0m\u001b[0;32m      2\u001b[0m \u001b[0ma\u001b[0m\u001b[1;33m\u001b[0m\u001b[1;33m\u001b[0m\u001b[0m\n",
      "\u001b[1;31mTypeError\u001b[0m: unsupported operand type(s) for +=: 'set' and 'tuple'"
     ]
    }
   ],
   "source": [
    "a += (1, 2, 3)\n",
    "a"
   ]
  },
  {
   "cell_type": "code",
   "execution_count": 113,
   "metadata": {},
   "outputs": [],
   "source": [
    "a = int(1)\n",
    "b = 3.5"
   ]
  },
  {
   "cell_type": "code",
   "execution_count": 114,
   "metadata": {},
   "outputs": [
    {
     "data": {
      "text/plain": [
       "4.5"
      ]
     },
     "execution_count": 114,
     "metadata": {},
     "output_type": "execute_result"
    }
   ],
   "source": [
    "a += b\n",
    "a"
   ]
  },
  {
   "cell_type": "code",
   "execution_count": 97,
   "metadata": {},
   "outputs": [
    {
     "data": {
      "text/plain": [
       "[1, 1, 2, 3, 1, 2, 3, 1, 2, 3, 1, 2, 3, 1, 2, 3, 1, 2, 3, 1, 2, 3]"
      ]
     },
     "execution_count": 97,
     "metadata": {},
     "output_type": "execute_result"
    }
   ],
   "source": [
    "stack"
   ]
  },
  {
   "cell_type": "code",
   "execution_count": 86,
   "metadata": {},
   "outputs": [
    {
     "ename": "TypeError",
     "evalue": "can only concatenate list (not \"set\") to list",
     "output_type": "error",
     "traceback": [
      "\u001b[1;31m---------------------------------------------------------------------------\u001b[0m",
      "\u001b[1;31mTypeError\u001b[0m                                 Traceback (most recent call last)",
      "\u001b[1;32m<ipython-input-86-4733e062d710>\u001b[0m in \u001b[0;36m<module>\u001b[1;34m\u001b[0m\n\u001b[1;32m----> 1\u001b[1;33m \u001b[0mstack\u001b[0m \u001b[1;33m+\u001b[0m \u001b[0ma\u001b[0m\u001b[1;33m\u001b[0m\u001b[1;33m\u001b[0m\u001b[0m\n\u001b[0m",
      "\u001b[1;31mTypeError\u001b[0m: can only concatenate list (not \"set\") to list"
     ]
    }
   ],
   "source": [
    "stack + a"
   ]
  }
 ],
 "metadata": {
  "kernelspec": {
   "display_name": "Python (system)",
   "language": "python",
   "name": "python3"
  },
  "language_info": {
   "codemirror_mode": {
    "name": "ipython",
    "version": 3
   },
   "file_extension": ".py",
   "mimetype": "text/x-python",
   "name": "python",
   "nbconvert_exporter": "python",
   "pygments_lexer": "ipython3",
   "version": "3.8.5"
  },
  "orig_nbformat": 4,
  "vscode": {
   "interpreter": {
    "hash": "f08154012ddadd8e950e6e9e035c7a7b32c136e7647e9b7c77e02eb723a8bedb"
   }
  }
 },
 "nbformat": 4,
 "nbformat_minor": 2
}

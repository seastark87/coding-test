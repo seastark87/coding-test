{
 "cells": [
  {
   "cell_type": "code",
   "execution_count": null,
   "metadata": {},
   "outputs": [],
   "source": [
    "'''\n",
    "백준 문제집 week 1 : 수학 https://www.acmicpc.net/workbook/view/8997"
   ]
  },
  {
   "cell_type": "code",
   "execution_count": 7,
   "metadata": {},
   "outputs": [
    {
     "name": "stdout",
     "output_type": "stream",
     "text": [
      "6\n"
     ]
    }
   ],
   "source": [
    "# 합 #백준8393\n",
    "import sys\n",
    "# input = sys.stdin.readline\n",
    "n = int(input())\n",
    "print(sum(list(range(1, n+1))))"
   ]
  },
  {
   "cell_type": "code",
   "execution_count": 6,
   "metadata": {},
   "outputs": [
    {
     "name": "stdout",
     "output_type": "stream",
     "text": [
      "3\n",
      "5\n",
      "7\n",
      "11\n",
      "13\n"
     ]
    }
   ],
   "source": [
    "# 소수 구하기 #백준1929\n",
    "import sys\n",
    "# input = sys.stdin.readline\n",
    "m, n = map(int, input().split())\n",
    "\n",
    "def get_primes(n):\n",
    "    primes = [True]*(n+1)\n",
    "    primes[0] = primes[1] = False\n",
    "    for i in range(2, int(n**(1/2))+1):\n",
    "        if primes[i]:\n",
    "            for j in range(i**2, n+1, i):\n",
    "                primes[j] = False\n",
    "    return primes\n",
    "\n",
    "primes = get_primes(n)\n",
    "for i in range(m, n+1):\n",
    "    if primes[i]:\n",
    "        print(i)\n"
   ]
  },
  {
   "cell_type": "code",
   "execution_count": 2,
   "metadata": {},
   "outputs": [
    {
     "name": "stdout",
     "output_type": "stream",
     "text": [
      "3\n"
     ]
    }
   ],
   "source": [
    "# 소수 찾기 #백준1978\n",
    "import sys\n",
    "# input =sys.stdin.readline\n",
    "\n",
    "def get_primes(n):\n",
    "    primes = [True]*(n+1)\n",
    "    primes[0] = primes[1] = False\n",
    "    for i in range(2, int(n**(1/2))+1):\n",
    "        if primes[i]:\n",
    "            for j in range(i**2, n+1, i):\n",
    "                primes[j] = False\n",
    "    return primes\n",
    "\n",
    "n = int(input())\n",
    "a = list(map(int, input().split()))\n",
    "primes = get_primes(max(a))\n",
    "cnt = 0\n",
    "for num in a:\n",
    "    if primes[num]:\n",
    "        cnt += 1\n",
    "print(cnt)"
   ]
  },
  {
   "cell_type": "code",
   "execution_count": null,
   "metadata": {},
   "outputs": [],
   "source": [
    "# 아리스토텔레스의 체\n",
    "def get_primes(n):\n",
    "    primes = [True] * (n+1)\n",
    "    primes[0] = primes[1] = False\n",
    "    for i in range(2, int(n**(1/2))+1):\n",
    "        if primes[i]:\n",
    "            for j in range(i*i, n+1, i):\n",
    "                primes[j] = False\n",
    "    return primes\n",
    "    # return [x for x in range(n+1) if primes[x]]"
   ]
  },
  {
   "cell_type": "code",
   "execution_count": 4,
   "metadata": {},
   "outputs": [
    {
     "ename": "ValueError",
     "evalue": "invalid literal for int() with base 10: ''",
     "output_type": "error",
     "traceback": [
      "\u001b[1;31m---------------------------------------------------------------------------\u001b[0m",
      "\u001b[1;31mValueError\u001b[0m                                Traceback (most recent call last)",
      "Cell \u001b[1;32mIn [4], line 14\u001b[0m\n\u001b[0;32m     12\u001b[0m nums \u001b[39m=\u001b[39m []\n\u001b[0;32m     13\u001b[0m \u001b[39mwhile\u001b[39;00m \u001b[39mTrue\u001b[39;00m:\n\u001b[1;32m---> 14\u001b[0m     num \u001b[39m=\u001b[39m \u001b[39mint\u001b[39;49m(\u001b[39minput\u001b[39;49m())\n\u001b[0;32m     15\u001b[0m     \u001b[39mif\u001b[39;00m num \u001b[39m==\u001b[39m \u001b[39m0\u001b[39m:\n\u001b[0;32m     16\u001b[0m         \u001b[39mbreak\u001b[39;00m\n",
      "\u001b[1;31mValueError\u001b[0m: invalid literal for int() with base 10: ''"
     ]
    }
   ],
   "source": [
    "# 베르트랑 공준 #백준4948 #중요 #소수구하기 #아리스토텔레스의 체\n",
    "def get_primes(n):\n",
    "    primes = [True] * (n+1)\n",
    "    primes[0] = primes[1] = False\n",
    "    for i in range(2, int(n**(1/2))+1):\n",
    "        if primes[i]:\n",
    "            for j in range(i*i, n+1, i):\n",
    "                primes[j] = False\n",
    "    return primes\n",
    "    # return [x for x in range(n+1) if primes[x]]\n",
    "\n",
    "nums = []\n",
    "while True:\n",
    "    num = int(input())\n",
    "    if num == 0:\n",
    "        break\n",
    "    nums.append(num)\n",
    "    \n",
    "max_num = max(nums)\n",
    "primes = get_primes(2*max_num)\n",
    "\n",
    "for num in nums:\n",
    "    n = 0\n",
    "    for i in range(num+1, 2*num+1):\n",
    "        if primes[i]:\n",
    "            n += 1\n",
    "    print(n)"
   ]
  },
  {
   "cell_type": "code",
   "execution_count": 16,
   "metadata": {},
   "outputs": [
    {
     "name": "stdout",
     "output_type": "stream",
     "text": [
      "1 2\n",
      "1 3\n",
      "1 4\n",
      "2 1\n",
      "2 3\n",
      "2 4\n",
      "3 1\n",
      "3 2\n",
      "3 4\n",
      "4 1\n",
      "4 2\n",
      "4 3\n"
     ]
    }
   ],
   "source": [
    "# N과 M(1) #백준15649\n",
    "\n",
    "from itertools import permutations\n",
    "\n",
    "N, M = map(int, input().split())\n",
    "for i in permutations(range(1, N+1), M):\n",
    "    print(*i)\n",
    "\n"
   ]
  },
  {
   "cell_type": "code",
   "execution_count": 14,
   "metadata": {},
   "outputs": [
    {
     "name": "stdout",
     "output_type": "stream",
     "text": [
      "(1,)\n",
      "(2,)\n",
      "(3,)\n"
     ]
    }
   ],
   "source": [
    "# 최대공약수와 최소공배수 #백준2609 #euclidean algorithm\n",
    "\n",
    "def gcd(a, b):\n",
    "    if b == 0:\n",
    "        return a\n",
    "    else:\n",
    "        return gcd(b, a%b) \n",
    "\n",
    "n, m = map(int, input().split())\n",
    "a = gcd(n, m)\n",
    "b = int(n*m/a)\n",
    "\n",
    "print(a)\n",
    "print(b)\n",
    "\n",
    "\n"
   ]
  },
  {
   "cell_type": "code",
   "execution_count": 18,
   "metadata": {},
   "outputs": [
    {
     "name": "stdout",
     "output_type": "stream",
     "text": [
      "3 5\n",
      "5 5\n",
      "5 11\n"
     ]
    }
   ],
   "source": [
    "# 골드바흐의 추측 #백준9020\n",
    "def get_primes(n):\n",
    "    primes = [True]*(n+1)\n",
    "    primes[0] = primes[1] = False\n",
    "    for i in range(2, int(n**(1/2))+1):\n",
    "        if primes[i]:\n",
    "            for j in range(i**2, n+1, i):\n",
    "                primes[j] = False\n",
    "    return primes\n",
    "\n",
    "primes = get_primes(10000)\n",
    "\n",
    "n = int(input())\n",
    "for i in range(n):\n",
    "    m = int(input())\n",
    "    for i in range(m):\n",
    "        if primes[int(m/2-i)] and primes[int(m/2+i)]:\n",
    "            print(int(m/2-i), int(m/2+i))\n",
    "            break\n"
   ]
  },
  {
   "cell_type": "code",
   "execution_count": 23,
   "metadata": {},
   "outputs": [
    {
     "name": "stdout",
     "output_type": "stream",
     "text": [
      "2\n",
      "2\n",
      "2\n",
      "3\n",
      "3\n"
     ]
    }
   ],
   "source": [
    "# 소인수분해 #백준11653\n",
    "def prime_factorization(n):\n",
    "    factors = []\n",
    "    while n!=1:\n",
    "        for i in range(2, n+1):\n",
    "            while n%i == 0:\n",
    "                factors.append(i)\n",
    "                n = n/i\n",
    "    return factors\n",
    "\n",
    "n = int(input())\n",
    "factors = prime_factorization(n)\n",
    "for f in factors:\n",
    "    print(f)"
   ]
  },
  {
   "cell_type": "code",
   "execution_count": 27,
   "metadata": {},
   "outputs": [
    {
     "name": "stdout",
     "output_type": "stream",
     "text": [
      "72 = 5 + 67\n"
     ]
    }
   ],
   "source": [
    "#골드바흐의 추측 #백준6588\n",
    "from sys import stdin\n",
    "\n",
    "def get_primes(n):\n",
    "    primes = [True]*(n+1)\n",
    "    primes[0] = primes[1] = False\n",
    "    for i in range(2, int(n**(1/2))+1):\n",
    "        if primes[i]:\n",
    "            for j in range(i**2, (n+1), i):\n",
    "                primes[j] = False\n",
    "    return primes\n",
    "\n",
    "primes = get_primes(1000000)\n",
    "    \n",
    "while True:\n",
    "    n = int(stdin.readline())\n",
    "    if n == 0:\n",
    "        break\n",
    "    for i in range(3, n):\n",
    "        if primes[i] and primes[n-i]:\n",
    "            print(\"{} = {} + {}\".format(n, i, n-i))\n",
    "            break"
   ]
  },
  {
   "cell_type": "code",
   "execution_count": 3,
   "metadata": {},
   "outputs": [
    {
     "name": "stdout",
     "output_type": "stream",
     "text": [
      "1\n"
     ]
    }
   ],
   "source": [
    "# 부분수열의 합 #백준1182 #조합 #재귀 #백트래킹 #재귀+백트래킹이 조합보다 더 빨랐음\n",
    "import sys\n",
    "# input = sys.stdin.readline\n",
    "n, m = map(int, input().split())\n",
    "a = list(map(int, input().split()))\n",
    "cnt = 0\n",
    "\n",
    "def subset_sum(idx, sub_sum):\n",
    "    global cnt\n",
    "    if idx >= n:\n",
    "        return\n",
    "    sub_sum += a[idx]\n",
    "    if sub_sum == m:\n",
    "        cnt += 1\n",
    "    subset_sum(idx+1, sub_sum)\n",
    "    subset_sum(idx+1, sub_sum-a[idx])\n",
    "\n",
    "subset_sum(0, 0)\n",
    "print(cnt)"
   ]
  },
  {
   "cell_type": "code",
   "execution_count": 4,
   "metadata": {},
   "outputs": [
    {
     "name": "stdout",
     "output_type": "stream",
     "text": [
      "1 2 3 4 5 6\n",
      "1 2 3 4 5 7\n",
      "1 2 3 4 6 7\n",
      "1 2 3 5 6 7\n",
      "1 2 4 5 6 7\n",
      "1 3 4 5 6 7\n",
      "2 3 4 5 6 7\n",
      "1 2 3 5 8 13\n",
      "1 2 3 5 8 21\n",
      "1 2 3 5 8 34\n",
      "1 2 3 5 13 21\n",
      "1 2 3 5 13 34\n",
      "1 2 3 5 21 34\n",
      "1 2 3 8 13 21\n",
      "1 2 3 8 13 34\n",
      "1 2 3 8 21 34\n",
      "1 2 3 13 21 34\n",
      "1 2 5 8 13 21\n",
      "1 2 5 8 13 34\n",
      "1 2 5 8 21 34\n",
      "1 2 5 13 21 34\n",
      "1 2 8 13 21 34\n",
      "1 3 5 8 13 21\n",
      "1 3 5 8 13 34\n",
      "1 3 5 8 21 34\n",
      "1 3 5 13 21 34\n",
      "1 3 8 13 21 34\n",
      "1 5 8 13 21 34\n",
      "2 3 5 8 13 21\n",
      "2 3 5 8 13 34\n",
      "2 3 5 8 21 34\n",
      "2 3 5 13 21 34\n",
      "2 3 8 13 21 34\n",
      "2 5 8 13 21 34\n",
      "3 5 8 13 21 34\n"
     ]
    }
   ],
   "source": [
    "#로또 #백준6603\n",
    "from itertools import combinations\n",
    "import sys\n",
    "# input = sys.stdin.readline\n",
    "while True:\n",
    "    a = list(map(int, input().split()))\n",
    "    n = a[0]\n",
    "    if n == 0:\n",
    "        break\n",
    "    b = a[1:]\n",
    "    for i in combinations(b, 6):\n",
    "        print(*i)\n",
    "    print()  \n"
   ]
  },
  {
   "cell_type": "code",
   "execution_count": 6,
   "metadata": {},
   "outputs": [
    {
     "name": "stdout",
     "output_type": "stream",
     "text": [
      "1 2\n",
      "1 3\n",
      "1 4\n",
      "2 3\n",
      "2 4\n",
      "3 4\n"
     ]
    }
   ],
   "source": [
    "#N과 M (2) #백준15650\n",
    "import sys\n",
    "from itertools import combinations\n",
    "# input = sys.stdin.readline\n",
    "n, m = map(int, input().split())\n",
    "for i in combinations(range(1, n+1), m):\n",
    "    print(*i)"
   ]
  },
  {
   "cell_type": "code",
   "execution_count": 8,
   "metadata": {},
   "outputs": [
    {
     "name": "stdout",
     "output_type": "stream",
     "text": [
      "3\n"
     ]
    }
   ],
   "source": [
    "#검문 #백준2981\n",
    "import sys\n",
    "input = sys.stdin.readline\n",
    "\n",
    "n = int(input())\n",
    "a = []\n",
    "for i in range(n):\n",
    "    a.append(int(input()))\n",
    "\n",
    "ans = []\n",
    "for i in range(2, max(a)):\n",
    "    s = a[0]%i\n",
    "    for j in range(1, len(a)):\n",
    "        if s != a[j]%i:\n",
    "            break\n",
    "        if j ==len(a)-1:\n",
    "            ans.append(i)\n",
    "print(*ans)"
   ]
  },
  {
   "cell_type": "code",
   "execution_count": 10,
   "metadata": {},
   "outputs": [
    {
     "name": "stdout",
     "output_type": "stream",
     "text": [
      "1192052400.0\n"
     ]
    }
   ],
   "source": [
    "# 조합 #백준2407\n",
    "import sys\n",
    "# input = sys.stdin.readline\n",
    "\n",
    "n, m = map(int, input().split())\n",
    "s = 1\n",
    "for i in range(m):\n",
    "    s = s * (n-i)\n",
    "for i in range(1, m+1):\n",
    "    s = s//i\n",
    "print(s)\n"
   ]
  },
  {
   "cell_type": "code",
   "execution_count": 1,
   "metadata": {},
   "outputs": [
    {
     "name": "stdout",
     "output_type": "stream",
     "text": [
      "1 2 3\n",
      "1 3 2\n",
      "2 1 3\n",
      "2 3 1\n",
      "3 1 2\n",
      "3 2 1\n"
     ]
    }
   ],
   "source": [
    "#모든 수열 #10972\n",
    "from itertools import permutations\n",
    "import sys\n",
    "# input = sys.stdin.readline\n",
    "n = int(input())\n",
    "for i in permutations(range(1, n+1), n):\n",
    "    print(*i)\n"
   ]
  },
  {
   "cell_type": "code",
   "execution_count": null,
   "metadata": {},
   "outputs": [],
   "source": [
    "#최대공약수 #2824\n",
    "import sys\n",
    "input = sys.stdin.readline\n",
    "\n",
    "def gcd(a, b):\n",
    "    if b == 0:\n",
    "        return a\n",
    "    return gcd(b, a%b)\n",
    "\n",
    "def prime_factorization()\n",
    "\n",
    "n = int(input())\n",
    "a = list(map(int, input().split()))\n",
    "m = int(input())\n",
    "b = list(map(int, input().split()))\n",
    "\n",
    "\n"
   ]
  },
  {
   "cell_type": "code",
   "execution_count": 4,
   "metadata": {},
   "outputs": [
    {
     "name": "stdout",
     "output_type": "stream",
     "text": [
      "3 3\n",
      "1\n",
      "4 4\n",
      "1\n",
      "5 5\n",
      "2\n",
      "6 6\n",
      "1\n",
      "50 50\n",
      "6\n"
     ]
    }
   ],
   "source": [
    "# 골드바흐의 추측 #17103\n",
    "import sys\n",
    "# input = sys.stdin.readline\n",
    "\n",
    "def get_primes(n):\n",
    "    primes = [True]*(n+1)\n",
    "    primes[0] = primes[1] = False\n",
    "    for i in range(2, int(n**(1/2))+1):\n",
    "        if primes[i]:\n",
    "            for j in range(i**2, n+1, i):\n",
    "                primes[j] = False\n",
    "    return primes\n",
    "\n",
    "primes = get_primes(1000000)\n",
    "\n",
    "n = int(input())\n",
    "for i in range(n):\n",
    "    m = int(input())\n",
    "    cnt = 0\n",
    "    for j in range(2, int(m/2)+1):\n",
    "        if primes[j] and primes[m-j]:\n",
    "            cnt += 1\n",
    "    print(cnt)"
   ]
  },
  {
   "cell_type": "code",
   "execution_count": 6,
   "metadata": {},
   "outputs": [
    {
     "name": "stdout",
     "output_type": "stream",
     "text": [
      "24\n"
     ]
    }
   ],
   "source": [
    "#숨바꼭질 6 #백준17087\n",
    "import sys\n",
    "# input = sys.stdin.readline\n",
    "\n",
    "n, s = map(int, input().split())\n",
    "a = list(map(int, input().split()))\n",
    "\n",
    "def gcd(a, b):\n",
    "    # 기저 사례\n",
    "    if b == 0:\n",
    "        return a\n",
    "    # 재귀\n",
    "    return gcd(b, a%b)\n",
    "\n",
    "dists = [abs(x-s) for x in a]\n",
    "ans = dists[0]\n",
    "for dist in dists[1:]:\n",
    "    ans = gcd(ans, dist)\n",
    "print(ans)\n"
   ]
  },
  {
   "cell_type": "code",
   "execution_count": null,
   "metadata": {},
   "outputs": [],
   "source": [
    "# 피보나치 수 2\n",
    "n = int(input())\n",
    "f = [0, 1]\n",
    "for i in range(n-1):\n",
    "    f.append(f[-2]+f[-1])\n",
    "print(f[n])"
   ]
  },
  {
   "cell_type": "code",
   "execution_count": null,
   "metadata": {},
   "outputs": [],
   "source": [
    "# 베르트랑 공준\n",
    "import math\n",
    "\n",
    "def is_prime(n):\n",
    "    if n == 1:\n",
    "        return False\n",
    "    elif n == 2 or n == 3:\n",
    "        return True\n",
    "    \n",
    "    for i in range(2, int(math.sqrt(n))+1):\n",
    "        if n%i == 0:\n",
    "            return False\n",
    "    return True\n",
    "\n",
    "primes = []\n",
    "for i in range(1, 123456*2+1):\n",
    "    if is_prime(i):\n",
    "        primes.append(i)\n",
    "\n",
    "while True:\n",
    "    num = int(input())\n",
    "    if num:\n",
    "        p_num = 0\n",
    "        for p in primes:\n",
    "            if p > num:\n",
    "                if p <= 2*num:\n",
    "                    p_num += 1\n",
    "                else:\n",
    "                    break\n",
    "        print(p_num)\n",
    "    else:\n",
    "        break"
   ]
  },
  {
   "cell_type": "code",
   "execution_count": null,
   "metadata": {},
   "outputs": [],
   "source": [
    "# 발표할 것 string.join(iterable with all variable type string)\n",
    "# N과 M(1)\n",
    "\n",
    "from itertools import permutations\n",
    "\n",
    "N, M = map(int, input().split())\n",
    "for an in permutations(range(1, N+1), M):\n",
    "    print(' '.join(map(str, an)))    "
   ]
  },
  {
   "cell_type": "code",
   "execution_count": null,
   "metadata": {},
   "outputs": [],
   "source": [
    "# 최대공약수와 최소공배수\n",
    "n, m = map(int, input().split())\n",
    "for i in range(1, min([n, m])+1):\n",
    "    if n%i == 0 and m%i == 0:\n",
    "        a = i\n",
    "print(a)\n",
    "print(n*m//a)\n"
   ]
  },
  {
   "cell_type": "code",
   "execution_count": null,
   "metadata": {},
   "outputs": [],
   "source": [
    "#골드바흐의 추측\n",
    "import math\n",
    "from collections import defaultdict\n",
    "\n",
    "def is_prime(n):\n",
    "    if n == 1:\n",
    "        return False\n",
    "    elif n == 2 or n == 3:\n",
    "        return True\n",
    "    \n",
    "    for i in range(2, int(math.sqrt(n))+1):\n",
    "        if n%i == 0:\n",
    "            return False\n",
    "    return True\n",
    "\n",
    "primes = {}\n",
    "for i in range(1, 10000):\n",
    "    primes[i] = True if is_prime(i) else False\n",
    "\n",
    "n = int(input())\n",
    "x_list = []\n",
    "for i in range(n):\n",
    "    x_list.append(int(input()))\n",
    "\n",
    "for x in x_list:\n",
    "    for i in range(int(x/2), 1, -1):\n",
    "        if primes[i] and primes[x-i]:\n",
    "            y = ' '.join(map(str, [i, x-i]))\n",
    "            break\n",
    "    print(y)\n",
    "        "
   ]
  },
  {
   "cell_type": "code",
   "execution_count": null,
   "metadata": {},
   "outputs": [],
   "source": [
    "# 발표 - 시간이 너무 오래 걸림 몇분씩 걸림\n",
    "# # 소인수분해\n",
    "# import math\n",
    "\n",
    "# def is_prime(n):\n",
    "#     if n < 2:\n",
    "#         return False\n",
    "#     for i in range(2, int(math.sqrt(n))+1):\n",
    "#         if n%i == 0:\n",
    "#             return False\n",
    "#     return True\n",
    "\n",
    "# def get_primes(u_lim):\n",
    "#     primes = []\n",
    "#     for i in range(2, u_lim+1):\n",
    "#         if is_prime(i):\n",
    "#             primes.append(i)\n",
    "#     return primes\n",
    "            \n",
    "\n",
    "# x = int(input())\n",
    "# primes = get_primes(x)\n",
    "\n",
    "# q = x\n",
    "# answer = []\n",
    "# # while not is_prime(q):\n",
    "# while q != 1:\n",
    "#     for p in primes:\n",
    "#         n = 0\n",
    "#         while q%p == 0:\n",
    "#             answer.append(p)\n",
    "#             q = q//p\n",
    "            \n",
    "# answer.sort()\n",
    "# for i in answer:\n",
    "#     print(i)\n",
    "\n",
    "x = int(input())\n",
    "\n",
    "while x != 1:\n",
    "    for i in range(2, x+1):\n",
    "        while x%i == 0:\n",
    "            x = x//i\n",
    "            print(i)"
   ]
  },
  {
   "cell_type": "code",
   "execution_count": null,
   "metadata": {},
   "outputs": [],
   "source": [
    "# 골드바흐의 추측\n",
    "# 발표 - 에라토스테네스의 체\n",
    "# 발표 - stdin이 훨씬 빠름\n",
    "import math\n",
    "from sys import stdin\n",
    "\n",
    "n = 1000000\n",
    "is_prime = [False,False] + [True] * (n-1)\n",
    "# primes=[]\n",
    "\n",
    "for i in range(2,n+1):\n",
    "    if is_prime[i]:\n",
    "        # primes.append(i)\n",
    "        for j in range(2*i, n+1, i):\n",
    "            is_prime[j] = False\n",
    "while True:\n",
    "    n = int(input())\n",
    "    if n == 0:\n",
    "        break\n",
    "    y = \"Goldbach's conjecture is wrong.\"\n",
    "    for i in range(3, n, 2):\n",
    "        if is_prime[i] and is_prime[n-i]:\n",
    "            y = f'{n} = {i} + {n-i}'\n",
    "            break\n",
    "    print(y)\n"
   ]
  },
  {
   "cell_type": "code",
   "execution_count": null,
   "metadata": {},
   "outputs": [],
   "source": [
    "# 부분수열의 합\n",
    "from itertools import combinations\n",
    "\n",
    "n, s = map(int, input().split())\n",
    "a = list(map(int, input().split()))\n",
    "\n",
    "y = 0\n",
    "for i in range(1, len(a)+1):\n",
    "    for c in combinations(a, i):\n",
    "        if sum(c) == s:\n",
    "            y += 1\n",
    "print(y)"
   ]
  },
  {
   "cell_type": "code",
   "execution_count": null,
   "metadata": {},
   "outputs": [],
   "source": [
    "# 로또\n",
    "from sys import stdin\n",
    "from itertools import combinations\n",
    "while True:\n",
    "    a = list(map(int, input().split()))\n",
    "    if len(a) == 1:\n",
    "        break\n",
    "    \n",
    "    k = a[0]\n",
    "    S = a[1:]\n",
    "    \n",
    "    for c in combinations(S, 6):\n",
    "        c= sorted(list(c))\n",
    "        print(' '.join(list(map(str, c))))\n",
    "    print()"
   ]
  },
  {
   "cell_type": "code",
   "execution_count": 24,
   "metadata": {},
   "outputs": [
    {
     "name": "stdout",
     "output_type": "stream",
     "text": [
      "1 2\n",
      "1 3\n",
      "1 4\n",
      "2 3\n",
      "2 4\n",
      "3 4\n"
     ]
    }
   ],
   "source": [
    "# N과 M (2)\n",
    "from itertools import combinations\n",
    "\n",
    "n, m = list(map(int, input().split()))\n",
    "\n",
    "a = [i for i in range(1, n+1)]\n",
    "for c in combinations(a, m):\n",
    "    print(' '.join(map(str, c)))"
   ]
  },
  {
   "cell_type": "code",
   "execution_count": 36,
   "metadata": {},
   "outputs": [
    {
     "name": "stdout",
     "output_type": "stream",
     "text": [
      "3\n"
     ]
    }
   ],
   "source": [
    "# 약수\n",
    "n = int(input())\n",
    "a = []\n",
    "for _ in range(n):\n",
    "    a.append(int(input()))\n",
    "\n",
    "m = max(a)\n",
    "answer = []\n",
    "for i in range(2, m+1):\n",
    "    v = True\n",
    "    r = a[0]%i\n",
    "    for j in a[1:]:\n",
    "        if j%i != r:\n",
    "            v = False\n",
    "            break\n",
    "    if v:\n",
    "        answer.append(str(i))\n",
    "print(' '.join(answer))\n"
   ]
  },
  {
   "cell_type": "code",
   "execution_count": 127,
   "metadata": {},
   "outputs": [],
   "source": [
    "# 검문-틀린 풀이\n",
    "from math import gcd\n",
    "\n",
    "n = int(input())\n",
    "a = []\n",
    "for _ in range(n):\n",
    "    a.append(int(input()))\n",
    "\n",
    "answer = []\n",
    "for i in range(min(a)):\n",
    "    b = [j-i for j in a]\n",
    "    g = b[0]\n",
    "    for j in b[1:]:\n",
    "        g = gcd(g, j)\n",
    "    answer.append(g)\n",
    "\n",
    "answer = list(set(answer))\n",
    "print(' '.join(map(str, sorted(answer))))"
   ]
  },
  {
   "cell_type": "code",
   "execution_count": 132,
   "metadata": {},
   "outputs": [
    {
     "name": "stdout",
     "output_type": "stream",
     "text": [
      "1 2 4 8\n"
     ]
    }
   ],
   "source": [
    "# 검문-긁어온 풀이\n",
    "# 발표 - print(*ans)\n",
    "from math import gcd\n",
    "from math import sqrt\n",
    "\n",
    "n = int(input())\n",
    "ns = sorted(list(int(input()) for _ in range(n)))\n",
    "interval = [ns[i] - ns[i - 1] for i in range(1, n)]\n",
    "ans = list()\n",
    "\n",
    "prev = interval[0]\n",
    "for i in range(1, len(interval)):\n",
    "    prev = gcd(prev, interval[i])\n",
    "\n",
    "for i in range(2, int(sqrt(prev)) + 1): #제곱근까지만 탐색\n",
    "    if prev % i == 0:\n",
    "        ans.append(i)\n",
    "        ans.append(prev//i)\n",
    "ans.append(prev)\n",
    "ans = sorted(list(set(ans))) #중복이 있을수 있으니 제거\n",
    "print(*ans)"
   ]
  },
  {
   "cell_type": "code",
   "execution_count": 79,
   "metadata": {},
   "outputs": [
    {
     "name": "stdout",
     "output_type": "stream",
     "text": [
      "1\n"
     ]
    }
   ],
   "source": [
    "# 수들의 합\n",
    "S = int(input())\n",
    "s = 0\n",
    "for i in range(1, S+2):\n",
    "    s += i\n",
    "    if s > S:\n",
    "        print(i-1)\n",
    "        break"
   ]
  },
  {
   "cell_type": "code",
   "execution_count": 40,
   "metadata": {},
   "outputs": [
    {
     "name": "stdout",
     "output_type": "stream",
     "text": [
      "1\n"
     ]
    }
   ],
   "source": [
    "# 조합\n",
    "n, m = map(int, input().split())\n",
    "a = 1\n",
    "for i in range(0, m):\n",
    "    a = a * (n-i)\n",
    "for i in range(1, m+1):\n",
    "    a = a // i\n",
    "print(a)"
   ]
  },
  {
   "cell_type": "code",
   "execution_count": 41,
   "metadata": {},
   "outputs": [
    {
     "name": "stdout",
     "output_type": "stream",
     "text": [
      "1 2 3\n",
      "1 3 2\n",
      "2 1 3\n",
      "2 3 1\n",
      "3 1 2\n",
      "3 2 1\n"
     ]
    }
   ],
   "source": [
    "# 모든 순열\n",
    "from itertools import permutations\n",
    "\n",
    "n = int(input())\n",
    "a = [str(i) for i in range(1, n+1)]\n",
    "for p in permutations(a, n):\n",
    "    print(' '.join(list(p)))"
   ]
  },
  {
   "cell_type": "code",
   "execution_count": 68,
   "metadata": {},
   "outputs": [
    {
     "name": "stdout",
     "output_type": "stream",
     "text": [
      "1 7\n",
      "1 9\n",
      "7 1\n",
      "7 9\n",
      "9 1\n",
      "9 7\n",
      "9 9\n"
     ]
    }
   ],
   "source": [
    "# N과 M (9)\n",
    "from itertools import permutations\n",
    "\n",
    "n, m = map(int, input().split())\n",
    "a = map(int, input().split())\n",
    "a = sorted(a)\n",
    "\n",
    "l = []\n",
    "for p in permutations(a, m):\n",
    "    l.append(p)\n",
    "l = sorted(list(set(l)))\n",
    "\n",
    "for i in l:\n",
    "    print(' '.join(list(map(str, i))))\n",
    "    "
   ]
  },
  {
   "cell_type": "code",
   "execution_count": 70,
   "metadata": {},
   "outputs": [
    {
     "name": "stdout",
     "output_type": "stream",
     "text": [
      "1 1\n",
      "1 7\n",
      "1 8\n",
      "1 9\n",
      "7 7\n",
      "7 8\n",
      "7 9\n",
      "8 8\n",
      "8 9\n",
      "9 9\n"
     ]
    }
   ],
   "source": [
    "# N과 M (8)\n",
    "from itertools import combinations_with_replacement\n",
    "\n",
    "n, m = map(int, input().split())\n",
    "a = map(int, input().split())\n",
    "a = sorted(a)\n",
    "\n",
    "l = []\n",
    "for c in combinations_with_replacement(a, m):\n",
    "    l.append(sorted(list(c)))\n",
    "\n",
    "for i in l:\n",
    "    print(' '.join(list(map(str, i))))"
   ]
  },
  {
   "cell_type": "code",
   "execution_count": 114,
   "metadata": {},
   "outputs": [],
   "source": [
    "# 최대공약수\n",
    "# 발표 math에 gcd 함수 구현되어 있음\n",
    "import math\n",
    "from itertools import accumulate\n",
    "\n",
    "n = int(input())\n",
    "a = list(map(int, input().split()))\n",
    "m = int(input())\n",
    "b = list(map(int, input().split()))\n",
    "\n",
    "A = list(accumulate(a, lambda x,y: x*y))[-1]\n",
    "B = list(accumulate(b, lambda x,y: x*y))[-1]\n",
    "gcd = math.gcd(A, B)\n",
    "answer = str(gcd)\n",
    "if len(answer)>9:\n",
    "    print(answer[-9:])\n",
    "else:\n",
    "    print(answer)"
   ]
  },
  {
   "cell_type": "code",
   "execution_count": 86,
   "metadata": {},
   "outputs": [
    {
     "name": "stdout",
     "output_type": "stream",
     "text": [
      "3 3\n",
      "1\n",
      "3 5\n",
      "1\n",
      "3 7\n",
      "5 5\n",
      "2\n",
      "5 7\n",
      "1\n",
      "3 97\n",
      "11 89\n",
      "17 83\n",
      "29 71\n",
      "41 59\n",
      "47 53\n",
      "6\n"
     ]
    }
   ],
   "source": [
    "# 골드바흐 파티션\n",
    "# 자꾸 시간초과 뜸\n",
    "\n",
    "import math\n",
    "from sys import stdin\n",
    "input = stdin.readline\n",
    "\n",
    "is_prime = [False, False] + [True for i in range(1000000-1)]\n",
    "for i in range(2, len(is_prime)):\n",
    "    if is_prime[i]:\n",
    "        for j in range(2*i, 1000001, i):\n",
    "            is_prime[j] = False\n",
    "\n",
    "n = int(input())\n",
    "for _ in range(n):\n",
    "    m = int(input())\n",
    "    answer = 0\n",
    "    for i in range(3, m//2+1, 2):\n",
    "        if is_prime[i] and is_prime[m-i]:\n",
    "            answer += 1\n",
    "    print(answer)"
   ]
  },
  {
   "cell_type": "code",
   "execution_count": 103,
   "metadata": {},
   "outputs": [
    {
     "name": "stdout",
     "output_type": "stream",
     "text": [
      "24\n"
     ]
    }
   ],
   "source": [
    "# 숨바꼭질 6\n",
    "def gcd(a, b):\n",
    "    while b:\n",
    "        mod = b\n",
    "        b = a%b\n",
    "        a = mod\n",
    "    return a\n",
    "\n",
    "n, s = map(int, input().split())\n",
    "bs = list(map(int, input().split()))\n",
    "\n",
    "a = []\n",
    "for b in bs:\n",
    "    a.append(abs(b-s))\n",
    "a = list(set(a))\n",
    "\n",
    "answer = 1\n",
    "d = min(a)\n",
    "for i in range(len(a)):\n",
    "    d = gcd(a[i], d)\n",
    "\n",
    "print(d)"
   ]
  }
 ],
 "metadata": {
  "kernelspec": {
   "display_name": "Python 3",
   "language": "python",
   "name": "python3"
  },
  "language_info": {
   "codemirror_mode": {
    "name": "ipython",
    "version": 3
   },
   "file_extension": ".py",
   "mimetype": "text/x-python",
   "name": "python",
   "nbconvert_exporter": "python",
   "pygments_lexer": "ipython3",
   "version": "3.10.2"
  },
  "orig_nbformat": 4,
  "vscode": {
   "interpreter": {
    "hash": "199ee1b0f306c2646240c05e05059b82838874f1323ed3dd38276fbb341b6235"
   }
  }
 },
 "nbformat": 4,
 "nbformat_minor": 2
}

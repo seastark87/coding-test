{
 "cells": [
  {
   "attachments": {},
   "cell_type": "markdown",
   "metadata": {},
   "source": [
    "# week5 DFS/BFS 응용(230221~)"
   ]
  },
  {
   "cell_type": "code",
   "execution_count": 11,
   "metadata": {},
   "outputs": [
    {
     "name": "stdout",
     "output_type": "stream",
     "text": [
      "-1\n"
     ]
    }
   ],
   "source": [
    "# 토마토 # 7576번\n",
    "from collections import deque\n",
    "import sys\n",
    "# input = sys.stdin.readline\n",
    "\n",
    "def solution(m, n, maps):\n",
    "    moves = [\n",
    "        (1, 0),\n",
    "        (-1, 0),\n",
    "        (0, 1),\n",
    "        (0, -1),\n",
    "    ]\n",
    "    visited = [[False]*m for i in range(n)]\n",
    "    # queue\n",
    "    queue = deque()\n",
    "    # 익어 있는 토마토 넣기 (x, y) form\n",
    "    for i in range(n):\n",
    "        for j in range(m):\n",
    "            if maps[i][j] == 1:\n",
    "                queue.append((i, j))\n",
    "    # bfs 수행\n",
    "    while queue:\n",
    "        x, y = queue.popleft()\n",
    "        if not visited[x][y]:\n",
    "            visited[x][y] = True        \n",
    "            for move in moves:\n",
    "                n_x, n_y = x+move[0], y+move[1]\n",
    "                if 0<=n_x<n and 0<=n_y<m and maps[n_x][n_y]==0 and not visited[n_x][n_y]:\n",
    "                    queue.append((n_x, n_y))\n",
    "                    maps[n_x][n_y] = maps[x][y] + 1\n",
    "    # 정답 찾기\n",
    "    answer = 0\n",
    "    for i in range(n):\n",
    "        for j in range(m):\n",
    "            if maps[i][j] == 0:\n",
    "                return -1\n",
    "            else:\n",
    "                answer = max(answer, maps[i][j])\n",
    "    return answer-1\n",
    "\n",
    "m, n = map(int, input().split())\n",
    "maps = [list(map(int, input().split())) for _ in range(n)]\n",
    "print(solution(m, n, maps))"
   ]
  },
  {
   "cell_type": "code",
   "execution_count": 22,
   "metadata": {},
   "outputs": [
    {
     "name": "stdout",
     "output_type": "stream",
     "text": [
      "[[1, -1, 9, 10, 11, 12], [2, -1, 8, -1, 12, -1], [3, -1, 7, -1, 13, 14], [4, 5, 6, -1, 14, 15]]\n"
     ]
    }
   ],
   "source": [
    "# 미로 탐색 #2178\n",
    "from collections import deque\n",
    "import sys\n",
    "# input = sys.stdin.readline\n",
    "\n",
    "def solution(n, m , maps):\n",
    "    moves = [\n",
    "        (1, 0),\n",
    "        (-1, 0),\n",
    "        (0, 1),\n",
    "        (0, -1),\n",
    "    ]\n",
    "    visited = [[False for i in range(m)] for j in range(n)]\n",
    "    distance = [[-1 for i in range(m)] for j in range(n)]\n",
    "    # 큐 초기화\n",
    "    queue = deque()\n",
    "    queue.append((0, 0))\n",
    "    visited[0][0] = True\n",
    "    distance[0][0] = 1\n",
    "    # bfs 수행\n",
    "    while queue:\n",
    "        x, y = queue.popleft()\n",
    "        for move in moves:\n",
    "            n_x, n_y = x+move[0], y+move[1]\n",
    "            if 0<=n_x<n and 0<=n_y<m and maps[n_x][n_y]==1 and not visited[n_x][n_y]:\n",
    "                queue.append((n_x, n_y))\n",
    "                visited[n_x][n_y] = True\n",
    "                distance[n_x][n_y] = distance[x][y]+1\n",
    "    return distance[-1][-1]\n",
    "\n",
    "n, m = map(int, input().split())\n",
    "maps = [[int(i) for i in input()] for j in range(n)]\n",
    "print(solution(n, m ,maps))"
   ]
  },
  {
   "cell_type": "code",
   "execution_count": 1,
   "metadata": {},
   "outputs": [
    {
     "name": "stdout",
     "output_type": "stream",
     "text": [
      "4 3\n"
     ]
    }
   ],
   "source": [
    "# 적록색약 #10026\n",
    "from collections import deque\n",
    "import sys\n",
    "from copy import deepcopy\n",
    "# input = sys.stdin.readline\n",
    "# bfs, dfs 둘 중 어떤 풀이로 풀어야 하는가?\n",
    "# 둘 다 가능할 것으로 예상됨\n",
    "\n",
    "\n",
    "def bfs_solution(n, maps):\n",
    "    moves = [\n",
    "        (1, 0),\n",
    "        (-1, 0),\n",
    "        (0, 1),\n",
    "        (0, -1),\n",
    "    ]\n",
    "    visited = [[False]*n for _ in range(n)]\n",
    "    answer = 0\n",
    "    for i in range(n):\n",
    "        for j in range(n): \n",
    "            if not visited[i][j]:\n",
    "                # queue 초기화\n",
    "                queue = deque()\n",
    "                queue.append((i, j))\n",
    "                visited[i][j] = True\n",
    "                answer += 1\n",
    "                # bfs\n",
    "                while queue:\n",
    "                    x, y = queue.popleft()\n",
    "                    for move in moves:\n",
    "                        n_x, n_y = x+move[0], y+move[1]\n",
    "                        if 0<=n_x<n and 0<=n_y<n and not visited[n_x][n_y] and maps[n_x][n_y] == maps[x][y]:\n",
    "                            queue.append((n_x, n_y))\n",
    "                            visited[n_x][n_y] = True\n",
    "    return answer\n",
    "\n",
    "def dfs_solution(n, maps):\n",
    "    moves = [\n",
    "        (1, 0),\n",
    "        (-1, 0),\n",
    "        (0, 1),\n",
    "        (0, -1),\n",
    "    ]\n",
    "    visited = [[False]*n for _ in range(n)]\n",
    "    answer = 0\n",
    "    for i in range(n):\n",
    "        for j in range(n): \n",
    "            if not visited[i][j]:\n",
    "                # stack 초기화\n",
    "                stack = deque()\n",
    "                stack.append((i, j))\n",
    "                visited[i][j] = True\n",
    "                answer += 1\n",
    "                # dfs\n",
    "                while stack:\n",
    "                    x, y = stack.pop()\n",
    "                    for move in moves:\n",
    "                        n_x, n_y = x+move[0], y+move[1]\n",
    "                        if 0<=n_x<n and 0<=n_y<n and not visited[n_x][n_y] and maps[n_x][n_y] == maps[x][y]:\n",
    "                            stack.append((n_x, n_y))\n",
    "                            visited[n_x][n_y] = True\n",
    "    return answer\n",
    "\n",
    "n = int(input())\n",
    "maps = [[i for i in input()] for j in range(n)]\n",
    "rb_maps = deepcopy(maps)\n",
    "for x in range(n):\n",
    "    for y in range(n):\n",
    "        if rb_maps[x][y] == 'G':\n",
    "            rb_maps[x][y] = 'R'\n",
    "print(dfs_solution(n, maps), dfs_solution(n, rb_maps))"
   ]
  },
  {
   "attachments": {},
   "cell_type": "markdown",
   "metadata": {},
   "source": [
    "# 암기할 코드 테스트"
   ]
  },
  {
   "attachments": {},
   "cell_type": "markdown",
   "metadata": {},
   "source": [
    "## 시험"
   ]
  },
  {
   "cell_type": "code",
   "execution_count": null,
   "metadata": {},
   "outputs": [],
   "source": []
  },
  {
   "attachments": {},
   "cell_type": "markdown",
   "metadata": {},
   "source": [
    "## 정답"
   ]
  },
  {
   "cell_type": "code",
   "execution_count": null,
   "metadata": {},
   "outputs": [],
   "source": []
  }
 ],
 "metadata": {
  "kernelspec": {
   "display_name": "Python 3",
   "language": "python",
   "name": "python3"
  },
  "language_info": {
   "codemirror_mode": {
    "name": "ipython",
    "version": 3
   },
   "file_extension": ".py",
   "mimetype": "text/x-python",
   "name": "python",
   "nbconvert_exporter": "python",
   "pygments_lexer": "ipython3",
   "version": "3.10.2"
  },
  "orig_nbformat": 4,
  "vscode": {
   "interpreter": {
    "hash": "199ee1b0f306c2646240c05e05059b82838874f1323ed3dd38276fbb341b6235"
   }
  }
 },
 "nbformat": 4,
 "nbformat_minor": 2
}

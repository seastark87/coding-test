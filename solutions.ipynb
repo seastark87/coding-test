{
 "cells": [
  {
   "attachments": {},
   "cell_type": "markdown",
   "metadata": {},
   "source": [
    "# week5 DFS/BFS 응용(230221~)"
   ]
  },
  {
   "cell_type": "code",
   "execution_count": 11,
   "metadata": {},
   "outputs": [
    {
     "name": "stdout",
     "output_type": "stream",
     "text": [
      "-1\n"
     ]
    }
   ],
   "source": [
    "# 토마토 # 7576번\n",
    "from collections import deque\n",
    "import sys\n",
    "# input = sys.stdin.readline\n",
    "\n",
    "def solution(m, n, maps):\n",
    "    moves = [\n",
    "        (1, 0),\n",
    "        (-1, 0),\n",
    "        (0, 1),\n",
    "        (0, -1),\n",
    "    ]\n",
    "    visited = [[False]*m for i in range(n)]\n",
    "    # queue\n",
    "    queue = deque()\n",
    "    # 익어 있는 토마토 넣기 (x, y) form\n",
    "    for i in range(n):\n",
    "        for j in range(m):\n",
    "            if maps[i][j] == 1:\n",
    "                queue.append((i, j))\n",
    "    # bfs 수행\n",
    "    while queue:\n",
    "        x, y = queue.popleft()\n",
    "        if not visited[x][y]:\n",
    "            visited[x][y] = True        \n",
    "            for move in moves:\n",
    "                n_x, n_y = x+move[0], y+move[1]\n",
    "                if 0<=n_x<n and 0<=n_y<m and maps[n_x][n_y]==0 and not visited[n_x][n_y]:\n",
    "                    queue.append((n_x, n_y))\n",
    "                    maps[n_x][n_y] = maps[x][y] + 1\n",
    "    # 정답 찾기\n",
    "    answer = 0\n",
    "    for i in range(n):\n",
    "        for j in range(m):\n",
    "            if maps[i][j] == 0:\n",
    "                return -1\n",
    "            else:\n",
    "                answer = max(answer, maps[i][j])\n",
    "    return answer-1\n",
    "\n",
    "m, n = map(int, input().split())\n",
    "maps = [list(map(int, input().split())) for _ in range(n)]\n",
    "print(solution(m, n, maps))"
   ]
  },
  {
   "cell_type": "code",
   "execution_count": 22,
   "metadata": {},
   "outputs": [
    {
     "name": "stdout",
     "output_type": "stream",
     "text": [
      "[[1, -1, 9, 10, 11, 12], [2, -1, 8, -1, 12, -1], [3, -1, 7, -1, 13, 14], [4, 5, 6, -1, 14, 15]]\n"
     ]
    }
   ],
   "source": [
    "# 미로 탐색 #2178\n",
    "from collections import deque\n",
    "import sys\n",
    "# input = sys.stdin.readline\n",
    "\n",
    "def solution(n, m , maps):\n",
    "    moves = [\n",
    "        (1, 0),\n",
    "        (-1, 0),\n",
    "        (0, 1),\n",
    "        (0, -1),\n",
    "    ]\n",
    "    visited = [[False for i in range(m)] for j in range(n)]\n",
    "    distance = [[-1 for i in range(m)] for j in range(n)]\n",
    "    # 큐 초기화\n",
    "    queue = deque()\n",
    "    queue.append((0, 0))\n",
    "    visited[0][0] = True\n",
    "    distance[0][0] = 1\n",
    "    # bfs 수행\n",
    "    while queue:\n",
    "        x, y = queue.popleft()\n",
    "        for move in moves:\n",
    "            n_x, n_y = x+move[0], y+move[1]\n",
    "            if 0<=n_x<n and 0<=n_y<m and maps[n_x][n_y]==1 and not visited[n_x][n_y]:\n",
    "                queue.append((n_x, n_y))\n",
    "                visited[n_x][n_y] = True\n",
    "                distance[n_x][n_y] = distance[x][y]+1\n",
    "    return distance[-1][-1]\n",
    "\n",
    "n, m = map(int, input().split())\n",
    "maps = [[int(i) for i in input()] for j in range(n)]\n",
    "print(solution(n, m ,maps))"
   ]
  },
  {
   "cell_type": "code",
   "execution_count": 1,
   "metadata": {},
   "outputs": [
    {
     "name": "stdout",
     "output_type": "stream",
     "text": [
      "4 3\n"
     ]
    }
   ],
   "source": [
    "# 적록색약 #10026\n",
    "from collections import deque\n",
    "import sys\n",
    "from copy import deepcopy\n",
    "# input = sys.stdin.readline\n",
    "# bfs, dfs 둘 중 어떤 풀이로 풀어야 하는가?\n",
    "# 둘 다 가능할 것으로 예상됨\n",
    "\n",
    "\n",
    "def bfs_solution(n, maps):\n",
    "    moves = [\n",
    "        (1, 0),\n",
    "        (-1, 0),\n",
    "        (0, 1),\n",
    "        (0, -1),\n",
    "    ]\n",
    "    visited = [[False]*n for _ in range(n)]\n",
    "    answer = 0\n",
    "    for i in range(n):\n",
    "        for j in range(n): \n",
    "            if not visited[i][j]:\n",
    "                # queue 초기화\n",
    "                queue = deque()\n",
    "                queue.append((i, j))\n",
    "                visited[i][j] = True\n",
    "                answer += 1\n",
    "                # bfs\n",
    "                while queue:\n",
    "                    x, y = queue.popleft()\n",
    "                    for move in moves:\n",
    "                        n_x, n_y = x+move[0], y+move[1]\n",
    "                        if 0<=n_x<n and 0<=n_y<n and not visited[n_x][n_y] and maps[n_x][n_y] == maps[x][y]:\n",
    "                            queue.append((n_x, n_y))\n",
    "                            visited[n_x][n_y] = True\n",
    "    return answer\n",
    "\n",
    "def dfs_solution(n, maps):\n",
    "    moves = [\n",
    "        (1, 0),\n",
    "        (-1, 0),\n",
    "        (0, 1),\n",
    "        (0, -1),\n",
    "    ]\n",
    "    visited = [[False]*n for _ in range(n)]\n",
    "    answer = 0\n",
    "    for i in range(n):\n",
    "        for j in range(n): \n",
    "            if not visited[i][j]:\n",
    "                # stack 초기화\n",
    "                stack = deque()\n",
    "                stack.append((i, j))\n",
    "                visited[i][j] = True\n",
    "                answer += 1\n",
    "                # dfs\n",
    "                while stack:\n",
    "                    x, y = stack.pop()\n",
    "                    for move in moves:\n",
    "                        n_x, n_y = x+move[0], y+move[1]\n",
    "                        if 0<=n_x<n and 0<=n_y<n and not visited[n_x][n_y] and maps[n_x][n_y] == maps[x][y]:\n",
    "                            stack.append((n_x, n_y))\n",
    "                            visited[n_x][n_y] = True\n",
    "    return answer\n",
    "\n",
    "n = int(input())\n",
    "maps = [[i for i in input()] for j in range(n)]\n",
    "rb_maps = deepcopy(maps)\n",
    "for x in range(n):\n",
    "    for y in range(n):\n",
    "        if rb_maps[x][y] == 'G':\n",
    "            rb_maps[x][y] = 'R'\n",
    "print(dfs_solution(n, maps), dfs_solution(n, rb_maps))"
   ]
  },
  {
   "cell_type": "code",
   "execution_count": 14,
   "metadata": {},
   "outputs": [
    {
     "name": "stdout",
     "output_type": "stream",
     "text": [
      "-1\n"
     ]
    }
   ],
   "source": [
    "# 스타트링크 #5014 #bfs\n",
    "from collections import deque\n",
    "\n",
    "def solve(f, s, g, u, d):\n",
    "    # dfs인가 bfs인가?\n",
    "    # bfs가 불필요한 계산 방지함\n",
    "    moves = [u, -d]\n",
    "    visited = [False]*f\n",
    "    distance = [-1]*f\n",
    "    queue = deque()\n",
    "    queue.append(s-1)\n",
    "    distance[s-1] = 0\n",
    "    visited[s-1] = True\n",
    "    while queue:\n",
    "        floor = queue.popleft()\n",
    "        for move in moves:\n",
    "            n_floor = floor + move\n",
    "            if n_floor<0 or n_floor>f-1:\n",
    "                continue\n",
    "            if not visited[n_floor]:\n",
    "                queue.append(n_floor)\n",
    "                distance[n_floor] = distance[floor] + 1\n",
    "                visited[n_floor] = True\n",
    "    answer = distance[g-1]\n",
    "    # 다익스트라인가?\n",
    "    # answer = None\n",
    "    return answer\n",
    "\n",
    "f, s, g, u, d = map(int, input().split())\n",
    "answer = solve(f, s, g, u, d)\n",
    "if answer == -1:\n",
    "    print(\"use the stairs\")\n",
    "else:\n",
    "    print(answer)"
   ]
  },
  {
   "cell_type": "code",
   "execution_count": 18,
   "metadata": {},
   "outputs": [
    {
     "name": "stdout",
     "output_type": "stream",
     "text": [
      "[10000000, 0, 10000000, 1, 10000000, 10000000, 10000000, 10000000, 10000000, 10000000, 10000000]\n",
      "[10000000, 0, 10000000, 1, 10000000, 2, 10000000, 10000000, 10000000, 10000000, 10000000]\n",
      "[10000000, 0, 2, 1, 10000000, 2, 10000000, 10000000, 10000000, 10000000, 10000000]\n",
      "[10000000, 0, 2, 1, 3, 2, 10000000, 10000000, 10000000, 10000000, 10000000]\n",
      "[10000000, 0, 2, 1, 3, 2, 10000000, 3, 10000000, 10000000, 10000000]\n",
      "[10000000, 0, 2, 1, 3, 2, 4, 3, 10000000, 10000000, 10000000]\n",
      "[10000000, 0, 2, 1, 3, 2, 4, 3, 10000000, 4, 10000000]\n",
      "[10000000, 0, 2, 1, 3, 2, 4, 3, 5, 4, 10000000]\n",
      "[10000000, 0, 2, 1, 3, 2, 4, 3, 5, 4, 6]\n",
      "6\n"
     ]
    }
   ],
   "source": [
    "# 스타트링크 #5014 #다익스트라\n",
    "from collections import deque\n",
    "import heapq\n",
    "def solve(f, s, g, u, d):\n",
    "    # 다익스트라인가?\n",
    "    moves = [u, -d]\n",
    "    distance = [int(1e7) for i in range(f+1)]\n",
    "    q = []\n",
    "    q.append((0, s))\n",
    "    distance[s] = 0\n",
    "    while q:\n",
    "        dist, floor = heapq.heappop(q)\n",
    "        for move in moves:\n",
    "            n_floor = floor + move\n",
    "            if n_floor <= 0 or n_floor >f:\n",
    "                continue\n",
    "            n_dist = dist+1\n",
    "            if n_dist < distance[n_floor]:\n",
    "                distance[n_floor] = n_dist\n",
    "                print(distance)\n",
    "                heapq.heappush(q, (n_dist, n_floor))\n",
    "    return distance[g]\n",
    "\n",
    "f, s, g, u, d = map(int, input().split())\n",
    "answer = solve(f, s, g, u, d)\n",
    "if answer == int(1e7):\n",
    "    print(\"use the stairs\")\n",
    "else:\n",
    "    print(answer)"
   ]
  },
  {
   "cell_type": "code",
   "execution_count": 30,
   "metadata": {},
   "outputs": [
    {
     "name": "stdout",
     "output_type": "stream",
     "text": [
      "4\n"
     ]
    }
   ],
   "source": [
    "# 최소 비용 구하기 #1916\n",
    "import heapq\n",
    "import sys\n",
    "input = sys.stdin.readline\n",
    "\n",
    "def solution(n, m, adj_list, start, goal):\n",
    "    # 다익스트라\n",
    "    costs = [int(1e8)]*(n+1)\n",
    "    costs[start] = 0\n",
    "    q = []\n",
    "    q.append((0, start))\n",
    "    while q:\n",
    "        cost, city = heapq.heappop(q)\n",
    "        if city == goal:\n",
    "            break\n",
    "        for bus in adj_list[city]:\n",
    "            n_city = bus[0]\n",
    "            n_cost = cost + bus[1]\n",
    "            if n_cost < costs[n_city]:\n",
    "                heapq.heappush(q, (n_cost, n_city))\n",
    "                costs[n_city] = n_cost\n",
    "    return costs[goal]\n",
    "\n",
    "n = int(input())\n",
    "m = int(input())\n",
    "adj_list = [[] for i in range(n+1)]\n",
    "for _ in range(m):\n",
    "    s, e, c = map(int, input().split())\n",
    "    adj_list[s].append((e, c))\n",
    "start, goal = map(int, input().split())\n",
    "print(solution(n, m, adj_list, start, goal))"
   ]
  },
  {
   "cell_type": "code",
   "execution_count": 28,
   "metadata": {},
   "outputs": [
    {
     "data": {
      "text/plain": [
       "[[],\n",
       " [(2, 2), (3, 3), (4, 1), (5, 10)],\n",
       " [(4, 2)],\n",
       " [(4, 1), (5, 1)],\n",
       " [(5, 3)],\n",
       " []]"
      ]
     },
     "execution_count": 28,
     "metadata": {},
     "output_type": "execute_result"
    }
   ],
   "source": [
    "adj_list"
   ]
  },
  {
   "cell_type": "code",
   "execution_count": 2,
   "metadata": {},
   "outputs": [],
   "source": [
    "# 녹색 옷 입은 애가 젤다지? # 4485 #bfs 풀이\n",
    "from collections import deque\n",
    "import sys\n",
    "# input = sys.stdin.readline\n",
    "\n",
    "def solution(n, maps):\n",
    "    moves = [\n",
    "        (1, 0),\n",
    "        (-1, 0),\n",
    "        (0, 1),\n",
    "        (0, -1),\n",
    "    ]\n",
    "    # dfs or bfs 상관 없음 dfs로 구현해보자\n",
    "    costs = [[int(1e9) for i in range(n)] for j in range(n)]\n",
    "    queue = deque()\n",
    "    queue.append((0, 0))\n",
    "    costs[0][0] = maps[0][0]\n",
    "    while queue:\n",
    "        x, y = queue.popleft()\n",
    "        for move in moves:\n",
    "            n_x, n_y = x+move[0], y+move[1]\n",
    "            if 0<=n_x<n and 0<=n_y<n:\n",
    "                if maps[n_x][n_y]+costs[x][y] < costs[n_x][n_y]:\n",
    "                    queue.append((n_x, n_y))\n",
    "                    costs[n_x][n_y] = maps[n_x][n_y]+costs[x][y]\n",
    "    return costs[-1][-1]\n",
    "\n",
    "k = 0\n",
    "while True:\n",
    "    n = int(input())\n",
    "    if n == 0:\n",
    "        break\n",
    "    k+= 1\n",
    "    maps = [list(map(int, input().split())) for i in range(n)]\n",
    "    cost = solution(n, maps)\n",
    "    print(f'Problem {k}: {cost}')\n",
    "\n"
   ]
  },
  {
   "cell_type": "code",
   "execution_count": 5,
   "metadata": {},
   "outputs": [
    {
     "name": "stdout",
     "output_type": "stream",
     "text": [
      "Problem 1: 20\n"
     ]
    }
   ],
   "source": [
    "# 녹색 옷 입은 애가 젤다지? # 4485 #bfs 풀이\n",
    "from collections import deque\n",
    "import sys\n",
    "import heapq as hq\n",
    "# input = sys.stdin.readline\n",
    "\n",
    "def solution(n, maps):\n",
    "    moves = [\n",
    "        (1, 0),\n",
    "        (-1, 0),\n",
    "        (0, 1),\n",
    "        (0, -1),\n",
    "    ]\n",
    "    # dfs or bfs 상관 없음 dfs로 구현해보자\n",
    "    costs = [[int(1e9) for i in range(n)] for j in range(n)]\n",
    "    costs[0][0] = maps[0][0]\n",
    "    q = []\n",
    "    for i in range(n):\n",
    "        for j in range(n):\n",
    "            q.append((costs[i][j], i, j))\n",
    "    hq.heapify(q)\n",
    "\n",
    "    while q:\n",
    "        cost, x, y = hq.heappop(q)\n",
    "        for move in moves:\n",
    "            n_x, n_y = x+move[0], y+move[1]\n",
    "            if not (0<=n_x<n and 0<=n_y<n):\n",
    "                continue\n",
    "            n_cost = maps[n_x][n_y]+cost\n",
    "            if n_cost < costs[n_x][n_y]:\n",
    "                hq.heappush(q, (n_cost, n_x, n_y))\n",
    "                costs[n_x][n_y] = n_cost\n",
    "    return costs[-1][-1]\n",
    "\n",
    "k = 0\n",
    "while True:\n",
    "    n = int(input())\n",
    "    if n == 0:\n",
    "        break\n",
    "    k+= 1\n",
    "    maps = [list(map(int, input().split())) for i in range(n)]\n",
    "    cost = solution(n, maps)\n",
    "    print(f'Problem {k}: {cost}')"
   ]
  },
  {
   "cell_type": "code",
   "execution_count": null,
   "metadata": {},
   "outputs": [],
   "source": []
  },
  {
   "attachments": {},
   "cell_type": "markdown",
   "metadata": {},
   "source": [
    "# 암기할 코드 테스트"
   ]
  },
  {
   "attachments": {},
   "cell_type": "markdown",
   "metadata": {},
   "source": [
    "## 시험"
   ]
  },
  {
   "cell_type": "code",
   "execution_count": null,
   "metadata": {},
   "outputs": [],
   "source": []
  },
  {
   "attachments": {},
   "cell_type": "markdown",
   "metadata": {},
   "source": [
    "## 정답"
   ]
  },
  {
   "cell_type": "code",
   "execution_count": null,
   "metadata": {},
   "outputs": [],
   "source": []
  }
 ],
 "metadata": {
  "kernelspec": {
   "display_name": "Python 3",
   "language": "python",
   "name": "python3"
  },
  "language_info": {
   "codemirror_mode": {
    "name": "ipython",
    "version": 3
   },
   "file_extension": ".py",
   "mimetype": "text/x-python",
   "name": "python",
   "nbconvert_exporter": "python",
   "pygments_lexer": "ipython3",
   "version": "3.10.2"
  },
  "orig_nbformat": 4,
  "vscode": {
   "interpreter": {
    "hash": "199ee1b0f306c2646240c05e05059b82838874f1323ed3dd38276fbb341b6235"
   }
  }
 },
 "nbformat": 4,
 "nbformat_minor": 2
}
